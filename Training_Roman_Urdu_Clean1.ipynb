{
  "cells": [
    {
      "cell_type": "markdown",
      "metadata": {
        "id": "BzryUHmEZNnw"
      },
      "source": [
        "## Installing Transformers and Sentencepiece"
      ]
    },
    {
      "cell_type": "code",
      "execution_count": null,
      "metadata": {
        "colab": {
          "base_uri": "https://localhost:8080/"
        },
        "id": "YbqMFrr-ZKcZ",
        "outputId": "1a83a0c2-7bd5-409e-95b6-2c0a5d8da31c"
      },
      "outputs": [
        {
          "output_type": "stream",
          "name": "stdout",
          "text": [
            "Looking in indexes: https://pypi.org/simple, https://us-python.pkg.dev/colab-wheels/public/simple/\n",
            "Requirement already satisfied: transformers in /usr/local/lib/python3.7/dist-packages (4.21.0)\n",
            "Requirement already satisfied: numpy>=1.17 in /usr/local/lib/python3.7/dist-packages (from transformers) (1.21.6)\n",
            "Requirement already satisfied: huggingface-hub<1.0,>=0.1.0 in /usr/local/lib/python3.7/dist-packages (from transformers) (0.8.1)\n",
            "Requirement already satisfied: packaging>=20.0 in /usr/local/lib/python3.7/dist-packages (from transformers) (21.3)\n",
            "Requirement already satisfied: tqdm>=4.27 in /usr/local/lib/python3.7/dist-packages (from transformers) (4.64.0)\n",
            "Requirement already satisfied: tokenizers!=0.11.3,<0.13,>=0.11.1 in /usr/local/lib/python3.7/dist-packages (from transformers) (0.12.1)\n",
            "Requirement already satisfied: requests in /usr/local/lib/python3.7/dist-packages (from transformers) (2.23.0)\n",
            "Requirement already satisfied: regex!=2019.12.17 in /usr/local/lib/python3.7/dist-packages (from transformers) (2022.6.2)\n",
            "Requirement already satisfied: filelock in /usr/local/lib/python3.7/dist-packages (from transformers) (3.7.1)\n",
            "Requirement already satisfied: importlib-metadata in /usr/local/lib/python3.7/dist-packages (from transformers) (4.12.0)\n",
            "Requirement already satisfied: pyyaml>=5.1 in /usr/local/lib/python3.7/dist-packages (from transformers) (6.0)\n",
            "Requirement already satisfied: typing-extensions>=3.7.4.3 in /usr/local/lib/python3.7/dist-packages (from huggingface-hub<1.0,>=0.1.0->transformers) (4.1.1)\n",
            "Requirement already satisfied: pyparsing!=3.0.5,>=2.0.2 in /usr/local/lib/python3.7/dist-packages (from packaging>=20.0->transformers) (3.0.9)\n",
            "Requirement already satisfied: zipp>=0.5 in /usr/local/lib/python3.7/dist-packages (from importlib-metadata->transformers) (3.8.1)\n",
            "Requirement already satisfied: certifi>=2017.4.17 in /usr/local/lib/python3.7/dist-packages (from requests->transformers) (2022.6.15)\n",
            "Requirement already satisfied: urllib3!=1.25.0,!=1.25.1,<1.26,>=1.21.1 in /usr/local/lib/python3.7/dist-packages (from requests->transformers) (1.24.3)\n",
            "Requirement already satisfied: chardet<4,>=3.0.2 in /usr/local/lib/python3.7/dist-packages (from requests->transformers) (3.0.4)\n",
            "Requirement already satisfied: idna<3,>=2.5 in /usr/local/lib/python3.7/dist-packages (from requests->transformers) (2.10)\n",
            "Looking in indexes: https://pypi.org/simple, https://us-python.pkg.dev/colab-wheels/public/simple/\n",
            "Requirement already satisfied: sentencepiece in /usr/local/lib/python3.7/dist-packages (0.1.96)\n"
          ]
        }
      ],
      "source": [
        "#install transformers \n",
        "!pip install transformers\n",
        "!pip install sentencepiece"
      ]
    },
    {
      "cell_type": "markdown",
      "metadata": {
        "id": "BgUXxg2yZTrD"
      },
      "source": [
        "## Necessary imports"
      ]
    },
    {
      "cell_type": "code",
      "execution_count": null,
      "metadata": {
        "id": "Tma0PyY1S5yF"
      },
      "outputs": [],
      "source": [
        "import pandas as pd\n",
        "import matplotlib.pyplot as plt\n",
        "import numpy as np\n",
        "import torch\n",
        "from transformers import AutoTokenizer, XLMRobertaForSequenceClassification, AdamW, get_linear_schedule_with_warmup, get_scheduler\n",
        "from torch.utils.data import TensorDataset, random_split, DataLoader, RandomSampler, SequentialSampler\n",
        "import random\n",
        "from tqdm.auto import tqdm"
      ]
    },
    {
      "cell_type": "markdown",
      "source": [
        "#Import Dataset"
      ],
      "metadata": {
        "id": "C4dOnri8pzzp"
      }
    },
    {
      "cell_type": "code",
      "source": [
        "clean1 = pd.read_csv(\"/content/clean_dataset1.csv\")"
      ],
      "metadata": {
        "id": "wKOnHQc7p4a4"
      },
      "execution_count": null,
      "outputs": []
    },
    {
      "cell_type": "markdown",
      "metadata": {
        "id": "AvB_pS4vTVCJ"
      },
      "source": [
        "## 1.2 - Visualizing the data of Dataset"
      ]
    },
    {
      "cell_type": "code",
      "execution_count": null,
      "metadata": {
        "colab": {
          "base_uri": "https://localhost:8080/",
          "height": 314
        },
        "id": "G-hDSaMETSFu",
        "outputId": "c5fef27d-aa29-447e-8b95-9ced987a4a85"
      },
      "outputs": [
        {
          "output_type": "display_data",
          "data": {
            "text/plain": [
              "<Figure size 432x288 with 1 Axes>"
            ],
            "image/png": "[encoded data removed]"
          },
          "metadata": {
            "needs_background": "light"
          }
        },
        {
          "output_type": "stream",
          "name": "stdout",
          "text": [
            "Positive 13949, Negative 9251, Neutral 3669\n"
          ]
        }
      ],
      "source": [
        "y = list(clean1[\"Sentiment\"].value_counts()) # getting frequency of all the 2 sentiments\n",
        "plt.plot()\n",
        "plt.bar([\"Positive\", \"Negative\", \"Neutral\"], y) # plottign frequency against labels in a bar chart\n",
        "plt.xlabel(\"Sentiment POS/NEG/NEU\")\n",
        "plt.ylabel(\"Frequency\")\n",
        "plt.title(\"Sentiment frequency of all Urdu Datasets\")\n",
        "plt.show()\n",
        "\n",
        "print(\"Positive {}, Negative {}, Neutral {}\".format(y[0], y[1], y[2]))"
      ]
    },
    {
      "cell_type": "markdown",
      "metadata": {
        "id": "e83KK8X6ThTl"
      },
      "source": [
        "## Importing Tokenizer"
      ]
    },
    {
      "cell_type": "code",
      "execution_count": null,
      "metadata": {
        "id": "B60HZIhZTjau"
      },
      "outputs": [],
      "source": [
        "# Download the tokenizer for the XLM-Robert `base` model.\n",
        "xlmr_tokenizer = AutoTokenizer.from_pretrained(\"xlm-roberta-base\")"
      ]
    },
    {
      "cell_type": "markdown",
      "metadata": {
        "id": "EgVFE32kTyaf"
      },
      "source": [
        "## Sample tokenization of text (and checking data)"
      ]
    },
    {
      "cell_type": "code",
      "execution_count": null,
      "metadata": {
        "colab": {
          "base_uri": "https://localhost:8080/"
        },
        "id": "XnurSFoLTxhr",
        "outputId": "f00ccf52-5e59-473d-f39e-0b526812e24f"
      },
      "outputs": [
        {
          "output_type": "stream",
          "name": "stdout",
          "text": [
            "sample text =  aram sy pocket may aa jta hai aur quality b achi hai\n",
            "XLMR Roberta covert sample text into following tokens \n",
            "  ['▁a', 'ram', '▁sy', '▁pocket', '▁may', '▁a', 'a', '▁j', 'ta', '▁hai', '▁aur', '▁quality', '▁b', '▁a', 'chi', '▁hai']\n"
          ]
        }
      ],
      "source": [
        "#xlmr_tokenizer creates tokens based on subword\n",
        "print(\"sample text = \", clean1.Text[1])\n",
        "tokens = xlmr_tokenizer.tokenize(clean1.Text[1])\n",
        "print(\"XLMR Roberta covert sample text into following tokens \\n \", tokens)"
      ]
    },
    {
      "cell_type": "code",
      "execution_count": null,
      "metadata": {
        "colab": {
          "base_uri": "https://localhost:8080/"
        },
        "id": "wIzigJCOT83l",
        "outputId": "a1ceb22d-ae37-403e-e442-3b89a8605706"
      },
      "outputs": [
        {
          "output_type": "stream",
          "name": "stdout",
          "text": [
            "aram sy pocket may aa jta hai aur quality b achi hai\n",
            "sb sy achi chez apki customer service bhot achi hai aur products b orignal hai\n",
            "back cover acha hai sai cuts hai aur soft b hai kaafi acha hai lakin protector chota hai size may khaas tor b width may lakin touch sai kaam kar rha hai isi hi tarha sensor b sb kuch thek hai aur combination b acha hai\n"
          ]
        }
      ],
      "source": [
        "#some samples from data frame\n",
        "print(clean1.Text[1])\n",
        "print(clean1.Text[2])\n",
        "print(clean1.Text[3])"
      ]
    },
    {
      "cell_type": "code",
      "execution_count": null,
      "metadata": {
        "colab": {
          "base_uri": "https://localhost:8080/"
        },
        "id": "hPbaR-YVUEti",
        "outputId": "abffd56e-c32a-4fe3-a417-751b68aa847f"
      },
      "outputs": [
        {
          "output_type": "execute_result",
          "data": {
            "text/plain": [
              "0        0\n",
              "1        0\n",
              "2        0\n",
              "3        0\n",
              "4        1\n",
              "        ..\n",
              "26864    1\n",
              "26865    1\n",
              "26866    1\n",
              "26867    1\n",
              "26868    1\n",
              "Name: Sentiment, Length: 26869, dtype: int64"
            ]
          },
          "metadata": {},
          "execution_count": 18
        }
      ],
      "source": [
        "#checking the sentiment values \n",
        "#later on we will convert them into categorie i.e, integers\n",
        "clean1['Sentiment']"
      ]
    },
    {
      "cell_type": "code",
      "execution_count": null,
      "metadata": {
        "colab": {
          "base_uri": "https://localhost:8080/"
        },
        "id": "cXghv88xUKMz",
        "outputId": "8beb455a-ee31-4b46-c9af-bb025d425ac0"
      },
      "outputs": [
        {
          "output_type": "stream",
          "name": "stdout",
          "text": [
            "0\n",
            "0\n",
            "0\n"
          ]
        }
      ],
      "source": [
        "#accessing the sentiments for first few samples \n",
        "print(clean1.at[0,'Sentiment'])\n",
        "print(clean1.at[1,'Sentiment'])\n",
        "print(clean1.at[2,'Sentiment'])"
      ]
    },
    {
      "cell_type": "markdown",
      "metadata": {
        "id": "pOW7XSNgUgLi"
      },
      "source": [
        "## ***Encoding all samples while varying the max_length hyperparameter***"
      ]
    },
    {
      "cell_type": "markdown",
      "metadata": {
        "id": "Y3MwZLCVWva-"
      },
      "source": [
        "## 1. First run:\n",
        "    - Hyperparameters:\n",
        "        - max_length = 50\n",
        "        - epochs = 5\n",
        "        - batch_size = 16"
      ]
    },
    {
      "cell_type": "code",
      "execution_count": null,
      "metadata": {
        "colab": {
          "base_uri": "https://localhost:8080/",
          "height": 672,
          "referenced_widgets": [
            "720c5bb454784b34a35be82332ab4e49",
            "994bcf264c0c468da347255e867f482f",
            "92643800b071497aa246f7b127ded583",
            "40772983b16941b2a6ca00f64cbc9981",
            "83455931636c48e38ac683d0a89ab6ce",
            "4f656962daae4b42bc732fb972ee9113",
            "3644f5fe0eb74796b59ebd915cced612",
            "37cb34a9545449cd9f437f08bd2f574a",
            "6c663a08c3a444a6a6a767db258e9d4a",
            "e5a9775afb7d496d83a47ff5eaf7b828",
            "a05b0f24b631445f9dbcaa46c374c081"
          ]
        },
        "id": "eZOzL6ZbXLR-",
        "outputId": "ca357cac-6652-4c87-f6c1-d6416b510f0e"
      },
      "outputs": [
        {
          "output_type": "stream",
          "name": "stdout",
          "text": [
            "Encoding all Examples in the dataset \n",
            "\n"
          ]
        },
        {
          "output_type": "stream",
          "name": "stderr",
          "text": [
            "Some weights of the model checkpoint at xlm-roberta-base were not used when initializing XLMRobertaForSequenceClassification: ['lm_head.layer_norm.weight', 'lm_head.layer_norm.bias', 'lm_head.dense.bias', 'roberta.pooler.dense.bias', 'lm_head.bias', 'lm_head.dense.weight', 'lm_head.decoder.weight', 'roberta.pooler.dense.weight']\n",
            "- This IS expected if you are initializing XLMRobertaForSequenceClassification from the checkpoint of a model trained on another task or with another architecture (e.g. initializing a BertForSequenceClassification model from a BertForPreTraining model).\n",
            "- This IS NOT expected if you are initializing XLMRobertaForSequenceClassification from the checkpoint of a model that you expect to be exactly identical (initializing a BertForSequenceClassification model from a BertForSequenceClassification model).\n",
            "Some weights of XLMRobertaForSequenceClassification were not initialized from the model checkpoint at xlm-roberta-base and are newly initialized: ['classifier.out_proj.weight', 'classifier.dense.weight', 'classifier.dense.bias', 'classifier.out_proj.bias']\n",
            "You should probably TRAIN this model on a down-stream task to be able to use it for predictions and inference.\n"
          ]
        },
        {
          "output_type": "stream",
          "name": "stdout",
          "text": [
            "Loading model to GPU\n",
            "GPU: Tesla T4\n",
            "Done\n"
          ]
        },
        {
          "output_type": "stream",
          "name": "stderr",
          "text": [
            "/usr/local/lib/python3.7/dist-packages/transformers/optimization.py:310: FutureWarning: This implementation of AdamW is deprecated and will be removed in a future version. Use the PyTorch implementation torch.optim.AdamW instead, or set `no_deprecation_warning=True` to disable this warning\n",
            "  FutureWarning,\n"
          ]
        },
        {
          "output_type": "display_data",
          "data": {
            "text/plain": [
              "  0%|          | 0/7560 [00:00<?, ?it/s]"
            ],
            "application/vnd.jupyter.widget-view+json": {
              "version_major": 2,
              "version_minor": 0,
              "model_id": "720c5bb454784b34a35be82332ab4e49"
            }
          },
          "metadata": {}
        },
        {
          "output_type": "stream",
          "name": "stdout",
          "text": [
            "Epoch: 1\n",
            "Epoch:  5\n",
            "XLMR - validation accuracy  0.6650539635280982\n",
            "------------------------------------ \n",
            "Epoch: 2\n",
            "Epoch:  5\n",
            "XLMR - validation accuracy  0.6840342389281727\n",
            "------------------------------------ \n",
            "Epoch: 3\n",
            "Epoch:  5\n",
            "XLMR - validation accuracy  0.6929661332340901\n",
            "------------------------------------ \n",
            "Epoch: 4\n",
            "Epoch:  5\n",
            "XLMR - validation accuracy  0.7145515444733904\n",
            "------------------------------------ \n",
            "Epoch: 5\n",
            "Epoch:  5\n",
            "XLMR - validation accuracy  0.7130628954224042\n",
            "------------------------------------ \n"
          ]
        }
      ],
      "source": [
        "labels_ur = []\n",
        "input_ids_ur = []\n",
        "attn_masks_ur= []\n",
        "\n",
        "print(\"Encoding all Examples in the dataset \\n\" )\n",
        "\n",
        "for ind in clean1.index:\n",
        "  text = clean1.Text[ind]\n",
        "  #convert sentence pairs to input ids, with attention masks\n",
        "  \n",
        "  encoded_dict = xlmr_tokenizer.encode_plus(text,max_length = 50,  \n",
        "                                       padding='max_length',\n",
        "                                       truncation=True,\n",
        "                                       return_tensors = 'pt')\n",
        "                                      \n",
        "  \n",
        "\n",
        "  \n",
        "  input_ids_ur.append(encoded_dict['input_ids'])\n",
        "  attn_masks_ur.append(encoded_dict['attention_mask'])\n",
        "  #print(ex['label'].numpy)\n",
        "  #we are converting the data into labels\n",
        "  labels_ur.append(clean1.at[ind,'Sentiment'].astype(np.int64))\n",
        "  \n",
        "  #convert each python list of tensor to 2D tensor Matrix\n",
        "input_ids_ur = torch.cat(input_ids_ur,dim=0)\n",
        "attn_masks_ur = torch.cat(attn_masks_ur,dim=0)\n",
        "\n",
        "#cast the labels into tensors\n",
        "labels_ur = torch.tensor(labels_ur)\n",
        "#print(len(labels_ur))\n",
        "\n",
        "#combine the trainign inputs to tensorDatasets\n",
        "dataset = TensorDataset(input_ids_ur,attn_masks_ur, labels_ur)\n",
        "\n",
        " #create a 90-10 train validation split\n",
        "train_size = int(0.9*(len(dataset)))\n",
        "val_size = len(dataset) - train_size\n",
        "\n",
        "train_dataset, val_dataset = random_split(dataset,[train_size, val_size])\n",
        "\n",
        "batch_size=16\n",
        "\n",
        "train_dataloader = DataLoader(train_dataset,\n",
        "                          sampler=RandomSampler(train_dataset),\n",
        "                          batch_size = batch_size)\n",
        "\n",
        "\n",
        "validation_dataloader = DataLoader(val_dataset,\n",
        "                          sampler=RandomSampler(val_dataset),\n",
        "                          batch_size = batch_size)\n",
        "\n",
        "xlmr_model = XLMRobertaForSequenceClassification.from_pretrained(\"xlm-roberta-base\",num_labels=3)\n",
        "\n",
        "print(\"Loading model to GPU\")\n",
        "#connect to GPU\n",
        "device = torch.device('cuda')\n",
        "#report the GPu which is granted \n",
        "print('GPU:',torch.cuda.get_device_name(0))\n",
        "#copy the initial model with weights to GPU\n",
        "desc = xlmr_model.to(device)\n",
        "print(\"Done\")\n",
        "\n",
        "optimizer  = AdamW(xlmr_model.parameters(),\n",
        "                   lr = 2e-6,# learning rate\n",
        "                   eps=1e-8 # args.adma_epsilon\n",
        "                   )\n",
        "\n",
        "#number of training epochs\n",
        "epochs = 5\n",
        "#total no of training steps is [number of batches]*[number of epoches]\n",
        "total_steps = len(train_dataloader)*epochs\n",
        "\n",
        "#create the learning rate scheduler \n",
        "scheduler  =  get_linear_schedule_with_warmup(optimizer, \n",
        "                                              num_warmup_steps = 0,\n",
        "                                              num_training_steps = total_steps)\n",
        "\n",
        "progress_bar = tqdm(range(total_steps))\n",
        "\n",
        "lr_scheduler = get_scheduler(\n",
        "    \"linear\",\n",
        "    optimizer=optimizer,\n",
        "    num_warmup_steps=0,\n",
        "    num_training_steps=total_steps,\n",
        ")\n",
        "\n",
        "seed_val = 42\n",
        "random.seed(seed_val)\n",
        "np.random.seed(seed_val)\n",
        "torch.manual_seed(seed_val)\n",
        "torch.cuda.manual_seed_all(seed_val)\n",
        "\n",
        "training_stats = []\n",
        "\n",
        "for epoch_i in range(0,epochs):\n",
        "  #training\n",
        "  print(\"Epoch:\",epoch_i+1)\n",
        "  total_train_loss = 0\n",
        "  xlmr_model.train()\n",
        "  \n",
        "  #For each batch of train_data\n",
        "  for step, batch in enumerate(train_dataloader):\n",
        "    #progress update \n",
        "    b_input_ids = batch[0].to(device)\n",
        "    b_input_mask = batch[1].to(device)\n",
        "    b_lables = batch[2].to(device)\n",
        "    xlmr_model.zero_grad()\n",
        "    outputs =xlmr_model(b_input_ids,attention_mask = b_input_mask,labels=b_lables)\n",
        "    loss = outputs.loss\n",
        "    loss.backward()\n",
        "    optimizer.step()\n",
        "    lr_scheduler.step()\n",
        "    optimizer.zero_grad()\n",
        "    progress_bar.update(1)\n",
        "  \n",
        "  #put the model in evaluation mode\n",
        "  xlmr_model.eval()\n",
        "  model_predictions=[]\n",
        "  true_labels=[]\n",
        "\n",
        "  for batch in validation_dataloader:\n",
        "      b_input_ids = batch[0].to(device)\n",
        "      b_input_mask = batch[1].to(device)\n",
        "      b_lables = batch[2].to(device)\n",
        "\n",
        "      with torch.no_grad():\n",
        "        outputs = xlmr_model(b_input_ids,attention_mask = b_input_mask)\n",
        "      \n",
        "      logits = outputs.logits\n",
        "      logits=logits.detach().cpu().numpy()\n",
        "      label_ids = b_lables.to('cpu').numpy()\n",
        "      predictions = np.argmax(logits, axis = -1)\n",
        "      model_predictions.append(logits)\n",
        "      true_labels.append(label_ids)\n",
        "  \n",
        "  flat_predictions = np.concatenate(model_predictions, axis=0)\n",
        "  flat_true_labels = np.concatenate(true_labels, axis=0)\n",
        "  predicted_labels = np.argmax(flat_predictions, axis=1).flatten()\n",
        "  accuracy = (predicted_labels==flat_true_labels).mean()\n",
        "  \n",
        "  print(\"Epoch: \", epochs)\n",
        "  print('XLMR - validation accuracy ', accuracy)\n",
        "  print(\"------------------------------------ \")"
      ]
    },
    {
      "cell_type": "markdown",
      "metadata": {
        "id": "bklrDhCWaBP4"
      },
      "source": [
        "## Evaluating the trained Model"
      ]
    },
    {
      "cell_type": "code",
      "execution_count": null,
      "metadata": {
        "id": "VaiHh07HaDkJ"
      },
      "outputs": [],
      "source": [
        "xlmr_model.eval()\n",
        "model_predictions=[]\n",
        "true_labels=[]\n",
        "for batch in validation_dataloader:\n",
        "\n",
        "    b_input_ids = batch[0].to(device)\n",
        "    b_input_mask = batch[1].to(device)\n",
        "    b_lables = batch[2].to(device)\n",
        "\n",
        "    with torch.no_grad():\n",
        "      outputs = xlmr_model(b_input_ids,attention_mask = b_input_mask)\n",
        "    logits = outputs.logits\n",
        "    logits=logits.detach().cpu().numpy()\n",
        "    label_ids = b_lables.to('cpu').numpy()\n",
        "    predictions = np.argmax(logits, axis = -1)\n",
        "    #print(b_lables)\n",
        "    #print(predictions)\n",
        "    #print(\"\\n -------------------------- \\n\")\n",
        "    model_predictions.append(logits)\n",
        "    true_labels.append(label_ids)"
      ]
    },
    {
      "cell_type": "code",
      "execution_count": null,
      "metadata": {
        "id": "KOH2O_E2aFTS"
      },
      "outputs": [],
      "source": [
        "#combine the results across all batches\n",
        "#predictions\n",
        "flat_predictions = np.concatenate(model_predictions, axis=0)\n",
        "flat_true_labels = np.concatenate(true_labels, axis=0)\n",
        "\n",
        "##for sample pick the label\n",
        "predicted_labels = np.argmax(flat_predictions, axis=1).flatten()"
      ]
    },
    {
      "cell_type": "code",
      "execution_count": null,
      "metadata": {
        "id": "x1H_zsMOaG_m",
        "colab": {
          "base_uri": "https://localhost:8080/"
        },
        "outputId": "96d6d232-6c25-4ae4-aaef-b9033828aba7"
      },
      "outputs": [
        {
          "output_type": "stream",
          "name": "stdout",
          "text": [
            "XLMR- prediction accuracy 0.7130628954224042\n"
          ]
        }
      ],
      "source": [
        "# the number of correct predictions to get our accuracy\n",
        "accuracy = (predicted_labels==flat_true_labels).mean()\n",
        "print('XLMR- prediction accuracy',accuracy)"
      ]
    },
    {
      "cell_type": "markdown",
      "metadata": {
        "id": "qgqOhE-3QL8o"
      },
      "source": [
        "## 2. Second run:\n",
        "    - Hyperparameters:\n",
        "        - max_length = 50\n",
        "        - epochs = 30\n",
        "        - batch_size = 16\n",
        "        - learning_rate = 2e-5"
      ]
    },
    {
      "cell_type": "code",
      "execution_count": null,
      "metadata": {
        "id": "ooZj67s8QM-h",
        "colab": {
          "base_uri": "https://localhost:8080/",
          "height": 672,
          "referenced_widgets": [
            "b98427bce04a41d8aee188ef80ef4f82",
            "7d7d45ddf5f64433a57ead48a673ac8d",
            "9e4b8a306d3f4f15bc0eadf97940a154",
            "2a32222486084155af8a1c87e5d60d4c",
            "e8d7ada7582e41b6971774ebb106c704",
            "d9096c7f59d246c88283efaa3f34bf9c",
            "960880a3603c44a689fff7a7eca88dc0",
            "44fa741f1289406885f0177e56473670",
            "1934b626472a43b5b2c53d04f374f8cd",
            "87de72f09c8645ccac36a8c055a85483",
            "b01c1c45a3c1467194a902df59f4a870"
          ]
        },
        "outputId": "be14240f-9b41-4cec-d25c-ed6b3f6f5341"
      },
      "outputs": [
        {
          "output_type": "stream",
          "name": "stdout",
          "text": [
            "Encoding all Examples in the dataset \n",
            "\n"
          ]
        },
        {
          "output_type": "stream",
          "name": "stderr",
          "text": [
            "Some weights of the model checkpoint at xlm-roberta-base were not used when initializing XLMRobertaForSequenceClassification: ['lm_head.layer_norm.weight', 'lm_head.layer_norm.bias', 'lm_head.dense.bias', 'roberta.pooler.dense.bias', 'lm_head.bias', 'lm_head.dense.weight', 'lm_head.decoder.weight', 'roberta.pooler.dense.weight']\n",
            "- This IS expected if you are initializing XLMRobertaForSequenceClassification from the checkpoint of a model trained on another task or with another architecture (e.g. initializing a BertForSequenceClassification model from a BertForPreTraining model).\n",
            "- This IS NOT expected if you are initializing XLMRobertaForSequenceClassification from the checkpoint of a model that you expect to be exactly identical (initializing a BertForSequenceClassification model from a BertForSequenceClassification model).\n",
            "Some weights of XLMRobertaForSequenceClassification were not initialized from the model checkpoint at xlm-roberta-base and are newly initialized: ['classifier.out_proj.weight', 'classifier.dense.weight', 'classifier.dense.bias', 'classifier.out_proj.bias']\n",
            "You should probably TRAIN this model on a down-stream task to be able to use it for predictions and inference.\n"
          ]
        },
        {
          "output_type": "stream",
          "name": "stdout",
          "text": [
            "Loading model to GPU\n",
            "GPU: Tesla T4\n",
            "Done\n"
          ]
        },
        {
          "output_type": "stream",
          "name": "stderr",
          "text": [
            "/usr/local/lib/python3.7/dist-packages/transformers/optimization.py:310: FutureWarning: This implementation of AdamW is deprecated and will be removed in a future version. Use the PyTorch implementation torch.optim.AdamW instead, or set `no_deprecation_warning=True` to disable this warning\n",
            "  FutureWarning,\n"
          ]
        },
        {
          "output_type": "display_data",
          "data": {
            "text/plain": [
              "  0%|          | 0/7560 [00:00<?, ?it/s]"
            ],
            "application/vnd.jupyter.widget-view+json": {
              "version_major": 2,
              "version_minor": 0,
              "model_id": "b98427bce04a41d8aee188ef80ef4f82"
            }
          },
          "metadata": {}
        },
        {
          "output_type": "stream",
          "name": "stdout",
          "text": [
            "Epoch: 1\n",
            "Epoch:  5\n",
            "XLMR - validation accuracy  0.695571269073316\n",
            "------------------------------------ \n",
            "Epoch: 2\n",
            "Epoch:  5\n",
            "XLMR - validation accuracy  0.718273167100856\n",
            "------------------------------------ \n",
            "Epoch: 3\n",
            "Epoch:  5\n",
            "XLMR - validation accuracy  0.7327874953479717\n",
            "------------------------------------ \n",
            "Epoch: 4\n",
            "Epoch:  5\n",
            "XLMR - validation accuracy  0.7309266840342389\n",
            "------------------------------------ \n",
            "Epoch: 5\n",
            "Epoch:  5\n",
            "XLMR - validation accuracy  0.7309266840342389\n",
            "------------------------------------ \n"
          ]
        }
      ],
      "source": [
        "labels_ur = []\n",
        "input_ids_ur = []\n",
        "attn_masks_ur= []\n",
        "\n",
        "print(\"Encoding all Examples in the dataset \\n\" )\n",
        "\n",
        "for ind in clean1.index:\n",
        "  text = clean1.Text[ind]\n",
        "  #convert sentence pairs to input ids, with attention masks\n",
        "  \n",
        "  encoded_dict = xlmr_tokenizer.encode_plus(text,max_length = 50,  \n",
        "                                       padding='max_length',\n",
        "                                       truncation=True,\n",
        "                                       return_tensors = 'pt')\n",
        "                                      \n",
        "  \n",
        "\n",
        "  \n",
        "  input_ids_ur.append(encoded_dict['input_ids'])\n",
        "  attn_masks_ur.append(encoded_dict['attention_mask'])\n",
        "  #print(ex['label'].numpy)\n",
        "  #we are converting the data into labels\n",
        "  labels_ur.append(clean1.at[ind,'Sentiment'].astype(np.int64))\n",
        "  \n",
        "  #convert each python list of tensor to 2D tensor Matrix\n",
        "input_ids_ur = torch.cat(input_ids_ur,dim=0)\n",
        "attn_masks_ur = torch.cat(attn_masks_ur,dim=0)\n",
        "\n",
        "#cast the labels into tensors\n",
        "labels_ur = torch.tensor(labels_ur)\n",
        "#print(len(labels_ur))\n",
        "\n",
        "#combine the trainign inputs to tensorDatasets\n",
        "dataset = TensorDataset(input_ids_ur,attn_masks_ur, labels_ur)\n",
        "\n",
        " #create a 90-10 train validation split\n",
        "train_size = int(0.9*(len(dataset)))\n",
        "val_size = len(dataset) - train_size\n",
        "\n",
        "train_dataset, val_dataset = random_split(dataset,[train_size, val_size])\n",
        "\n",
        "batch_size=16\n",
        "\n",
        "train_dataloader = DataLoader(train_dataset,\n",
        "                          sampler=RandomSampler(train_dataset),\n",
        "                          batch_size = batch_size)\n",
        "\n",
        "\n",
        "validation_dataloader = DataLoader(val_dataset,\n",
        "                          sampler=RandomSampler(val_dataset),\n",
        "                          batch_size = batch_size)\n",
        "\n",
        "xlmr_model = XLMRobertaForSequenceClassification.from_pretrained(\"xlm-roberta-base\",num_labels=3)\n",
        "\n",
        "print(\"Loading model to GPU\")\n",
        "#connect to GPU\n",
        "device = torch.device('cuda')\n",
        "#report the GPu which is granted \n",
        "print('GPU:',torch.cuda.get_device_name(0))\n",
        "#copy the initial model with weights to GPU\n",
        "desc = xlmr_model.to(device)\n",
        "print(\"Done\")\n",
        "\n",
        "optimizer  = AdamW(xlmr_model.parameters(),\n",
        "                   lr = 2e-5,# learning rate\n",
        "                   eps=1e-8 # args.adma_epsilon\n",
        "                   )\n",
        "\n",
        "#number of training epochs\n",
        "epochs = 30\n",
        "#total no of training steps is [number of batches]*[number of epoches]\n",
        "total_steps = len(train_dataloader)*epochs\n",
        "\n",
        "#create the learning rate scheduler \n",
        "scheduler  =  get_linear_schedule_with_warmup(optimizer, \n",
        "                                              num_warmup_steps = 0,\n",
        "                                              num_training_steps = total_steps)\n",
        "\n",
        "progress_bar = tqdm(range(total_steps))\n",
        "\n",
        "lr_scheduler = get_scheduler(\n",
        "    \"linear\",\n",
        "    optimizer=optimizer,\n",
        "    num_warmup_steps=0,\n",
        "    num_training_steps=total_steps,\n",
        ")\n",
        "\n",
        "seed_val = 42\n",
        "random.seed(seed_val)\n",
        "np.random.seed(seed_val)\n",
        "torch.manual_seed(seed_val)\n",
        "torch.cuda.manual_seed_all(seed_val)\n",
        "\n",
        "training_stats = []\n",
        "\n",
        "for epoch_i in range(0,epochs):\n",
        "  #training\n",
        "  print(\"Epoch:\",epoch_i+1)\n",
        "  total_train_loss = 0\n",
        "  xlmr_model.train()\n",
        "  \n",
        "  #For each batch of train_data\n",
        "  for step, batch in enumerate(train_dataloader):\n",
        "    #progress update \n",
        "    b_input_ids = batch[0].to(device)\n",
        "    b_input_mask = batch[1].to(device)\n",
        "    b_lables = batch[2].to(device)\n",
        "    xlmr_model.zero_grad()\n",
        "    outputs =xlmr_model(b_input_ids,attention_mask = b_input_mask,labels=b_lables)\n",
        "    loss = outputs.loss\n",
        "    loss.backward()\n",
        "    optimizer.step()\n",
        "    lr_scheduler.step()\n",
        "    optimizer.zero_grad()\n",
        "    progress_bar.update(1)\n",
        "  \n",
        "  #put the model in evaluation mode\n",
        "  xlmr_model.eval()\n",
        "  model_predictions=[]\n",
        "  true_labels=[]\n",
        "\n",
        "  for batch in validation_dataloader:\n",
        "      b_input_ids = batch[0].to(device)\n",
        "      b_input_mask = batch[1].to(device)\n",
        "      b_lables = batch[2].to(device)\n",
        "\n",
        "      with torch.no_grad():\n",
        "        outputs = xlmr_model(b_input_ids,attention_mask = b_input_mask)\n",
        "      \n",
        "      logits = outputs.logits\n",
        "      logits=logits.detach().cpu().numpy()\n",
        "      label_ids = b_lables.to('cpu').numpy()\n",
        "      predictions = np.argmax(logits, axis = -1)\n",
        "      model_predictions.append(logits)\n",
        "      true_labels.append(label_ids)\n",
        "  \n",
        "  flat_predictions = np.concatenate(model_predictions, axis=0)\n",
        "  flat_true_labels = np.concatenate(true_labels, axis=0)\n",
        "  predicted_labels = np.argmax(flat_predictions, axis=1).flatten()\n",
        "  accuracy = (predicted_labels==flat_true_labels).mean()\n",
        "  \n",
        "  print(\"Epoch: \", epochs)\n",
        "  print('XLMR - validation accuracy ', accuracy)\n",
        "  print(\"------------------------------------ \")"
      ]
    },
    {
      "cell_type": "markdown",
      "metadata": {
        "id": "zoFyd_HXP7qo"
      },
      "source": [
        "## Evaluating the trained Model"
      ]
    },
    {
      "cell_type": "code",
      "execution_count": null,
      "metadata": {
        "id": "uc5OkGgEP7qw"
      },
      "outputs": [],
      "source": [
        "xlmr_model.eval()\n",
        "model_predictions=[]\n",
        "true_labels=[]\n",
        "for batch in validation_dataloader:\n",
        "\n",
        "    b_input_ids = batch[0].to(device)\n",
        "    b_input_mask = batch[1].to(device)\n",
        "    b_lables = batch[2].to(device)\n",
        "\n",
        "    with torch.no_grad():\n",
        "      outputs = xlmr_model(b_input_ids,attention_mask = b_input_mask)\n",
        "    logits = outputs.logits\n",
        "    logits=logits.detach().cpu().numpy()\n",
        "    label_ids = b_lables.to('cpu').numpy()\n",
        "    predictions = np.argmax(logits, axis = -1)\n",
        "    #print(b_lables)\n",
        "    #print(predictions)\n",
        "    #print(\"\\n -------------------------- \\n\")\n",
        "    model_predictions.append(logits)\n",
        "    true_labels.append(label_ids)"
      ]
    },
    {
      "cell_type": "code",
      "execution_count": null,
      "metadata": {
        "id": "cFI5F0HXP7rG"
      },
      "outputs": [],
      "source": [
        "#combine the results across all batches\n",
        "#predictions\n",
        "flat_predictions = np.concatenate(model_predictions, axis=0)\n",
        "flat_true_labels = np.concatenate(true_labels, axis=0)\n",
        "\n",
        "##for sample pick the label\n",
        "predicted_labels = np.argmax(flat_predictions, axis=1).flatten()"
      ]
    },
    {
      "cell_type": "code",
      "execution_count": null,
      "metadata": {
        "id": "s0bIyTPGP7rO",
        "colab": {
          "base_uri": "https://localhost:8080/"
        },
        "outputId": "c34e6b40-07c8-4395-d8c5-c37161275517"
      },
      "outputs": [
        {
          "output_type": "stream",
          "name": "stdout",
          "text": [
            "XLMR- prediction accuracy 0.7309266840342389\n"
          ]
        }
      ],
      "source": [
        "# the number of correct predictions to get our accuracy\n",
        "accuracy = (predicted_labels==flat_true_labels).mean()\n",
        "print('XLMR- prediction accuracy',accuracy)"
      ]
    }
  ],
  "metadata": {
    "accelerator": "GPU",
    "colab": {
      "collapsed_sections": [
        "Y3MwZLCVWva-",
        "bklrDhCWaBP4",
        "qgqOhE-3QL8o",
        "zoFyd_HXP7qo"
      ],
      "name": "Training_Roman_Urdu_Clean1.ipynb",
      "provenance": []
    },
    "gpuClass": "standard",
    "kernelspec": {
      "display_name": "Python 3",
      "name": "python3"
    },
    "language_info": {
      "name": "python"
    },
    "widgets": {
      "application/vnd.jupyter.widget-state+json": {
        "720c5bb454784b34a35be82332ab4e49": {
          "model_module": "@jupyter-widgets/controls",
          "model_name": "HBoxModel",
          "model_module_version": "1.5.0",
          "state": {
            "_dom_classes": [],
            "_model_module": "@jupyter-widgets/controls",
            "_model_module_version": "1.5.0",
            "_model_name": "HBoxModel",
            "_view_count": null,
            "_view_module": "@jupyter-widgets/controls",
            "_view_module_version": "1.5.0",
            "_view_name": "HBoxView",
            "box_style": "",
            "children": [
              "IPY_MODEL_994bcf264c0c468da347255e867f482f",
              "IPY_MODEL_92643800b071497aa246f7b127ded583",
              "IPY_MODEL_40772983b16941b2a6ca00f64cbc9981"
            ],
            "layout": "IPY_MODEL_83455931636c48e38ac683d0a89ab6ce"
          }
        },
        "994bcf264c0c468da347255e867f482f": {
          "model_module": "@jupyter-widgets/controls",
          "model_name": "HTMLModel",
          "model_module_version": "1.5.0",
          "state": {
            "_dom_classes": [],
            "_model_module": "@jupyter-widgets/controls",
            "_model_module_version": "1.5.0",
            "_model_name": "HTMLModel",
            "_view_count": null,
            "_view_module": "@jupyter-widgets/controls",
            "_view_module_version": "1.5.0",
            "_view_name": "HTMLView",
            "description": "",
            "description_tooltip": null,
            "layout": "IPY_MODEL_4f656962daae4b42bc732fb972ee9113",
            "placeholder": "​",
            "style": "IPY_MODEL_3644f5fe0eb74796b59ebd915cced612",
            "value": "100%"
          }
        },
        "92643800b071497aa246f7b127ded583": {
          "model_module": "@jupyter-widgets/controls",
          "model_name": "FloatProgressModel",
          "model_module_version": "1.5.0",
          "state": {
            "_dom_classes": [],
            "_model_module": "@jupyter-widgets/controls",
            "_model_module_version": "1.5.0",
            "_model_name": "FloatProgressModel",
            "_view_count": null,
            "_view_module": "@jupyter-widgets/controls",
            "_view_module_version": "1.5.0",
            "_view_name": "ProgressView",
            "bar_style": "",
            "description": "",
            "description_tooltip": null,
            "layout": "IPY_MODEL_37cb34a9545449cd9f437f08bd2f574a",
            "max": 7560,
            "min": 0,
            "orientation": "horizontal",
            "style": "IPY_MODEL_6c663a08c3a444a6a6a767db258e9d4a",
            "value": 7560
          }
        },
        "40772983b16941b2a6ca00f64cbc9981": {
          "model_module": "@jupyter-widgets/controls",
          "model_name": "HTMLModel",
          "model_module_version": "1.5.0",
          "state": {
            "_dom_classes": [],
            "_model_module": "@jupyter-widgets/controls",
            "_model_module_version": "1.5.0",
            "_model_name": "HTMLModel",
            "_view_count": null,
            "_view_module": "@jupyter-widgets/controls",
            "_view_module_version": "1.5.0",
            "_view_name": "HTMLView",
            "description": "",
            "description_tooltip": null,
            "layout": "IPY_MODEL_e5a9775afb7d496d83a47ff5eaf7b828",
            "placeholder": "​",
            "style": "IPY_MODEL_a05b0f24b631445f9dbcaa46c374c081",
            "value": " 7560/7560 [28:32&lt;00:00,  5.01it/s]"
          }
        },
        "83455931636c48e38ac683d0a89ab6ce": {
          "model_module": "@jupyter-widgets/base",
          "model_name": "LayoutModel",
          "model_module_version": "1.2.0",
          "state": {
            "_model_module": "@jupyter-widgets/base",
            "_model_module_version": "1.2.0",
            "_model_name": "LayoutModel",
            "_view_count": null,
            "_view_module": "@jupyter-widgets/base",
            "_view_module_version": "1.2.0",
            "_view_name": "LayoutView",
            "align_content": null,
            "align_items": null,
            "align_self": null,
            "border": null,
            "bottom": null,
            "display": null,
            "flex": null,
            "flex_flow": null,
            "grid_area": null,
            "grid_auto_columns": null,
            "grid_auto_flow": null,
            "grid_auto_rows": null,
            "grid_column": null,
            "grid_gap": null,
            "grid_row": null,
            "grid_template_areas": null,
            "grid_template_columns": null,
            "grid_template_rows": null,
            "height": null,
            "justify_content": null,
            "justify_items": null,
            "left": null,
            "margin": null,
            "max_height": null,
            "max_width": null,
            "min_height": null,
            "min_width": null,
            "object_fit": null,
            "object_position": null,
            "order": null,
            "overflow": null,
            "overflow_x": null,
            "overflow_y": null,
            "padding": null,
            "right": null,
            "top": null,
            "visibility": null,
            "width": null
          }
        },
        "4f656962daae4b42bc732fb972ee9113": {
          "model_module": "@jupyter-widgets/base",
          "model_name": "LayoutModel",
          "model_module_version": "1.2.0",
          "state": {
            "_model_module": "@jupyter-widgets/base",
            "_model_module_version": "1.2.0",
            "_model_name": "LayoutModel",
            "_view_count": null,
            "_view_module": "@jupyter-widgets/base",
            "_view_module_version": "1.2.0",
            "_view_name": "LayoutView",
            "align_content": null,
            "align_items": null,
            "align_self": null,
            "border": null,
            "bottom": null,
            "display": null,
            "flex": null,
            "flex_flow": null,
            "grid_area": null,
            "grid_auto_columns": null,
            "grid_auto_flow": null,
            "grid_auto_rows": null,
            "grid_column": null,
            "grid_gap": null,
            "grid_row": null,
            "grid_template_areas": null,
            "grid_template_columns": null,
            "grid_template_rows": null,
            "height": null,
            "justify_content": null,
            "justify_items": null,
            "left": null,
            "margin": null,
            "max_height": null,
            "max_width": null,
            "min_height": null,
            "min_width": null,
            "object_fit": null,
            "object_position": null,
            "order": null,
            "overflow": null,
            "overflow_x": null,
            "overflow_y": null,
            "padding": null,
            "right": null,
            "top": null,
            "visibility": null,
            "width": null
          }
        },
        "3644f5fe0eb74796b59ebd915cced612": {
          "model_module": "@jupyter-widgets/controls",
          "model_name": "DescriptionStyleModel",
          "model_module_version": "1.5.0",
          "state": {
            "_model_module": "@jupyter-widgets/controls",
            "_model_module_version": "1.5.0",
            "_model_name": "DescriptionStyleModel",
            "_view_count": null,
            "_view_module": "@jupyter-widgets/base",
            "_view_module_version": "1.2.0",
            "_view_name": "StyleView",
            "description_width": ""
          }
        },
        "37cb34a9545449cd9f437f08bd2f574a": {
          "model_module": "@jupyter-widgets/base",
          "model_name": "LayoutModel",
          "model_module_version": "1.2.0",
          "state": {
            "_model_module": "@jupyter-widgets/base",
            "_model_module_version": "1.2.0",
            "_model_name": "LayoutModel",
            "_view_count": null,
            "_view_module": "@jupyter-widgets/base",
            "_view_module_version": "1.2.0",
            "_view_name": "LayoutView",
            "align_content": null,
            "align_items": null,
            "align_self": null,
            "border": null,
            "bottom": null,
            "display": null,
            "flex": null,
            "flex_flow": null,
            "grid_area": null,
            "grid_auto_columns": null,
            "grid_auto_flow": null,
            "grid_auto_rows": null,
            "grid_column": null,
            "grid_gap": null,
            "grid_row": null,
            "grid_template_areas": null,
            "grid_template_columns": null,
            "grid_template_rows": null,
            "height": null,
            "justify_content": null,
            "justify_items": null,
            "left": null,
            "margin": null,
            "max_height": null,
            "max_width": null,
            "min_height": null,
            "min_width": null,
            "object_fit": null,
            "object_position": null,
            "order": null,
            "overflow": null,
            "overflow_x": null,
            "overflow_y": null,
            "padding": null,
            "right": null,
            "top": null,
            "visibility": null,
            "width": null
          }
        },
        "6c663a08c3a444a6a6a767db258e9d4a": {
          "model_module": "@jupyter-widgets/controls",
          "model_name": "ProgressStyleModel",
          "model_module_version": "1.5.0",
          "state": {
            "_model_module": "@jupyter-widgets/controls",
            "_model_module_version": "1.5.0",
            "_model_name": "ProgressStyleModel",
            "_view_count": null,
            "_view_module": "@jupyter-widgets/base",
            "_view_module_version": "1.2.0",
            "_view_name": "StyleView",
            "bar_color": null,
            "description_width": ""
          }
        },
        "e5a9775afb7d496d83a47ff5eaf7b828": {
          "model_module": "@jupyter-widgets/base",
          "model_name": "LayoutModel",
          "model_module_version": "1.2.0",
          "state": {
            "_model_module": "@jupyter-widgets/base",
            "_model_module_version": "1.2.0",
            "_model_name": "LayoutModel",
            "_view_count": null,
            "_view_module": "@jupyter-widgets/base",
            "_view_module_version": "1.2.0",
            "_view_name": "LayoutView",
            "align_content": null,
            "align_items": null,
            "align_self": null,
            "border": null,
            "bottom": null,
            "display": null,
            "flex": null,
            "flex_flow": null,
            "grid_area": null,
            "grid_auto_columns": null,
            "grid_auto_flow": null,
            "grid_auto_rows": null,
            "grid_column": null,
            "grid_gap": null,
            "grid_row": null,
            "grid_template_areas": null,
            "grid_template_columns": null,
            "grid_template_rows": null,
            "height": null,
            "justify_content": null,
            "justify_items": null,
            "left": null,
            "margin": null,
            "max_height": null,
            "max_width": null,
            "min_height": null,
            "min_width": null,
            "object_fit": null,
            "object_position": null,
            "order": null,
            "overflow": null,
            "overflow_x": null,
            "overflow_y": null,
            "padding": null,
            "right": null,
            "top": null,
            "visibility": null,
            "width": null
          }
        },
        "a05b0f24b631445f9dbcaa46c374c081": {
          "model_module": "@jupyter-widgets/controls",
          "model_name": "DescriptionStyleModel",
          "model_module_version": "1.5.0",
          "state": {
            "_model_module": "@jupyter-widgets/controls",
            "_model_module_version": "1.5.0",
            "_model_name": "DescriptionStyleModel",
            "_view_count": null,
            "_view_module": "@jupyter-widgets/base",
            "_view_module_version": "1.2.0",
            "_view_name": "StyleView",
            "description_width": ""
          }
        },
        "b98427bce04a41d8aee188ef80ef4f82": {
          "model_module": "@jupyter-widgets/controls",
          "model_name": "HBoxModel",
          "model_module_version": "1.5.0",
          "state": {
            "_dom_classes": [],
            "_model_module": "@jupyter-widgets/controls",
            "_model_module_version": "1.5.0",
            "_model_name": "HBoxModel",
            "_view_count": null,
            "_view_module": "@jupyter-widgets/controls",
            "_view_module_version": "1.5.0",
            "_view_name": "HBoxView",
            "box_style": "",
            "children": [
              "IPY_MODEL_7d7d45ddf5f64433a57ead48a673ac8d",
              "IPY_MODEL_9e4b8a306d3f4f15bc0eadf97940a154",
              "IPY_MODEL_2a32222486084155af8a1c87e5d60d4c"
            ],
            "layout": "IPY_MODEL_e8d7ada7582e41b6971774ebb106c704"
          }
        },
        "7d7d45ddf5f64433a57ead48a673ac8d": {
          "model_module": "@jupyter-widgets/controls",
          "model_name": "HTMLModel",
          "model_module_version": "1.5.0",
          "state": {
            "_dom_classes": [],
            "_model_module": "@jupyter-widgets/controls",
            "_model_module_version": "1.5.0",
            "_model_name": "HTMLModel",
            "_view_count": null,
            "_view_module": "@jupyter-widgets/controls",
            "_view_module_version": "1.5.0",
            "_view_name": "HTMLView",
            "description": "",
            "description_tooltip": null,
            "layout": "IPY_MODEL_d9096c7f59d246c88283efaa3f34bf9c",
            "placeholder": "​",
            "style": "IPY_MODEL_960880a3603c44a689fff7a7eca88dc0",
            "value": "100%"
          }
        },
        "9e4b8a306d3f4f15bc0eadf97940a154": {
          "model_module": "@jupyter-widgets/controls",
          "model_name": "FloatProgressModel",
          "model_module_version": "1.5.0",
          "state": {
            "_dom_classes": [],
            "_model_module": "@jupyter-widgets/controls",
            "_model_module_version": "1.5.0",
            "_model_name": "FloatProgressModel",
            "_view_count": null,
            "_view_module": "@jupyter-widgets/controls",
            "_view_module_version": "1.5.0",
            "_view_name": "ProgressView",
            "bar_style": "",
            "description": "",
            "description_tooltip": null,
            "layout": "IPY_MODEL_44fa741f1289406885f0177e56473670",
            "max": 7560,
            "min": 0,
            "orientation": "horizontal",
            "style": "IPY_MODEL_1934b626472a43b5b2c53d04f374f8cd",
            "value": 7560
          }
        },
        "2a32222486084155af8a1c87e5d60d4c": {
          "model_module": "@jupyter-widgets/controls",
          "model_name": "HTMLModel",
          "model_module_version": "1.5.0",
          "state": {
            "_dom_classes": [],
            "_model_module": "@jupyter-widgets/controls",
            "_model_module_version": "1.5.0",
            "_model_name": "HTMLModel",
            "_view_count": null,
            "_view_module": "@jupyter-widgets/controls",
            "_view_module_version": "1.5.0",
            "_view_name": "HTMLView",
            "description": "",
            "description_tooltip": null,
            "layout": "IPY_MODEL_87de72f09c8645ccac36a8c055a85483",
            "placeholder": "​",
            "style": "IPY_MODEL_b01c1c45a3c1467194a902df59f4a870",
            "value": " 7560/7560 [28:30&lt;00:00,  5.00it/s]"
          }
        },
        "e8d7ada7582e41b6971774ebb106c704": {
          "model_module": "@jupyter-widgets/base",
          "model_name": "LayoutModel",
          "model_module_version": "1.2.0",
          "state": {
            "_model_module": "@jupyter-widgets/base",
            "_model_module_version": "1.2.0",
            "_model_name": "LayoutModel",
            "_view_count": null,
            "_view_module": "@jupyter-widgets/base",
            "_view_module_version": "1.2.0",
            "_view_name": "LayoutView",
            "align_content": null,
            "align_items": null,
            "align_self": null,
            "border": null,
            "bottom": null,
            "display": null,
            "flex": null,
            "flex_flow": null,
            "grid_area": null,
            "grid_auto_columns": null,
            "grid_auto_flow": null,
            "grid_auto_rows": null,
            "grid_column": null,
            "grid_gap": null,
            "grid_row": null,
            "grid_template_areas": null,
            "grid_template_columns": null,
            "grid_template_rows": null,
            "height": null,
            "justify_content": null,
            "justify_items": null,
            "left": null,
            "margin": null,
            "max_height": null,
            "max_width": null,
            "min_height": null,
            "min_width": null,
            "object_fit": null,
            "object_position": null,
            "order": null,
            "overflow": null,
            "overflow_x": null,
            "overflow_y": null,
            "padding": null,
            "right": null,
            "top": null,
            "visibility": null,
            "width": null
          }
        },
        "d9096c7f59d246c88283efaa3f34bf9c": {
          "model_module": "@jupyter-widgets/base",
          "model_name": "LayoutModel",
          "model_module_version": "1.2.0",
          "state": {
            "_model_module": "@jupyter-widgets/base",
            "_model_module_version": "1.2.0",
            "_model_name": "LayoutModel",
            "_view_count": null,
            "_view_module": "@jupyter-widgets/base",
            "_view_module_version": "1.2.0",
            "_view_name": "LayoutView",
            "align_content": null,
            "align_items": null,
            "align_self": null,
            "border": null,
            "bottom": null,
            "display": null,
            "flex": null,
            "flex_flow": null,
            "grid_area": null,
            "grid_auto_columns": null,
            "grid_auto_flow": null,
            "grid_auto_rows": null,
            "grid_column": null,
            "grid_gap": null,
            "grid_row": null,
            "grid_template_areas": null,
            "grid_template_columns": null,
            "grid_template_rows": null,
            "height": null,
            "justify_content": null,
            "justify_items": null,
            "left": null,
            "margin": null,
            "max_height": null,
            "max_width": null,
            "min_height": null,
            "min_width": null,
            "object_fit": null,
            "object_position": null,
            "order": null,
            "overflow": null,
            "overflow_x": null,
            "overflow_y": null,
            "padding": null,
            "right": null,
            "top": null,
            "visibility": null,
            "width": null
          }
        },
        "960880a3603c44a689fff7a7eca88dc0": {
          "model_module": "@jupyter-widgets/controls",
          "model_name": "DescriptionStyleModel",
          "model_module_version": "1.5.0",
          "state": {
            "_model_module": "@jupyter-widgets/controls",
            "_model_module_version": "1.5.0",
            "_model_name": "DescriptionStyleModel",
            "_view_count": null,
            "_view_module": "@jupyter-widgets/base",
            "_view_module_version": "1.2.0",
            "_view_name": "StyleView",
            "description_width": ""
          }
        },
        "44fa741f1289406885f0177e56473670": {
          "model_module": "@jupyter-widgets/base",
          "model_name": "LayoutModel",
          "model_module_version": "1.2.0",
          "state": {
            "_model_module": "@jupyter-widgets/base",
            "_model_module_version": "1.2.0",
            "_model_name": "LayoutModel",
            "_view_count": null,
            "_view_module": "@jupyter-widgets/base",
            "_view_module_version": "1.2.0",
            "_view_name": "LayoutView",
            "align_content": null,
            "align_items": null,
            "align_self": null,
            "border": null,
            "bottom": null,
            "display": null,
            "flex": null,
            "flex_flow": null,
            "grid_area": null,
            "grid_auto_columns": null,
            "grid_auto_flow": null,
            "grid_auto_rows": null,
            "grid_column": null,
            "grid_gap": null,
            "grid_row": null,
            "grid_template_areas": null,
            "grid_template_columns": null,
            "grid_template_rows": null,
            "height": null,
            "justify_content": null,
            "justify_items": null,
            "left": null,
            "margin": null,
            "max_height": null,
            "max_width": null,
            "min_height": null,
            "min_width": null,
            "object_fit": null,
            "object_position": null,
            "order": null,
            "overflow": null,
            "overflow_x": null,
            "overflow_y": null,
            "padding": null,
            "right": null,
            "top": null,
            "visibility": null,
            "width": null
          }
        },
        "1934b626472a43b5b2c53d04f374f8cd": {
          "model_module": "@jupyter-widgets/controls",
          "model_name": "ProgressStyleModel",
          "model_module_version": "1.5.0",
          "state": {
            "_model_module": "@jupyter-widgets/controls",
            "_model_module_version": "1.5.0",
            "_model_name": "ProgressStyleModel",
            "_view_count": null,
            "_view_module": "@jupyter-widgets/base",
            "_view_module_version": "1.2.0",
            "_view_name": "StyleView",
            "bar_color": null,
            "description_width": ""
          }
        },
        "87de72f09c8645ccac36a8c055a85483": {
          "model_module": "@jupyter-widgets/base",
          "model_name": "LayoutModel",
          "model_module_version": "1.2.0",
          "state": {
            "_model_module": "@jupyter-widgets/base",
            "_model_module_version": "1.2.0",
            "_model_name": "LayoutModel",
            "_view_count": null,
            "_view_module": "@jupyter-widgets/base",
            "_view_module_version": "1.2.0",
            "_view_name": "LayoutView",
            "align_content": null,
            "align_items": null,
            "align_self": null,
            "border": null,
            "bottom": null,
            "display": null,
            "flex": null,
            "flex_flow": null,
            "grid_area": null,
            "grid_auto_columns": null,
            "grid_auto_flow": null,
            "grid_auto_rows": null,
            "grid_column": null,
            "grid_gap": null,
            "grid_row": null,
            "grid_template_areas": null,
            "grid_template_columns": null,
            "grid_template_rows": null,
            "height": null,
            "justify_content": null,
            "justify_items": null,
            "left": null,
            "margin": null,
            "max_height": null,
            "max_width": null,
            "min_height": null,
            "min_width": null,
            "object_fit": null,
            "object_position": null,
            "order": null,
            "overflow": null,
            "overflow_x": null,
            "overflow_y": null,
            "padding": null,
            "right": null,
            "top": null,
            "visibility": null,
            "width": null
          }
        },
        "b01c1c45a3c1467194a902df59f4a870": {
          "model_module": "@jupyter-widgets/controls",
          "model_name": "DescriptionStyleModel",
          "model_module_version": "1.5.0",
          "state": {
            "_model_module": "@jupyter-widgets/controls",
            "_model_module_version": "1.5.0",
            "_model_name": "DescriptionStyleModel",
            "_view_count": null,
            "_view_module": "@jupyter-widgets/base",
            "_view_module_version": "1.2.0",
            "_view_name": "StyleView",
            "description_width": ""
          }
        }
      }
    }
  },
  "nbformat": 4,
  "nbformat_minor": 0
}