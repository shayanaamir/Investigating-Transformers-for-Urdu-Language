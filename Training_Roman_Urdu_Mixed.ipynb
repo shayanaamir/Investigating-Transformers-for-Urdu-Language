{
  "cells": [
    {
      "cell_type": "markdown",
      "metadata": {
        "id": "BzryUHmEZNnw"
      },
      "source": [
        "## Installing Transformers and Sentencepiece"
      ]
    },
    {
      "cell_type": "code",
      "execution_count": null,
      "metadata": {
        "colab": {
          "base_uri": "https://localhost:8080/"
        },
        "id": "YbqMFrr-ZKcZ",
        "outputId": "3fdb8838-a355-410b-f502-25d33d02f864"
      },
      "outputs": [
        {
          "output_type": "stream",
          "name": "stdout",
          "text": [
            "Looking in indexes: https://pypi.org/simple, https://us-python.pkg.dev/colab-wheels/public/simple/\n",
            "Collecting transformers\n",
            "  Downloading transformers-4.21.0-py3-none-any.whl (4.7 MB)\n",
            "\u001b[K     |████████████████████████████████| 4.7 MB 32.1 MB/s \n",
            "\u001b[?25hRequirement already satisfied: requests in /usr/local/lib/python3.7/dist-packages (from transformers) (2.23.0)\n",
            "Requirement already satisfied: tqdm>=4.27 in /usr/local/lib/python3.7/dist-packages (from transformers) (4.64.0)\n",
            "Collecting huggingface-hub<1.0,>=0.1.0\n",
            "  Downloading huggingface_hub-0.8.1-py3-none-any.whl (101 kB)\n",
            "\u001b[K     |████████████████████████████████| 101 kB 13.6 MB/s \n",
            "\u001b[?25hRequirement already satisfied: filelock in /usr/local/lib/python3.7/dist-packages (from transformers) (3.7.1)\n",
            "Requirement already satisfied: packaging>=20.0 in /usr/local/lib/python3.7/dist-packages (from transformers) (21.3)\n",
            "Requirement already satisfied: importlib-metadata in /usr/local/lib/python3.7/dist-packages (from transformers) (4.12.0)\n",
            "Requirement already satisfied: regex!=2019.12.17 in /usr/local/lib/python3.7/dist-packages (from transformers) (2022.6.2)\n",
            "Requirement already satisfied: numpy>=1.17 in /usr/local/lib/python3.7/dist-packages (from transformers) (1.21.6)\n",
            "Collecting pyyaml>=5.1\n",
            "  Downloading PyYAML-6.0-cp37-cp37m-manylinux_2_5_x86_64.manylinux1_x86_64.manylinux_2_12_x86_64.manylinux2010_x86_64.whl (596 kB)\n",
            "\u001b[K     |████████████████████████████████| 596 kB 66.0 MB/s \n",
            "\u001b[?25hCollecting tokenizers!=0.11.3,<0.13,>=0.11.1\n",
            "  Downloading tokenizers-0.12.1-cp37-cp37m-manylinux_2_12_x86_64.manylinux2010_x86_64.whl (6.6 MB)\n",
            "\u001b[K     |████████████████████████████████| 6.6 MB 59.4 MB/s \n",
            "\u001b[?25hRequirement already satisfied: typing-extensions>=3.7.4.3 in /usr/local/lib/python3.7/dist-packages (from huggingface-hub<1.0,>=0.1.0->transformers) (4.1.1)\n",
            "Requirement already satisfied: pyparsing!=3.0.5,>=2.0.2 in /usr/local/lib/python3.7/dist-packages (from packaging>=20.0->transformers) (3.0.9)\n",
            "Requirement already satisfied: zipp>=0.5 in /usr/local/lib/python3.7/dist-packages (from importlib-metadata->transformers) (3.8.1)\n",
            "Requirement already satisfied: certifi>=2017.4.17 in /usr/local/lib/python3.7/dist-packages (from requests->transformers) (2022.6.15)\n",
            "Requirement already satisfied: urllib3!=1.25.0,!=1.25.1,<1.26,>=1.21.1 in /usr/local/lib/python3.7/dist-packages (from requests->transformers) (1.24.3)\n",
            "Requirement already satisfied: idna<3,>=2.5 in /usr/local/lib/python3.7/dist-packages (from requests->transformers) (2.10)\n",
            "Requirement already satisfied: chardet<4,>=3.0.2 in /usr/local/lib/python3.7/dist-packages (from requests->transformers) (3.0.4)\n",
            "Installing collected packages: pyyaml, tokenizers, huggingface-hub, transformers\n",
            "  Attempting uninstall: pyyaml\n",
            "    Found existing installation: PyYAML 3.13\n",
            "    Uninstalling PyYAML-3.13:\n",
            "      Successfully uninstalled PyYAML-3.13\n",
            "Successfully installed huggingface-hub-0.8.1 pyyaml-6.0 tokenizers-0.12.1 transformers-4.21.0\n",
            "Looking in indexes: https://pypi.org/simple, https://us-python.pkg.dev/colab-wheels/public/simple/\n",
            "Collecting sentencepiece\n",
            "  Downloading sentencepiece-0.1.96-cp37-cp37m-manylinux_2_17_x86_64.manylinux2014_x86_64.whl (1.2 MB)\n",
            "\u001b[K     |████████████████████████████████| 1.2 MB 29.9 MB/s \n",
            "\u001b[?25hInstalling collected packages: sentencepiece\n",
            "Successfully installed sentencepiece-0.1.96\n"
          ]
        }
      ],
      "source": [
        "#install transformers \n",
        "!pip install transformers\n",
        "!pip install sentencepiece"
      ]
    },
    {
      "cell_type": "markdown",
      "metadata": {
        "id": "BgUXxg2yZTrD"
      },
      "source": [
        "## Necessary imports"
      ]
    },
    {
      "cell_type": "code",
      "execution_count": null,
      "metadata": {
        "id": "Tma0PyY1S5yF"
      },
      "outputs": [],
      "source": [
        "import pandas as pd\n",
        "import matplotlib.pyplot as plt\n",
        "import numpy as np\n",
        "import torch\n",
        "from transformers import AutoTokenizer, XLMRobertaForSequenceClassification, AdamW, get_linear_schedule_with_warmup, get_scheduler\n",
        "from torch.utils.data import TensorDataset, random_split, DataLoader, RandomSampler, SequentialSampler\n",
        "import random\n",
        "from tqdm.auto import tqdm"
      ]
    },
    {
      "cell_type": "markdown",
      "source": [
        "#Import Dataset"
      ],
      "metadata": {
        "id": "C4dOnri8pzzp"
      }
    },
    {
      "cell_type": "code",
      "source": [
        "mixed = pd.read_csv(\"/content/mixed_dataset.csv\")"
      ],
      "metadata": {
        "id": "wKOnHQc7p4a4"
      },
      "execution_count": null,
      "outputs": []
    },
    {
      "cell_type": "markdown",
      "metadata": {
        "id": "AvB_pS4vTVCJ"
      },
      "source": [
        "## 1.2 - Visualizing the data of Dataset"
      ]
    },
    {
      "cell_type": "code",
      "execution_count": null,
      "metadata": {
        "colab": {
          "base_uri": "https://localhost:8080/",
          "height": 312
        },
        "id": "G-hDSaMETSFu",
        "outputId": "6d6ba32f-428f-4e00-ae6a-c5eaa46371a1"
      },
      "outputs": [
        {
          "output_type": "display_data",
          "data": {
            "text/plain": [
              "<Figure size 432x288 with 1 Axes>"
            ],
            "image/png": "[encoded data removed]"
          },
          "metadata": {
            "needs_background": "light"
          }
        },
        {
          "output_type": "stream",
          "name": "stdout",
          "text": [
            "Positive 31677, Negative 24307, Neutral 23570\n"
          ]
        }
      ],
      "source": [
        "y = list(mixed[\"Sentiment\"].value_counts()) # getting frequency of all the 2 sentiments\n",
        "plt.plot()\n",
        "plt.bar([\"Positive\", \"Negative\", \"Neutral\"], y) # plottign frequency against labels in a bar chart\n",
        "plt.xlabel(\"Sentiment POS/NEG/NEU\")\n",
        "plt.ylabel(\"Frequency\")\n",
        "plt.title(\"Sentiment frequency of all Urdu Datasets\")\n",
        "plt.show()\n",
        "\n",
        "print(\"Positive {}, Negative {}, Neutral {}\".format(y[0], y[1], y[2]))"
      ]
    },
    {
      "cell_type": "markdown",
      "metadata": {
        "id": "e83KK8X6ThTl"
      },
      "source": [
        "## Importing Tokenizer"
      ]
    },
    {
      "cell_type": "code",
      "execution_count": null,
      "metadata": {
        "colab": {
          "base_uri": "https://localhost:8080/",
          "height": 225,
          "referenced_widgets": [
            "395f5384e66c4c919ab9909da6470520",
            "1820d2c3e0634dca95e79e05b231654e",
            "efb3e4f1e74848d6b8dab28550f08fad",
            "c3ef937bd58b48c9bc1294d9760c6c60",
            "d8edf18fd2b642eba5bb4d05c8bae047",
            "ec284aece59543098335cdb035287d27",
            "2d2f9c08d6854c67a1b2d8ab907c3043",
            "a53aea698fd941beb40b44c96dd318f4",
            "c954dfe65d4b4d61ad4c0ee3c64be737",
            "9ad5ca453f114f01b26bbe5d0181a999",
            "6bfd355fea084075b53bf8a776901dfb",
            "bac94bfa6a5a47c4b19ac7c3bcef72d6",
            "f2cd19d8b2244bc9aeaef667fac00f6c",
            "e348fe6888ac4e9684899181751ef6d1",
            "ff7e881e0396456295fc66406c590b20",
            "67ac477d96244da89ab3c3261f6bd58e",
            "328677370c5a444db987533c4a62bac1",
            "95dd369d8b2e4d4d80e23facfeeea8cd",
            "cc033fcaef384fc6a75e3986fe838f51",
            "261b4b3f5d2b45a3b75d2ed17ac777d5",
            "6d75c28be11f4f71934e3cb56d21bca2",
            "a40d018c7c024039acdd70dc135f4bd0",
            "46bea00d9fd841c683acf076481eee5c",
            "2f95e0cc3ea245c4b54b2bf447751bd0",
            "952846b2b65e4c42b2bd1f259625c7b2",
            "ce9ea66eee7f4a75b7dc8d9c9f2c632c",
            "d880ba00a94e472c81395f6725337f5b",
            "bde73e57c96d4ba3911fd58e3c60e196",
            "0e900ca716104b3b97f8bbdb8ff489ca",
            "def34c502a464667a644647d79358b8f",
            "ee390eee266644c7b9584ccae6a469ba",
            "b5506c4ba73c424b8a8419366c331618",
            "c66fa45ce1574527b5a78e535d884e01"
          ]
        },
        "id": "B60HZIhZTjau",
        "outputId": "1778272e-6288-42c6-bc1a-002201968425"
      },
      "outputs": [
        {
          "output_type": "display_data",
          "data": {
            "text/plain": [
              "Downloading config.json:   0%|          | 0.00/615 [00:00<?, ?B/s]"
            ],
            "application/vnd.jupyter.widget-view+json": {
              "version_major": 2,
              "version_minor": 0,
              "model_id": "395f5384e66c4c919ab9909da6470520"
            }
          },
          "metadata": {}
        },
        {
          "output_type": "display_data",
          "data": {
            "text/plain": [
              "Downloading sentencepiece.bpe.model:   0%|          | 0.00/4.83M [00:00<?, ?B/s]"
            ],
            "application/vnd.jupyter.widget-view+json": {
              "version_major": 2,
              "version_minor": 0,
              "model_id": "bac94bfa6a5a47c4b19ac7c3bcef72d6"
            }
          },
          "metadata": {}
        },
        {
          "output_type": "display_data",
          "data": {
            "text/plain": [
              "Downloading tokenizer.json:   0%|          | 0.00/8.68M [00:00<?, ?B/s]"
            ],
            "application/vnd.jupyter.widget-view+json": {
              "version_major": 2,
              "version_minor": 0,
              "model_id": "46bea00d9fd841c683acf076481eee5c"
            }
          },
          "metadata": {}
        }
      ],
      "source": [
        "# Download the tokenizer for the XLM-Robert `base` model.\n",
        "xlmr_tokenizer = AutoTokenizer.from_pretrained(\"xlm-roberta-base\")"
      ]
    },
    {
      "cell_type": "markdown",
      "metadata": {
        "id": "EgVFE32kTyaf"
      },
      "source": [
        "## Sample tokenization of text (and checking data)"
      ]
    },
    {
      "cell_type": "code",
      "execution_count": null,
      "metadata": {
        "colab": {
          "base_uri": "https://localhost:8080/"
        },
        "id": "XnurSFoLTxhr",
        "outputId": "cbcdb0f3-6e92-478d-de63-61273a9ccc7f"
      },
      "outputs": [
        {
          "output_type": "stream",
          "name": "stdout",
          "text": [
            "sample text =  aram sy pocket may aa jta hai aur quality b achi hai\n",
            "XLMR Roberta covert sample text into following tokens \n",
            "  ['▁a', 'ram', '▁sy', '▁pocket', '▁may', '▁a', 'a', '▁j', 'ta', '▁hai', '▁aur', '▁quality', '▁b', '▁a', 'chi', '▁hai']\n"
          ]
        }
      ],
      "source": [
        "#xlmr_tokenizer creates tokens based on subword\n",
        "print(\"sample text = \", mixed.Text[1])\n",
        "tokens = xlmr_tokenizer.tokenize(mixed.Text[1])\n",
        "print(\"XLMR Roberta covert sample text into following tokens \\n \", tokens)"
      ]
    },
    {
      "cell_type": "code",
      "execution_count": null,
      "metadata": {
        "colab": {
          "base_uri": "https://localhost:8080/"
        },
        "id": "wIzigJCOT83l",
        "outputId": "d5499771-fa1f-48ae-a864-e174c178b7cd"
      },
      "outputs": [
        {
          "output_type": "stream",
          "name": "stdout",
          "text": [
            "aram sy pocket may aa jta hai aur quality b achi hai\n",
            "sb sy achi chez apki customer service bhot achi hai aur products b orignal hai\n",
            "back cover acha hai sai cuts hai aur soft b hai kaafi acha hai lakin protector chota hai size may khaas tor b width may lakin touch sai kaam kar rha hai isi hi tarha sensor b sb kuch thek hai aur combination b acha hai\n"
          ]
        }
      ],
      "source": [
        "#some samples from data frame\n",
        "print(mixed.Text[1])\n",
        "print(mixed.Text[2])\n",
        "print(mixed.Text[3])"
      ]
    },
    {
      "cell_type": "code",
      "execution_count": null,
      "metadata": {
        "colab": {
          "base_uri": "https://localhost:8080/"
        },
        "id": "hPbaR-YVUEti",
        "outputId": "f7de8f9b-f3f7-4084-c967-23c12022027f"
      },
      "outputs": [
        {
          "output_type": "execute_result",
          "data": {
            "text/plain": [
              "0        0\n",
              "1        0\n",
              "2        0\n",
              "3        0\n",
              "4        1\n",
              "        ..\n",
              "79549    2\n",
              "79550    2\n",
              "79551    2\n",
              "79552    0\n",
              "79553    2\n",
              "Name: Sentiment, Length: 79554, dtype: int64"
            ]
          },
          "metadata": {},
          "execution_count": 8
        }
      ],
      "source": [
        "#checking the sentiment values \n",
        "#later on we will convert them into categorie i.e, integers\n",
        "mixed['Sentiment']"
      ]
    },
    {
      "cell_type": "code",
      "execution_count": null,
      "metadata": {
        "colab": {
          "base_uri": "https://localhost:8080/"
        },
        "id": "cXghv88xUKMz",
        "outputId": "0d0243fe-2284-4954-fec5-ffab66a58314"
      },
      "outputs": [
        {
          "output_type": "stream",
          "name": "stdout",
          "text": [
            "0\n",
            "0\n",
            "0\n"
          ]
        }
      ],
      "source": [
        "#accessing the sentiments for first few samples \n",
        "print(mixed.at[0,'Sentiment'])\n",
        "print(mixed.at[1,'Sentiment'])\n",
        "print(mixed.at[2,'Sentiment'])"
      ]
    },
    {
      "cell_type": "markdown",
      "metadata": {
        "id": "pOW7XSNgUgLi"
      },
      "source": [
        "## ***Encoding all samples while varying the max_length hyperparameter***"
      ]
    },
    {
      "cell_type": "markdown",
      "metadata": {
        "id": "Y3MwZLCVWva-"
      },
      "source": [
        "## 1. First run:\n",
        "    - Hyperparameters:\n",
        "        - max_length = 50\n",
        "        - epochs = 5\n",
        "        - batch_size = 16"
      ]
    },
    {
      "cell_type": "code",
      "execution_count": null,
      "metadata": {
        "colab": {
          "base_uri": "https://localhost:8080/",
          "height": 712,
          "referenced_widgets": [
            "a6edc1b2911e4dc7b8a44417967f2463",
            "a18a8910d76b4e499e7b1921a6ff6da4",
            "6dd59535911d4e94a7dc9c1ae35224ab",
            "a1bd3c547e694b20be79beb75fc163be",
            "5cd31b759cb14c349522857cfce41443",
            "4c196524d46647f1b332ec8794de7e57",
            "4acc47b35d824dc8b3249bd33c7ea7fa",
            "f13b4c7bef7241068a10a941fd211e33",
            "e5b01716f0fd4fb8b9cb7d786d862d7f",
            "30ce561bafb942bd9bc17bbf01b1c0ce",
            "f621f7135c94415c84427e3f54891f69",
            "126c7e109c174f12998f3763f2285634",
            "5d3eda70532443248cb9f937e0bc83b2",
            "4149b3a0101746f2811f1cb647cb9ebe",
            "292ae711caa64c349d67327e5d55d076",
            "50b2e4abe1044741bb989bb63db937c1",
            "b0d7b2b132f64b29982e39f06044340e",
            "13f5c173cdee4c86be0816ac01c56dc3",
            "3f4ddc110ae4425f8b3bfc98a1c96de9",
            "14e2e8c2f9bf47f385fc80666c898b6f",
            "047549182be640da8e2dbe341c467a76",
            "932359b9555a4ca8b71bcd4c0d752bf0"
          ]
        },
        "id": "eZOzL6ZbXLR-",
        "outputId": "4e5a0776-cb30-4e0a-e415-4804bd59a188"
      },
      "outputs": [
        {
          "output_type": "stream",
          "name": "stdout",
          "text": [
            "Encoding all Examples in the dataset \n",
            "\n"
          ]
        },
        {
          "output_type": "display_data",
          "data": {
            "text/plain": [
              "Downloading pytorch_model.bin:   0%|          | 0.00/1.04G [00:00<?, ?B/s]"
            ],
            "application/vnd.jupyter.widget-view+json": {
              "version_major": 2,
              "version_minor": 0,
              "model_id": "a6edc1b2911e4dc7b8a44417967f2463"
            }
          },
          "metadata": {}
        },
        {
          "output_type": "stream",
          "name": "stderr",
          "text": [
            "Some weights of the model checkpoint at xlm-roberta-base were not used when initializing XLMRobertaForSequenceClassification: ['roberta.pooler.dense.weight', 'lm_head.bias', 'lm_head.layer_norm.bias', 'lm_head.dense.weight', 'lm_head.decoder.weight', 'lm_head.layer_norm.weight', 'lm_head.dense.bias', 'roberta.pooler.dense.bias']\n",
            "- This IS expected if you are initializing XLMRobertaForSequenceClassification from the checkpoint of a model trained on another task or with another architecture (e.g. initializing a BertForSequenceClassification model from a BertForPreTraining model).\n",
            "- This IS NOT expected if you are initializing XLMRobertaForSequenceClassification from the checkpoint of a model that you expect to be exactly identical (initializing a BertForSequenceClassification model from a BertForSequenceClassification model).\n",
            "Some weights of XLMRobertaForSequenceClassification were not initialized from the model checkpoint at xlm-roberta-base and are newly initialized: ['classifier.dense.bias', 'classifier.out_proj.weight', 'classifier.out_proj.bias', 'classifier.dense.weight']\n",
            "You should probably TRAIN this model on a down-stream task to be able to use it for predictions and inference.\n"
          ]
        },
        {
          "output_type": "stream",
          "name": "stdout",
          "text": [
            "Loading model to GPU\n",
            "GPU: Tesla T4\n",
            "Done\n"
          ]
        },
        {
          "output_type": "stream",
          "name": "stderr",
          "text": [
            "/usr/local/lib/python3.7/dist-packages/transformers/optimization.py:310: FutureWarning: This implementation of AdamW is deprecated and will be removed in a future version. Use the PyTorch implementation torch.optim.AdamW instead, or set `no_deprecation_warning=True` to disable this warning\n",
            "  FutureWarning,\n"
          ]
        },
        {
          "output_type": "display_data",
          "data": {
            "text/plain": [
              "  0%|          | 0/22375 [00:00<?, ?it/s]"
            ],
            "application/vnd.jupyter.widget-view+json": {
              "version_major": 2,
              "version_minor": 0,
              "model_id": "126c7e109c174f12998f3763f2285634"
            }
          },
          "metadata": {}
        },
        {
          "output_type": "stream",
          "name": "stdout",
          "text": [
            "Epoch: 1\n",
            "Epoch:  5\n",
            "XLMR - validation accuracy  0.669683257918552\n",
            "------------------------------------ \n",
            "Epoch: 2\n",
            "Epoch:  5\n",
            "XLMR - validation accuracy  0.6909250879839115\n",
            "------------------------------------ \n",
            "Epoch: 3\n",
            "Epoch:  5\n",
            "XLMR - validation accuracy  0.7024886877828054\n",
            "------------------------------------ \n",
            "Epoch: 4\n",
            "Epoch:  5\n",
            "XLMR - validation accuracy  0.7077677224736049\n",
            "------------------------------------ \n",
            "Epoch: 5\n",
            "Epoch:  5\n",
            "XLMR - validation accuracy  0.7097787833081951\n",
            "------------------------------------ \n"
          ]
        }
      ],
      "source": [
        "labels_ur = []\n",
        "input_ids_ur = []\n",
        "attn_masks_ur= []\n",
        "\n",
        "print(\"Encoding all Examples in the dataset \\n\" )\n",
        "\n",
        "for ind in mixed.index:\n",
        "  text = mixed.Text[ind]\n",
        "  #convert sentence pairs to input ids, with attention masks\n",
        "  \n",
        "  encoded_dict = xlmr_tokenizer.encode_plus(text,max_length = 50,  \n",
        "                                       padding='max_length',\n",
        "                                       truncation=True,\n",
        "                                       return_tensors = 'pt')\n",
        "                                      \n",
        "  \n",
        "\n",
        "  \n",
        "  input_ids_ur.append(encoded_dict['input_ids'])\n",
        "  attn_masks_ur.append(encoded_dict['attention_mask'])\n",
        "  #print(ex['label'].numpy)\n",
        "  #we are converting the data into labels\n",
        "  labels_ur.append(mixed.at[ind,'Sentiment'].astype(np.int64))\n",
        "  \n",
        "  #convert each python list of tensor to 2D tensor Matrix\n",
        "input_ids_ur = torch.cat(input_ids_ur,dim=0)\n",
        "attn_masks_ur = torch.cat(attn_masks_ur,dim=0)\n",
        "\n",
        "#cast the labels into tensors\n",
        "labels_ur = torch.tensor(labels_ur)\n",
        "#print(len(labels_ur))\n",
        "\n",
        "#combine the trainign inputs to tensorDatasets\n",
        "dataset = TensorDataset(input_ids_ur,attn_masks_ur, labels_ur)\n",
        "\n",
        " #create a 90-10 train validation split\n",
        "train_size = int(0.9*(len(dataset)))\n",
        "val_size = len(dataset) - train_size\n",
        "\n",
        "train_dataset, val_dataset = random_split(dataset,[train_size, val_size])\n",
        "\n",
        "batch_size=16\n",
        "\n",
        "train_dataloader = DataLoader(train_dataset,\n",
        "                          sampler=RandomSampler(train_dataset),\n",
        "                          batch_size = batch_size)\n",
        "\n",
        "\n",
        "validation_dataloader = DataLoader(val_dataset,\n",
        "                          sampler=RandomSampler(val_dataset),\n",
        "                          batch_size = batch_size)\n",
        "\n",
        "xlmr_model = XLMRobertaForSequenceClassification.from_pretrained(\"xlm-roberta-base\",num_labels=3)\n",
        "\n",
        "print(\"Loading model to GPU\")\n",
        "#connect to GPU\n",
        "device = torch.device('cuda')\n",
        "#report the GPu which is granted \n",
        "print('GPU:',torch.cuda.get_device_name(0))\n",
        "#copy the initial model with weights to GPU\n",
        "desc = xlmr_model.to(device)\n",
        "print(\"Done\")\n",
        "\n",
        "optimizer  = AdamW(xlmr_model.parameters(),\n",
        "                   lr = 2e-6,# learning rate\n",
        "                   eps=1e-8 # args.adma_epsilon\n",
        "                   )\n",
        "\n",
        "#number of training epochs\n",
        "epochs = 5\n",
        "#total no of training steps is [number of batches]*[number of epoches]\n",
        "total_steps = len(train_dataloader)*epochs\n",
        "\n",
        "#create the learning rate scheduler \n",
        "scheduler  =  get_linear_schedule_with_warmup(optimizer, \n",
        "                                              num_warmup_steps = 0,\n",
        "                                              num_training_steps = total_steps)\n",
        "\n",
        "progress_bar = tqdm(range(total_steps))\n",
        "\n",
        "lr_scheduler = get_scheduler(\n",
        "    \"linear\",\n",
        "    optimizer=optimizer,\n",
        "    num_warmup_steps=0,\n",
        "    num_training_steps=total_steps,\n",
        ")\n",
        "\n",
        "seed_val = 42\n",
        "random.seed(seed_val)\n",
        "np.random.seed(seed_val)\n",
        "torch.manual_seed(seed_val)\n",
        "torch.cuda.manual_seed_all(seed_val)\n",
        "\n",
        "training_stats = []\n",
        "\n",
        "for epoch_i in range(0,epochs):\n",
        "  #training\n",
        "  print(\"Epoch:\",epoch_i+1)\n",
        "  total_train_loss = 0\n",
        "  xlmr_model.train()\n",
        "  \n",
        "  #For each batch of train_data\n",
        "  for step, batch in enumerate(train_dataloader):\n",
        "    #progress update \n",
        "    b_input_ids = batch[0].to(device)\n",
        "    b_input_mask = batch[1].to(device)\n",
        "    b_lables = batch[2].to(device)\n",
        "    xlmr_model.zero_grad()\n",
        "    outputs =xlmr_model(b_input_ids,attention_mask = b_input_mask,labels=b_lables)\n",
        "    loss = outputs.loss\n",
        "    loss.backward()\n",
        "    optimizer.step()\n",
        "    lr_scheduler.step()\n",
        "    optimizer.zero_grad()\n",
        "    progress_bar.update(1)\n",
        "  \n",
        "  #put the model in evaluation mode\n",
        "  xlmr_model.eval()\n",
        "  model_predictions=[]\n",
        "  true_labels=[]\n",
        "\n",
        "  for batch in validation_dataloader:\n",
        "      b_input_ids = batch[0].to(device)\n",
        "      b_input_mask = batch[1].to(device)\n",
        "      b_lables = batch[2].to(device)\n",
        "\n",
        "      with torch.no_grad():\n",
        "        outputs = xlmr_model(b_input_ids,attention_mask = b_input_mask)\n",
        "      \n",
        "      logits = outputs.logits\n",
        "      logits=logits.detach().cpu().numpy()\n",
        "      label_ids = b_lables.to('cpu').numpy()\n",
        "      predictions = np.argmax(logits, axis = -1)\n",
        "      model_predictions.append(logits)\n",
        "      true_labels.append(label_ids)\n",
        "  \n",
        "  flat_predictions = np.concatenate(model_predictions, axis=0)\n",
        "  flat_true_labels = np.concatenate(true_labels, axis=0)\n",
        "  predicted_labels = np.argmax(flat_predictions, axis=1).flatten()\n",
        "  accuracy = (predicted_labels==flat_true_labels).mean()\n",
        "  \n",
        "  print(\"Epoch: \", epochs)\n",
        "  print('XLMR - validation accuracy ', accuracy)\n",
        "  print(\"------------------------------------ \")"
      ]
    },
    {
      "cell_type": "markdown",
      "metadata": {
        "id": "bklrDhCWaBP4"
      },
      "source": [
        "## Evaluating the trained Model"
      ]
    },
    {
      "cell_type": "code",
      "execution_count": null,
      "metadata": {
        "id": "VaiHh07HaDkJ"
      },
      "outputs": [],
      "source": [
        "xlmr_model.eval()\n",
        "model_predictions=[]\n",
        "true_labels=[]\n",
        "for batch in validation_dataloader:\n",
        "\n",
        "    b_input_ids = batch[0].to(device)\n",
        "    b_input_mask = batch[1].to(device)\n",
        "    b_lables = batch[2].to(device)\n",
        "\n",
        "    with torch.no_grad():\n",
        "      outputs = xlmr_model(b_input_ids,attention_mask = b_input_mask)\n",
        "    logits = outputs.logits\n",
        "    logits=logits.detach().cpu().numpy()\n",
        "    label_ids = b_lables.to('cpu').numpy()\n",
        "    predictions = np.argmax(logits, axis = -1)\n",
        "    #print(b_lables)\n",
        "    #print(predictions)\n",
        "    #print(\"\\n -------------------------- \\n\")\n",
        "    model_predictions.append(logits)\n",
        "    true_labels.append(label_ids)"
      ]
    },
    {
      "cell_type": "code",
      "execution_count": null,
      "metadata": {
        "id": "KOH2O_E2aFTS"
      },
      "outputs": [],
      "source": [
        "#combine the results across all batches\n",
        "#predictions\n",
        "flat_predictions = np.concatenate(model_predictions, axis=0)\n",
        "flat_true_labels = np.concatenate(true_labels, axis=0)\n",
        "\n",
        "##for sample pick the label\n",
        "predicted_labels = np.argmax(flat_predictions, axis=1).flatten()"
      ]
    },
    {
      "cell_type": "code",
      "execution_count": null,
      "metadata": {
        "id": "x1H_zsMOaG_m",
        "colab": {
          "base_uri": "https://localhost:8080/"
        },
        "outputId": "5fda935a-a7db-4179-c29a-7f105173263b"
      },
      "outputs": [
        {
          "output_type": "stream",
          "name": "stdout",
          "text": [
            "XLMR- prediction accuracy 0.7097787833081951\n"
          ]
        }
      ],
      "source": [
        "# the number of correct predictions to get our accuracy\n",
        "accuracy = (predicted_labels==flat_true_labels).mean()\n",
        "print('XLMR- prediction accuracy',accuracy)"
      ]
    },
    {
      "cell_type": "markdown",
      "metadata": {
        "id": "qgqOhE-3QL8o"
      },
      "source": [
        "## 2. Second run:\n",
        "    - Hyperparameters:\n",
        "        - max_length = 50\n",
        "        - epochs = 30\n",
        "        - batch_size = 16\n",
        "        - learning_rate = 2e-5"
      ]
    },
    {
      "cell_type": "code",
      "execution_count": null,
      "metadata": {
        "id": "ooZj67s8QM-h",
        "colab": {
          "base_uri": "https://localhost:8080/",
          "height": 652,
          "referenced_widgets": [
            "8ea30646f3e4466fa81e66b37554c894",
            "5efdb716e2744abf9f473eab00b63089",
            "1c8cd97940e94c4fb1ba564d5e119f57",
            "4644fbaa65624ce3954e47f43d8ba964",
            "f642ae115bcc4bedba7cd9a1c0c1aff1",
            "ca54900fdfe644c3a14df4e71b92f555",
            "4e7e698a792b4dca9bbc8dc305f2bdba",
            "dad8b9ef65e14a7eac7430b0c493e6d1",
            "18d9a36ece8e46ec8f5dc1555aa41aac",
            "d0d37f36b97d403886b1f16f0ab990e9",
            "bfaeebdf233e40e994f7c392476cdbdb"
          ]
        },
        "outputId": "34c5127b-b7cf-459d-e68c-ef8dba17375f"
      },
      "outputs": [
        {
          "metadata": {
            "tags": null
          },
          "name": "stdout",
          "output_type": "stream",
          "text": [
            "Encoding all Examples in the dataset \n",
            "\n"
          ]
        },
        {
          "metadata": {
            "tags": null
          },
          "name": "stderr",
          "output_type": "stream",
          "text": [
            "Some weights of the model checkpoint at xlm-roberta-base were not used when initializing XLMRobertaForSequenceClassification: ['roberta.pooler.dense.weight', 'lm_head.bias', 'lm_head.layer_norm.bias', 'lm_head.dense.weight', 'lm_head.decoder.weight', 'lm_head.layer_norm.weight', 'lm_head.dense.bias', 'roberta.pooler.dense.bias']\n",
            "- This IS expected if you are initializing XLMRobertaForSequenceClassification from the checkpoint of a model trained on another task or with another architecture (e.g. initializing a BertForSequenceClassification model from a BertForPreTraining model).\n",
            "- This IS NOT expected if you are initializing XLMRobertaForSequenceClassification from the checkpoint of a model that you expect to be exactly identical (initializing a BertForSequenceClassification model from a BertForSequenceClassification model).\n",
            "Some weights of XLMRobertaForSequenceClassification were not initialized from the model checkpoint at xlm-roberta-base and are newly initialized: ['classifier.dense.bias', 'classifier.out_proj.weight', 'classifier.out_proj.bias', 'classifier.dense.weight']\n",
            "You should probably TRAIN this model on a down-stream task to be able to use it for predictions and inference.\n"
          ]
        },
        {
          "metadata": {
            "tags": null
          },
          "name": "stdout",
          "output_type": "stream",
          "text": [
            "Loading model to GPU\n",
            "GPU: Tesla T4\n",
            "Done\n"
          ]
        },
        {
          "metadata": {
            "tags": null
          },
          "name": "stderr",
          "output_type": "stream",
          "text": [
            "/usr/local/lib/python3.7/dist-packages/transformers/optimization.py:310: FutureWarning: This implementation of AdamW is deprecated and will be removed in a future version. Use the PyTorch implementation torch.optim.AdamW instead, or set `no_deprecation_warning=True` to disable this warning\n",
            "  FutureWarning,\n"
          ]
        },
        {
          "data": {
            "application/vnd.jupyter.widget-view+json": {
              "model_id": "8ea30646f3e4466fa81e66b37554c894",
              "version_major": 2,
              "version_minor": 0
            },
            "text/plain": [
              "  0%|          | 0/22375 [00:00<?, ?it/s]"
            ]
          },
          "metadata": {},
          "output_type": "display_data"
        },
        {
          "output_type": "stream",
          "name": "stdout",
          "text": [
            "Epoch: 1\n",
            "Epoch:  5\n",
            "XLMR - validation accuracy  0.7163147310206134\n",
            "------------------------------------ \n",
            "Epoch: 2\n",
            "Epoch:  5\n",
            "XLMR - validation accuracy  0.7450980392156863\n",
            "------------------------------------ \n",
            "Epoch: 3\n",
            "Epoch:  5\n",
            "XLMR - validation accuracy  0.7546505781799899\n",
            "------------------------------------ \n",
            "Epoch: 4\n",
            "Epoch:  5\n",
            "XLMR - validation accuracy  0.755656108597285\n",
            "------------------------------------ \n",
            "Epoch: 5\n",
            "Epoch:  5\n",
            "XLMR - validation accuracy  0.7528908999497235\n",
            "------------------------------------ \n"
          ]
        }
      ],
      "source": [
        "labels_ur = []\n",
        "input_ids_ur = []\n",
        "attn_masks_ur= []\n",
        "\n",
        "print(\"Encoding all Examples in the dataset \\n\" )\n",
        "\n",
        "for ind in mixed.index:\n",
        "  text = mixed.Text[ind]\n",
        "  #convert sentence pairs to input ids, with attention masks\n",
        "  \n",
        "  encoded_dict = xlmr_tokenizer.encode_plus(text,max_length = 50,  \n",
        "                                       padding='max_length',\n",
        "                                       truncation=True,\n",
        "                                       return_tensors = 'pt')\n",
        "                                      \n",
        "  \n",
        "\n",
        "  \n",
        "  input_ids_ur.append(encoded_dict['input_ids'])\n",
        "  attn_masks_ur.append(encoded_dict['attention_mask'])\n",
        "  #print(ex['label'].numpy)\n",
        "  #we are converting the data into labels\n",
        "  labels_ur.append(mixed.at[ind,'Sentiment'].astype(np.int64))\n",
        "  \n",
        "  #convert each python list of tensor to 2D tensor Matrix\n",
        "input_ids_ur = torch.cat(input_ids_ur,dim=0)\n",
        "attn_masks_ur = torch.cat(attn_masks_ur,dim=0)\n",
        "\n",
        "#cast the labels into tensors\n",
        "labels_ur = torch.tensor(labels_ur)\n",
        "#print(len(labels_ur))\n",
        "\n",
        "#combine the trainign inputs to tensorDatasets\n",
        "dataset = TensorDataset(input_ids_ur,attn_masks_ur, labels_ur)\n",
        "\n",
        " #create a 90-10 train validation split\n",
        "train_size = int(0.9*(len(dataset)))\n",
        "val_size = len(dataset) - train_size\n",
        "\n",
        "train_dataset, val_dataset = random_split(dataset,[train_size, val_size])\n",
        "\n",
        "batch_size=16\n",
        "\n",
        "train_dataloader = DataLoader(train_dataset,\n",
        "                          sampler=RandomSampler(train_dataset),\n",
        "                          batch_size = batch_size)\n",
        "\n",
        "\n",
        "validation_dataloader = DataLoader(val_dataset,\n",
        "                          sampler=RandomSampler(val_dataset),\n",
        "                          batch_size = batch_size)\n",
        "\n",
        "xlmr_model = XLMRobertaForSequenceClassification.from_pretrained(\"xlm-roberta-base\",num_labels=3)\n",
        "\n",
        "print(\"Loading model to GPU\")\n",
        "#connect to GPU\n",
        "device = torch.device('cuda')\n",
        "#report the GPu which is granted \n",
        "print('GPU:',torch.cuda.get_device_name(0))\n",
        "#copy the initial model with weights to GPU\n",
        "desc = xlmr_model.to(device)\n",
        "print(\"Done\")\n",
        "\n",
        "optimizer  = AdamW(xlmr_model.parameters(),\n",
        "                   lr = 2e-5,# learning rate\n",
        "                   eps=1e-8 # args.adma_epsilon\n",
        "                   )\n",
        "\n",
        "#number of training epochs\n",
        "epochs = 30\n",
        "#total no of training steps is [number of batches]*[number of epoches]\n",
        "total_steps = len(train_dataloader)*epochs\n",
        "\n",
        "#create the learning rate scheduler \n",
        "scheduler  =  get_linear_schedule_with_warmup(optimizer, \n",
        "                                              num_warmup_steps = 0,\n",
        "                                              num_training_steps = total_steps)\n",
        "\n",
        "progress_bar = tqdm(range(total_steps))\n",
        "\n",
        "lr_scheduler = get_scheduler(\n",
        "    \"linear\",\n",
        "    optimizer=optimizer,\n",
        "    num_warmup_steps=0,\n",
        "    num_training_steps=total_steps,\n",
        ")\n",
        "\n",
        "seed_val = 42\n",
        "random.seed(seed_val)\n",
        "np.random.seed(seed_val)\n",
        "torch.manual_seed(seed_val)\n",
        "torch.cuda.manual_seed_all(seed_val)\n",
        "\n",
        "training_stats = []\n",
        "\n",
        "for epoch_i in range(0,epochs):\n",
        "  #training\n",
        "  print(\"Epoch:\",epoch_i+1)\n",
        "  total_train_loss = 0\n",
        "  xlmr_model.train()\n",
        "  \n",
        "  #For each batch of train_data\n",
        "  for step, batch in enumerate(train_dataloader):\n",
        "    #progress update \n",
        "    b_input_ids = batch[0].to(device)\n",
        "    b_input_mask = batch[1].to(device)\n",
        "    b_lables = batch[2].to(device)\n",
        "    xlmr_model.zero_grad()\n",
        "    outputs =xlmr_model(b_input_ids,attention_mask = b_input_mask,labels=b_lables)\n",
        "    loss = outputs.loss\n",
        "    loss.backward()\n",
        "    optimizer.step()\n",
        "    lr_scheduler.step()\n",
        "    optimizer.zero_grad()\n",
        "    progress_bar.update(1)\n",
        "  \n",
        "  #put the model in evaluation mode\n",
        "  xlmr_model.eval()\n",
        "  model_predictions=[]\n",
        "  true_labels=[]\n",
        "\n",
        "  for batch in validation_dataloader:\n",
        "      b_input_ids = batch[0].to(device)\n",
        "      b_input_mask = batch[1].to(device)\n",
        "      b_lables = batch[2].to(device)\n",
        "\n",
        "      with torch.no_grad():\n",
        "        outputs = xlmr_model(b_input_ids,attention_mask = b_input_mask)\n",
        "      \n",
        "      logits = outputs.logits\n",
        "      logits=logits.detach().cpu().numpy()\n",
        "      label_ids = b_lables.to('cpu').numpy()\n",
        "      predictions = np.argmax(logits, axis = -1)\n",
        "      model_predictions.append(logits)\n",
        "      true_labels.append(label_ids)\n",
        "  \n",
        "  flat_predictions = np.concatenate(model_predictions, axis=0)\n",
        "  flat_true_labels = np.concatenate(true_labels, axis=0)\n",
        "  predicted_labels = np.argmax(flat_predictions, axis=1).flatten()\n",
        "  accuracy = (predicted_labels==flat_true_labels).mean()\n",
        "  \n",
        "  print(\"Epoch: \", epochs)\n",
        "  print('XLMR - validation accuracy ', accuracy)\n",
        "  print(\"------------------------------------ \")"
      ]
    },
    {
      "cell_type": "markdown",
      "metadata": {
        "id": "zoFyd_HXP7qo"
      },
      "source": [
        "## Evaluating the trained Model"
      ]
    },
    {
      "cell_type": "code",
      "execution_count": null,
      "metadata": {
        "id": "uc5OkGgEP7qw"
      },
      "outputs": [],
      "source": [
        "xlmr_model.eval()\n",
        "model_predictions=[]\n",
        "true_labels=[]\n",
        "for batch in validation_dataloader:\n",
        "\n",
        "    b_input_ids = batch[0].to(device)\n",
        "    b_input_mask = batch[1].to(device)\n",
        "    b_lables = batch[2].to(device)\n",
        "\n",
        "    with torch.no_grad():\n",
        "      outputs = xlmr_model(b_input_ids,attention_mask = b_input_mask)\n",
        "    logits = outputs.logits\n",
        "    logits=logits.detach().cpu().numpy()\n",
        "    label_ids = b_lables.to('cpu').numpy()\n",
        "    predictions = np.argmax(logits, axis = -1)\n",
        "    #print(b_lables)\n",
        "    #print(predictions)\n",
        "    #print(\"\\n -------------------------- \\n\")\n",
        "    model_predictions.append(logits)\n",
        "    true_labels.append(label_ids)"
      ]
    },
    {
      "cell_type": "code",
      "execution_count": null,
      "metadata": {
        "id": "cFI5F0HXP7rG"
      },
      "outputs": [],
      "source": [
        "#combine the results across all batches\n",
        "#predictions\n",
        "flat_predictions = np.concatenate(model_predictions, axis=0)\n",
        "flat_true_labels = np.concatenate(true_labels, axis=0)\n",
        "\n",
        "##for sample pick the label\n",
        "predicted_labels = np.argmax(flat_predictions, axis=1).flatten()"
      ]
    },
    {
      "cell_type": "code",
      "execution_count": null,
      "metadata": {
        "id": "s0bIyTPGP7rO",
        "colab": {
          "base_uri": "https://localhost:8080/"
        },
        "outputId": "b1076551-fced-4f15-b0bc-58ddc2027296"
      },
      "outputs": [
        {
          "output_type": "stream",
          "name": "stdout",
          "text": [
            "XLMR- prediction accuracy 0.7528908999497235\n"
          ]
        }
      ],
      "source": [
        "# the number of correct predictions to get our accuracy\n",
        "accuracy = (predicted_labels==flat_true_labels).mean()\n",
        "print('XLMR- prediction accuracy',accuracy)"
      ]
    }
  ],
  "metadata": {
    "accelerator": "GPU",
    "colab": {
      "collapsed_sections": [
        "Y3MwZLCVWva-",
        "bklrDhCWaBP4",
        "qgqOhE-3QL8o",
        "zoFyd_HXP7qo"
      ],
      "name": "Training_Roman_Urdu_Mixed.ipynb",
      "provenance": []
    },
    "gpuClass": "standard",
    "kernelspec": {
      "display_name": "Python 3",
      "name": "python3"
    },
    "language_info": {
      "name": "python"
    },
    "widgets": {
      "application/vnd.jupyter.widget-state+json": {
        "395f5384e66c4c919ab9909da6470520": {
          "model_module": "@jupyter-widgets/controls",
          "model_name": "HBoxModel",
          "model_module_version": "1.5.0",
          "state": {
            "_dom_classes": [],
            "_model_module": "@jupyter-widgets/controls",
            "_model_module_version": "1.5.0",
            "_model_name": "HBoxModel",
            "_view_count": null,
            "_view_module": "@jupyter-widgets/controls",
            "_view_module_version": "1.5.0",
            "_view_name": "HBoxView",
            "box_style": "",
            "children": [
              "IPY_MODEL_1820d2c3e0634dca95e79e05b231654e",
              "IPY_MODEL_efb3e4f1e74848d6b8dab28550f08fad",
              "IPY_MODEL_c3ef937bd58b48c9bc1294d9760c6c60"
            ],
            "layout": "IPY_MODEL_d8edf18fd2b642eba5bb4d05c8bae047"
          }
        },
        "1820d2c3e0634dca95e79e05b231654e": {
          "model_module": "@jupyter-widgets/controls",
          "model_name": "HTMLModel",
          "model_module_version": "1.5.0",
          "state": {
            "_dom_classes": [],
            "_model_module": "@jupyter-widgets/controls",
            "_model_module_version": "1.5.0",
            "_model_name": "HTMLModel",
            "_view_count": null,
            "_view_module": "@jupyter-widgets/controls",
            "_view_module_version": "1.5.0",
            "_view_name": "HTMLView",
            "description": "",
            "description_tooltip": null,
            "layout": "IPY_MODEL_ec284aece59543098335cdb035287d27",
            "placeholder": "​",
            "style": "IPY_MODEL_2d2f9c08d6854c67a1b2d8ab907c3043",
            "value": "Downloading config.json: 100%"
          }
        },
        "efb3e4f1e74848d6b8dab28550f08fad": {
          "model_module": "@jupyter-widgets/controls",
          "model_name": "FloatProgressModel",
          "model_module_version": "1.5.0",
          "state": {
            "_dom_classes": [],
            "_model_module": "@jupyter-widgets/controls",
            "_model_module_version": "1.5.0",
            "_model_name": "FloatProgressModel",
            "_view_count": null,
            "_view_module": "@jupyter-widgets/controls",
            "_view_module_version": "1.5.0",
            "_view_name": "ProgressView",
            "bar_style": "success",
            "description": "",
            "description_tooltip": null,
            "layout": "IPY_MODEL_a53aea698fd941beb40b44c96dd318f4",
            "max": 615,
            "min": 0,
            "orientation": "horizontal",
            "style": "IPY_MODEL_c954dfe65d4b4d61ad4c0ee3c64be737",
            "value": 615
          }
        },
        "c3ef937bd58b48c9bc1294d9760c6c60": {
          "model_module": "@jupyter-widgets/controls",
          "model_name": "HTMLModel",
          "model_module_version": "1.5.0",
          "state": {
            "_dom_classes": [],
            "_model_module": "@jupyter-widgets/controls",
            "_model_module_version": "1.5.0",
            "_model_name": "HTMLModel",
            "_view_count": null,
            "_view_module": "@jupyter-widgets/controls",
            "_view_module_version": "1.5.0",
            "_view_name": "HTMLView",
            "description": "",
            "description_tooltip": null,
            "layout": "IPY_MODEL_9ad5ca453f114f01b26bbe5d0181a999",
            "placeholder": "​",
            "style": "IPY_MODEL_6bfd355fea084075b53bf8a776901dfb",
            "value": " 615/615 [00:00&lt;00:00, 11.9kB/s]"
          }
        },
        "d8edf18fd2b642eba5bb4d05c8bae047": {
          "model_module": "@jupyter-widgets/base",
          "model_name": "LayoutModel",
          "model_module_version": "1.2.0",
          "state": {
            "_model_module": "@jupyter-widgets/base",
            "_model_module_version": "1.2.0",
            "_model_name": "LayoutModel",
            "_view_count": null,
            "_view_module": "@jupyter-widgets/base",
            "_view_module_version": "1.2.0",
            "_view_name": "LayoutView",
            "align_content": null,
            "align_items": null,
            "align_self": null,
            "border": null,
            "bottom": null,
            "display": null,
            "flex": null,
            "flex_flow": null,
            "grid_area": null,
            "grid_auto_columns": null,
            "grid_auto_flow": null,
            "grid_auto_rows": null,
            "grid_column": null,
            "grid_gap": null,
            "grid_row": null,
            "grid_template_areas": null,
            "grid_template_columns": null,
            "grid_template_rows": null,
            "height": null,
            "justify_content": null,
            "justify_items": null,
            "left": null,
            "margin": null,
            "max_height": null,
            "max_width": null,
            "min_height": null,
            "min_width": null,
            "object_fit": null,
            "object_position": null,
            "order": null,
            "overflow": null,
            "overflow_x": null,
            "overflow_y": null,
            "padding": null,
            "right": null,
            "top": null,
            "visibility": null,
            "width": null
          }
        },
        "ec284aece59543098335cdb035287d27": {
          "model_module": "@jupyter-widgets/base",
          "model_name": "LayoutModel",
          "model_module_version": "1.2.0",
          "state": {
            "_model_module": "@jupyter-widgets/base",
            "_model_module_version": "1.2.0",
            "_model_name": "LayoutModel",
            "_view_count": null,
            "_view_module": "@jupyter-widgets/base",
            "_view_module_version": "1.2.0",
            "_view_name": "LayoutView",
            "align_content": null,
            "align_items": null,
            "align_self": null,
            "border": null,
            "bottom": null,
            "display": null,
            "flex": null,
            "flex_flow": null,
            "grid_area": null,
            "grid_auto_columns": null,
            "grid_auto_flow": null,
            "grid_auto_rows": null,
            "grid_column": null,
            "grid_gap": null,
            "grid_row": null,
            "grid_template_areas": null,
            "grid_template_columns": null,
            "grid_template_rows": null,
            "height": null,
            "justify_content": null,
            "justify_items": null,
            "left": null,
            "margin": null,
            "max_height": null,
            "max_width": null,
            "min_height": null,
            "min_width": null,
            "object_fit": null,
            "object_position": null,
            "order": null,
            "overflow": null,
            "overflow_x": null,
            "overflow_y": null,
            "padding": null,
            "right": null,
            "top": null,
            "visibility": null,
            "width": null
          }
        },
        "2d2f9c08d6854c67a1b2d8ab907c3043": {
          "model_module": "@jupyter-widgets/controls",
          "model_name": "DescriptionStyleModel",
          "model_module_version": "1.5.0",
          "state": {
            "_model_module": "@jupyter-widgets/controls",
            "_model_module_version": "1.5.0",
            "_model_name": "DescriptionStyleModel",
            "_view_count": null,
            "_view_module": "@jupyter-widgets/base",
            "_view_module_version": "1.2.0",
            "_view_name": "StyleView",
            "description_width": ""
          }
        },
        "a53aea698fd941beb40b44c96dd318f4": {
          "model_module": "@jupyter-widgets/base",
          "model_name": "LayoutModel",
          "model_module_version": "1.2.0",
          "state": {
            "_model_module": "@jupyter-widgets/base",
            "_model_module_version": "1.2.0",
            "_model_name": "LayoutModel",
            "_view_count": null,
            "_view_module": "@jupyter-widgets/base",
            "_view_module_version": "1.2.0",
            "_view_name": "LayoutView",
            "align_content": null,
            "align_items": null,
            "align_self": null,
            "border": null,
            "bottom": null,
            "display": null,
            "flex": null,
            "flex_flow": null,
            "grid_area": null,
            "grid_auto_columns": null,
            "grid_auto_flow": null,
            "grid_auto_rows": null,
            "grid_column": null,
            "grid_gap": null,
            "grid_row": null,
            "grid_template_areas": null,
            "grid_template_columns": null,
            "grid_template_rows": null,
            "height": null,
            "justify_content": null,
            "justify_items": null,
            "left": null,
            "margin": null,
            "max_height": null,
            "max_width": null,
            "min_height": null,
            "min_width": null,
            "object_fit": null,
            "object_position": null,
            "order": null,
            "overflow": null,
            "overflow_x": null,
            "overflow_y": null,
            "padding": null,
            "right": null,
            "top": null,
            "visibility": null,
            "width": null
          }
        },
        "c954dfe65d4b4d61ad4c0ee3c64be737": {
          "model_module": "@jupyter-widgets/controls",
          "model_name": "ProgressStyleModel",
          "model_module_version": "1.5.0",
          "state": {
            "_model_module": "@jupyter-widgets/controls",
            "_model_module_version": "1.5.0",
            "_model_name": "ProgressStyleModel",
            "_view_count": null,
            "_view_module": "@jupyter-widgets/base",
            "_view_module_version": "1.2.0",
            "_view_name": "StyleView",
            "bar_color": null,
            "description_width": ""
          }
        },
        "9ad5ca453f114f01b26bbe5d0181a999": {
          "model_module": "@jupyter-widgets/base",
          "model_name": "LayoutModel",
          "model_module_version": "1.2.0",
          "state": {
            "_model_module": "@jupyter-widgets/base",
            "_model_module_version": "1.2.0",
            "_model_name": "LayoutModel",
            "_view_count": null,
            "_view_module": "@jupyter-widgets/base",
            "_view_module_version": "1.2.0",
            "_view_name": "LayoutView",
            "align_content": null,
            "align_items": null,
            "align_self": null,
            "border": null,
            "bottom": null,
            "display": null,
            "flex": null,
            "flex_flow": null,
            "grid_area": null,
            "grid_auto_columns": null,
            "grid_auto_flow": null,
            "grid_auto_rows": null,
            "grid_column": null,
            "grid_gap": null,
            "grid_row": null,
            "grid_template_areas": null,
            "grid_template_columns": null,
            "grid_template_rows": null,
            "height": null,
            "justify_content": null,
            "justify_items": null,
            "left": null,
            "margin": null,
            "max_height": null,
            "max_width": null,
            "min_height": null,
            "min_width": null,
            "object_fit": null,
            "object_position": null,
            "order": null,
            "overflow": null,
            "overflow_x": null,
            "overflow_y": null,
            "padding": null,
            "right": null,
            "top": null,
            "visibility": null,
            "width": null
          }
        },
        "6bfd355fea084075b53bf8a776901dfb": {
          "model_module": "@jupyter-widgets/controls",
          "model_name": "DescriptionStyleModel",
          "model_module_version": "1.5.0",
          "state": {
            "_model_module": "@jupyter-widgets/controls",
            "_model_module_version": "1.5.0",
            "_model_name": "DescriptionStyleModel",
            "_view_count": null,
            "_view_module": "@jupyter-widgets/base",
            "_view_module_version": "1.2.0",
            "_view_name": "StyleView",
            "description_width": ""
          }
        },
        "bac94bfa6a5a47c4b19ac7c3bcef72d6": {
          "model_module": "@jupyter-widgets/controls",
          "model_name": "HBoxModel",
          "model_module_version": "1.5.0",
          "state": {
            "_dom_classes": [],
            "_model_module": "@jupyter-widgets/controls",
            "_model_module_version": "1.5.0",
            "_model_name": "HBoxModel",
            "_view_count": null,
            "_view_module": "@jupyter-widgets/controls",
            "_view_module_version": "1.5.0",
            "_view_name": "HBoxView",
            "box_style": "",
            "children": [
              "IPY_MODEL_f2cd19d8b2244bc9aeaef667fac00f6c",
              "IPY_MODEL_e348fe6888ac4e9684899181751ef6d1",
              "IPY_MODEL_ff7e881e0396456295fc66406c590b20"
            ],
            "layout": "IPY_MODEL_67ac477d96244da89ab3c3261f6bd58e"
          }
        },
        "f2cd19d8b2244bc9aeaef667fac00f6c": {
          "model_module": "@jupyter-widgets/controls",
          "model_name": "HTMLModel",
          "model_module_version": "1.5.0",
          "state": {
            "_dom_classes": [],
            "_model_module": "@jupyter-widgets/controls",
            "_model_module_version": "1.5.0",
            "_model_name": "HTMLModel",
            "_view_count": null,
            "_view_module": "@jupyter-widgets/controls",
            "_view_module_version": "1.5.0",
            "_view_name": "HTMLView",
            "description": "",
            "description_tooltip": null,
            "layout": "IPY_MODEL_328677370c5a444db987533c4a62bac1",
            "placeholder": "​",
            "style": "IPY_MODEL_95dd369d8b2e4d4d80e23facfeeea8cd",
            "value": "Downloading sentencepiece.bpe.model: 100%"
          }
        },
        "e348fe6888ac4e9684899181751ef6d1": {
          "model_module": "@jupyter-widgets/controls",
          "model_name": "FloatProgressModel",
          "model_module_version": "1.5.0",
          "state": {
            "_dom_classes": [],
            "_model_module": "@jupyter-widgets/controls",
            "_model_module_version": "1.5.0",
            "_model_name": "FloatProgressModel",
            "_view_count": null,
            "_view_module": "@jupyter-widgets/controls",
            "_view_module_version": "1.5.0",
            "_view_name": "ProgressView",
            "bar_style": "success",
            "description": "",
            "description_tooltip": null,
            "layout": "IPY_MODEL_cc033fcaef384fc6a75e3986fe838f51",
            "max": 5069051,
            "min": 0,
            "orientation": "horizontal",
            "style": "IPY_MODEL_261b4b3f5d2b45a3b75d2ed17ac777d5",
            "value": 5069051
          }
        },
        "ff7e881e0396456295fc66406c590b20": {
          "model_module": "@jupyter-widgets/controls",
          "model_name": "HTMLModel",
          "model_module_version": "1.5.0",
          "state": {
            "_dom_classes": [],
            "_model_module": "@jupyter-widgets/controls",
            "_model_module_version": "1.5.0",
            "_model_name": "HTMLModel",
            "_view_count": null,
            "_view_module": "@jupyter-widgets/controls",
            "_view_module_version": "1.5.0",
            "_view_name": "HTMLView",
            "description": "",
            "description_tooltip": null,
            "layout": "IPY_MODEL_6d75c28be11f4f71934e3cb56d21bca2",
            "placeholder": "​",
            "style": "IPY_MODEL_a40d018c7c024039acdd70dc135f4bd0",
            "value": " 4.83M/4.83M [00:00&lt;00:00, 22.4MB/s]"
          }
        },
        "67ac477d96244da89ab3c3261f6bd58e": {
          "model_module": "@jupyter-widgets/base",
          "model_name": "LayoutModel",
          "model_module_version": "1.2.0",
          "state": {
            "_model_module": "@jupyter-widgets/base",
            "_model_module_version": "1.2.0",
            "_model_name": "LayoutModel",
            "_view_count": null,
            "_view_module": "@jupyter-widgets/base",
            "_view_module_version": "1.2.0",
            "_view_name": "LayoutView",
            "align_content": null,
            "align_items": null,
            "align_self": null,
            "border": null,
            "bottom": null,
            "display": null,
            "flex": null,
            "flex_flow": null,
            "grid_area": null,
            "grid_auto_columns": null,
            "grid_auto_flow": null,
            "grid_auto_rows": null,
            "grid_column": null,
            "grid_gap": null,
            "grid_row": null,
            "grid_template_areas": null,
            "grid_template_columns": null,
            "grid_template_rows": null,
            "height": null,
            "justify_content": null,
            "justify_items": null,
            "left": null,
            "margin": null,
            "max_height": null,
            "max_width": null,
            "min_height": null,
            "min_width": null,
            "object_fit": null,
            "object_position": null,
            "order": null,
            "overflow": null,
            "overflow_x": null,
            "overflow_y": null,
            "padding": null,
            "right": null,
            "top": null,
            "visibility": null,
            "width": null
          }
        },
        "328677370c5a444db987533c4a62bac1": {
          "model_module": "@jupyter-widgets/base",
          "model_name": "LayoutModel",
          "model_module_version": "1.2.0",
          "state": {
            "_model_module": "@jupyter-widgets/base",
            "_model_module_version": "1.2.0",
            "_model_name": "LayoutModel",
            "_view_count": null,
            "_view_module": "@jupyter-widgets/base",
            "_view_module_version": "1.2.0",
            "_view_name": "LayoutView",
            "align_content": null,
            "align_items": null,
            "align_self": null,
            "border": null,
            "bottom": null,
            "display": null,
            "flex": null,
            "flex_flow": null,
            "grid_area": null,
            "grid_auto_columns": null,
            "grid_auto_flow": null,
            "grid_auto_rows": null,
            "grid_column": null,
            "grid_gap": null,
            "grid_row": null,
            "grid_template_areas": null,
            "grid_template_columns": null,
            "grid_template_rows": null,
            "height": null,
            "justify_content": null,
            "justify_items": null,
            "left": null,
            "margin": null,
            "max_height": null,
            "max_width": null,
            "min_height": null,
            "min_width": null,
            "object_fit": null,
            "object_position": null,
            "order": null,
            "overflow": null,
            "overflow_x": null,
            "overflow_y": null,
            "padding": null,
            "right": null,
            "top": null,
            "visibility": null,
            "width": null
          }
        },
        "95dd369d8b2e4d4d80e23facfeeea8cd": {
          "model_module": "@jupyter-widgets/controls",
          "model_name": "DescriptionStyleModel",
          "model_module_version": "1.5.0",
          "state": {
            "_model_module": "@jupyter-widgets/controls",
            "_model_module_version": "1.5.0",
            "_model_name": "DescriptionStyleModel",
            "_view_count": null,
            "_view_module": "@jupyter-widgets/base",
            "_view_module_version": "1.2.0",
            "_view_name": "StyleView",
            "description_width": ""
          }
        },
        "cc033fcaef384fc6a75e3986fe838f51": {
          "model_module": "@jupyter-widgets/base",
          "model_name": "LayoutModel",
          "model_module_version": "1.2.0",
          "state": {
            "_model_module": "@jupyter-widgets/base",
            "_model_module_version": "1.2.0",
            "_model_name": "LayoutModel",
            "_view_count": null,
            "_view_module": "@jupyter-widgets/base",
            "_view_module_version": "1.2.0",
            "_view_name": "LayoutView",
            "align_content": null,
            "align_items": null,
            "align_self": null,
            "border": null,
            "bottom": null,
            "display": null,
            "flex": null,
            "flex_flow": null,
            "grid_area": null,
            "grid_auto_columns": null,
            "grid_auto_flow": null,
            "grid_auto_rows": null,
            "grid_column": null,
            "grid_gap": null,
            "grid_row": null,
            "grid_template_areas": null,
            "grid_template_columns": null,
            "grid_template_rows": null,
            "height": null,
            "justify_content": null,
            "justify_items": null,
            "left": null,
            "margin": null,
            "max_height": null,
            "max_width": null,
            "min_height": null,
            "min_width": null,
            "object_fit": null,
            "object_position": null,
            "order": null,
            "overflow": null,
            "overflow_x": null,
            "overflow_y": null,
            "padding": null,
            "right": null,
            "top": null,
            "visibility": null,
            "width": null
          }
        },
        "261b4b3f5d2b45a3b75d2ed17ac777d5": {
          "model_module": "@jupyter-widgets/controls",
          "model_name": "ProgressStyleModel",
          "model_module_version": "1.5.0",
          "state": {
            "_model_module": "@jupyter-widgets/controls",
            "_model_module_version": "1.5.0",
            "_model_name": "ProgressStyleModel",
            "_view_count": null,
            "_view_module": "@jupyter-widgets/base",
            "_view_module_version": "1.2.0",
            "_view_name": "StyleView",
            "bar_color": null,
            "description_width": ""
          }
        },
        "6d75c28be11f4f71934e3cb56d21bca2": {
          "model_module": "@jupyter-widgets/base",
          "model_name": "LayoutModel",
          "model_module_version": "1.2.0",
          "state": {
            "_model_module": "@jupyter-widgets/base",
            "_model_module_version": "1.2.0",
            "_model_name": "LayoutModel",
            "_view_count": null,
            "_view_module": "@jupyter-widgets/base",
            "_view_module_version": "1.2.0",
            "_view_name": "LayoutView",
            "align_content": null,
            "align_items": null,
            "align_self": null,
            "border": null,
            "bottom": null,
            "display": null,
            "flex": null,
            "flex_flow": null,
            "grid_area": null,
            "grid_auto_columns": null,
            "grid_auto_flow": null,
            "grid_auto_rows": null,
            "grid_column": null,
            "grid_gap": null,
            "grid_row": null,
            "grid_template_areas": null,
            "grid_template_columns": null,
            "grid_template_rows": null,
            "height": null,
            "justify_content": null,
            "justify_items": null,
            "left": null,
            "margin": null,
            "max_height": null,
            "max_width": null,
            "min_height": null,
            "min_width": null,
            "object_fit": null,
            "object_position": null,
            "order": null,
            "overflow": null,
            "overflow_x": null,
            "overflow_y": null,
            "padding": null,
            "right": null,
            "top": null,
            "visibility": null,
            "width": null
          }
        },
        "a40d018c7c024039acdd70dc135f4bd0": {
          "model_module": "@jupyter-widgets/controls",
          "model_name": "DescriptionStyleModel",
          "model_module_version": "1.5.0",
          "state": {
            "_model_module": "@jupyter-widgets/controls",
            "_model_module_version": "1.5.0",
            "_model_name": "DescriptionStyleModel",
            "_view_count": null,
            "_view_module": "@jupyter-widgets/base",
            "_view_module_version": "1.2.0",
            "_view_name": "StyleView",
            "description_width": ""
          }
        },
        "46bea00d9fd841c683acf076481eee5c": {
          "model_module": "@jupyter-widgets/controls",
          "model_name": "HBoxModel",
          "model_module_version": "1.5.0",
          "state": {
            "_dom_classes": [],
            "_model_module": "@jupyter-widgets/controls",
            "_model_module_version": "1.5.0",
            "_model_name": "HBoxModel",
            "_view_count": null,
            "_view_module": "@jupyter-widgets/controls",
            "_view_module_version": "1.5.0",
            "_view_name": "HBoxView",
            "box_style": "",
            "children": [
              "IPY_MODEL_2f95e0cc3ea245c4b54b2bf447751bd0",
              "IPY_MODEL_952846b2b65e4c42b2bd1f259625c7b2",
              "IPY_MODEL_ce9ea66eee7f4a75b7dc8d9c9f2c632c"
            ],
            "layout": "IPY_MODEL_d880ba00a94e472c81395f6725337f5b"
          }
        },
        "2f95e0cc3ea245c4b54b2bf447751bd0": {
          "model_module": "@jupyter-widgets/controls",
          "model_name": "HTMLModel",
          "model_module_version": "1.5.0",
          "state": {
            "_dom_classes": [],
            "_model_module": "@jupyter-widgets/controls",
            "_model_module_version": "1.5.0",
            "_model_name": "HTMLModel",
            "_view_count": null,
            "_view_module": "@jupyter-widgets/controls",
            "_view_module_version": "1.5.0",
            "_view_name": "HTMLView",
            "description": "",
            "description_tooltip": null,
            "layout": "IPY_MODEL_bde73e57c96d4ba3911fd58e3c60e196",
            "placeholder": "​",
            "style": "IPY_MODEL_0e900ca716104b3b97f8bbdb8ff489ca",
            "value": "Downloading tokenizer.json: 100%"
          }
        },
        "952846b2b65e4c42b2bd1f259625c7b2": {
          "model_module": "@jupyter-widgets/controls",
          "model_name": "FloatProgressModel",
          "model_module_version": "1.5.0",
          "state": {
            "_dom_classes": [],
            "_model_module": "@jupyter-widgets/controls",
            "_model_module_version": "1.5.0",
            "_model_name": "FloatProgressModel",
            "_view_count": null,
            "_view_module": "@jupyter-widgets/controls",
            "_view_module_version": "1.5.0",
            "_view_name": "ProgressView",
            "bar_style": "success",
            "description": "",
            "description_tooltip": null,
            "layout": "IPY_MODEL_def34c502a464667a644647d79358b8f",
            "max": 9096718,
            "min": 0,
            "orientation": "horizontal",
            "style": "IPY_MODEL_ee390eee266644c7b9584ccae6a469ba",
            "value": 9096718
          }
        },
        "ce9ea66eee7f4a75b7dc8d9c9f2c632c": {
          "model_module": "@jupyter-widgets/controls",
          "model_name": "HTMLModel",
          "model_module_version": "1.5.0",
          "state": {
            "_dom_classes": [],
            "_model_module": "@jupyter-widgets/controls",
            "_model_module_version": "1.5.0",
            "_model_name": "HTMLModel",
            "_view_count": null,
            "_view_module": "@jupyter-widgets/controls",
            "_view_module_version": "1.5.0",
            "_view_name": "HTMLView",
            "description": "",
            "description_tooltip": null,
            "layout": "IPY_MODEL_b5506c4ba73c424b8a8419366c331618",
            "placeholder": "​",
            "style": "IPY_MODEL_c66fa45ce1574527b5a78e535d884e01",
            "value": " 8.68M/8.68M [00:00&lt;00:00, 43.8MB/s]"
          }
        },
        "d880ba00a94e472c81395f6725337f5b": {
          "model_module": "@jupyter-widgets/base",
          "model_name": "LayoutModel",
          "model_module_version": "1.2.0",
          "state": {
            "_model_module": "@jupyter-widgets/base",
            "_model_module_version": "1.2.0",
            "_model_name": "LayoutModel",
            "_view_count": null,
            "_view_module": "@jupyter-widgets/base",
            "_view_module_version": "1.2.0",
            "_view_name": "LayoutView",
            "align_content": null,
            "align_items": null,
            "align_self": null,
            "border": null,
            "bottom": null,
            "display": null,
            "flex": null,
            "flex_flow": null,
            "grid_area": null,
            "grid_auto_columns": null,
            "grid_auto_flow": null,
            "grid_auto_rows": null,
            "grid_column": null,
            "grid_gap": null,
            "grid_row": null,
            "grid_template_areas": null,
            "grid_template_columns": null,
            "grid_template_rows": null,
            "height": null,
            "justify_content": null,
            "justify_items": null,
            "left": null,
            "margin": null,
            "max_height": null,
            "max_width": null,
            "min_height": null,
            "min_width": null,
            "object_fit": null,
            "object_position": null,
            "order": null,
            "overflow": null,
            "overflow_x": null,
            "overflow_y": null,
            "padding": null,
            "right": null,
            "top": null,
            "visibility": null,
            "width": null
          }
        },
        "bde73e57c96d4ba3911fd58e3c60e196": {
          "model_module": "@jupyter-widgets/base",
          "model_name": "LayoutModel",
          "model_module_version": "1.2.0",
          "state": {
            "_model_module": "@jupyter-widgets/base",
            "_model_module_version": "1.2.0",
            "_model_name": "LayoutModel",
            "_view_count": null,
            "_view_module": "@jupyter-widgets/base",
            "_view_module_version": "1.2.0",
            "_view_name": "LayoutView",
            "align_content": null,
            "align_items": null,
            "align_self": null,
            "border": null,
            "bottom": null,
            "display": null,
            "flex": null,
            "flex_flow": null,
            "grid_area": null,
            "grid_auto_columns": null,
            "grid_auto_flow": null,
            "grid_auto_rows": null,
            "grid_column": null,
            "grid_gap": null,
            "grid_row": null,
            "grid_template_areas": null,
            "grid_template_columns": null,
            "grid_template_rows": null,
            "height": null,
            "justify_content": null,
            "justify_items": null,
            "left": null,
            "margin": null,
            "max_height": null,
            "max_width": null,
            "min_height": null,
            "min_width": null,
            "object_fit": null,
            "object_position": null,
            "order": null,
            "overflow": null,
            "overflow_x": null,
            "overflow_y": null,
            "padding": null,
            "right": null,
            "top": null,
            "visibility": null,
            "width": null
          }
        },
        "0e900ca716104b3b97f8bbdb8ff489ca": {
          "model_module": "@jupyter-widgets/controls",
          "model_name": "DescriptionStyleModel",
          "model_module_version": "1.5.0",
          "state": {
            "_model_module": "@jupyter-widgets/controls",
            "_model_module_version": "1.5.0",
            "_model_name": "DescriptionStyleModel",
            "_view_count": null,
            "_view_module": "@jupyter-widgets/base",
            "_view_module_version": "1.2.0",
            "_view_name": "StyleView",
            "description_width": ""
          }
        },
        "def34c502a464667a644647d79358b8f": {
          "model_module": "@jupyter-widgets/base",
          "model_name": "LayoutModel",
          "model_module_version": "1.2.0",
          "state": {
            "_model_module": "@jupyter-widgets/base",
            "_model_module_version": "1.2.0",
            "_model_name": "LayoutModel",
            "_view_count": null,
            "_view_module": "@jupyter-widgets/base",
            "_view_module_version": "1.2.0",
            "_view_name": "LayoutView",
            "align_content": null,
            "align_items": null,
            "align_self": null,
            "border": null,
            "bottom": null,
            "display": null,
            "flex": null,
            "flex_flow": null,
            "grid_area": null,
            "grid_auto_columns": null,
            "grid_auto_flow": null,
            "grid_auto_rows": null,
            "grid_column": null,
            "grid_gap": null,
            "grid_row": null,
            "grid_template_areas": null,
            "grid_template_columns": null,
            "grid_template_rows": null,
            "height": null,
            "justify_content": null,
            "justify_items": null,
            "left": null,
            "margin": null,
            "max_height": null,
            "max_width": null,
            "min_height": null,
            "min_width": null,
            "object_fit": null,
            "object_position": null,
            "order": null,
            "overflow": null,
            "overflow_x": null,
            "overflow_y": null,
            "padding": null,
            "right": null,
            "top": null,
            "visibility": null,
            "width": null
          }
        },
        "ee390eee266644c7b9584ccae6a469ba": {
          "model_module": "@jupyter-widgets/controls",
          "model_name": "ProgressStyleModel",
          "model_module_version": "1.5.0",
          "state": {
            "_model_module": "@jupyter-widgets/controls",
            "_model_module_version": "1.5.0",
            "_model_name": "ProgressStyleModel",
            "_view_count": null,
            "_view_module": "@jupyter-widgets/base",
            "_view_module_version": "1.2.0",
            "_view_name": "StyleView",
            "bar_color": null,
            "description_width": ""
          }
        },
        "b5506c4ba73c424b8a8419366c331618": {
          "model_module": "@jupyter-widgets/base",
          "model_name": "LayoutModel",
          "model_module_version": "1.2.0",
          "state": {
            "_model_module": "@jupyter-widgets/base",
            "_model_module_version": "1.2.0",
            "_model_name": "LayoutModel",
            "_view_count": null,
            "_view_module": "@jupyter-widgets/base",
            "_view_module_version": "1.2.0",
            "_view_name": "LayoutView",
            "align_content": null,
            "align_items": null,
            "align_self": null,
            "border": null,
            "bottom": null,
            "display": null,
            "flex": null,
            "flex_flow": null,
            "grid_area": null,
            "grid_auto_columns": null,
            "grid_auto_flow": null,
            "grid_auto_rows": null,
            "grid_column": null,
            "grid_gap": null,
            "grid_row": null,
            "grid_template_areas": null,
            "grid_template_columns": null,
            "grid_template_rows": null,
            "height": null,
            "justify_content": null,
            "justify_items": null,
            "left": null,
            "margin": null,
            "max_height": null,
            "max_width": null,
            "min_height": null,
            "min_width": null,
            "object_fit": null,
            "object_position": null,
            "order": null,
            "overflow": null,
            "overflow_x": null,
            "overflow_y": null,
            "padding": null,
            "right": null,
            "top": null,
            "visibility": null,
            "width": null
          }
        },
        "c66fa45ce1574527b5a78e535d884e01": {
          "model_module": "@jupyter-widgets/controls",
          "model_name": "DescriptionStyleModel",
          "model_module_version": "1.5.0",
          "state": {
            "_model_module": "@jupyter-widgets/controls",
            "_model_module_version": "1.5.0",
            "_model_name": "DescriptionStyleModel",
            "_view_count": null,
            "_view_module": "@jupyter-widgets/base",
            "_view_module_version": "1.2.0",
            "_view_name": "StyleView",
            "description_width": ""
          }
        },
        "a6edc1b2911e4dc7b8a44417967f2463": {
          "model_module": "@jupyter-widgets/controls",
          "model_name": "HBoxModel",
          "model_module_version": "1.5.0",
          "state": {
            "_dom_classes": [],
            "_model_module": "@jupyter-widgets/controls",
            "_model_module_version": "1.5.0",
            "_model_name": "HBoxModel",
            "_view_count": null,
            "_view_module": "@jupyter-widgets/controls",
            "_view_module_version": "1.5.0",
            "_view_name": "HBoxView",
            "box_style": "",
            "children": [
              "IPY_MODEL_a18a8910d76b4e499e7b1921a6ff6da4",
              "IPY_MODEL_6dd59535911d4e94a7dc9c1ae35224ab",
              "IPY_MODEL_a1bd3c547e694b20be79beb75fc163be"
            ],
            "layout": "IPY_MODEL_5cd31b759cb14c349522857cfce41443"
          }
        },
        "a18a8910d76b4e499e7b1921a6ff6da4": {
          "model_module": "@jupyter-widgets/controls",
          "model_name": "HTMLModel",
          "model_module_version": "1.5.0",
          "state": {
            "_dom_classes": [],
            "_model_module": "@jupyter-widgets/controls",
            "_model_module_version": "1.5.0",
            "_model_name": "HTMLModel",
            "_view_count": null,
            "_view_module": "@jupyter-widgets/controls",
            "_view_module_version": "1.5.0",
            "_view_name": "HTMLView",
            "description": "",
            "description_tooltip": null,
            "layout": "IPY_MODEL_4c196524d46647f1b332ec8794de7e57",
            "placeholder": "​",
            "style": "IPY_MODEL_4acc47b35d824dc8b3249bd33c7ea7fa",
            "value": "Downloading pytorch_model.bin: 100%"
          }
        },
        "6dd59535911d4e94a7dc9c1ae35224ab": {
          "model_module": "@jupyter-widgets/controls",
          "model_name": "FloatProgressModel",
          "model_module_version": "1.5.0",
          "state": {
            "_dom_classes": [],
            "_model_module": "@jupyter-widgets/controls",
            "_model_module_version": "1.5.0",
            "_model_name": "FloatProgressModel",
            "_view_count": null,
            "_view_module": "@jupyter-widgets/controls",
            "_view_module_version": "1.5.0",
            "_view_name": "ProgressView",
            "bar_style": "success",
            "description": "",
            "description_tooltip": null,
            "layout": "IPY_MODEL_f13b4c7bef7241068a10a941fd211e33",
            "max": 1115590446,
            "min": 0,
            "orientation": "horizontal",
            "style": "IPY_MODEL_e5b01716f0fd4fb8b9cb7d786d862d7f",
            "value": 1115590446
          }
        },
        "a1bd3c547e694b20be79beb75fc163be": {
          "model_module": "@jupyter-widgets/controls",
          "model_name": "HTMLModel",
          "model_module_version": "1.5.0",
          "state": {
            "_dom_classes": [],
            "_model_module": "@jupyter-widgets/controls",
            "_model_module_version": "1.5.0",
            "_model_name": "HTMLModel",
            "_view_count": null,
            "_view_module": "@jupyter-widgets/controls",
            "_view_module_version": "1.5.0",
            "_view_name": "HTMLView",
            "description": "",
            "description_tooltip": null,
            "layout": "IPY_MODEL_30ce561bafb942bd9bc17bbf01b1c0ce",
            "placeholder": "​",
            "style": "IPY_MODEL_f621f7135c94415c84427e3f54891f69",
            "value": " 1.04G/1.04G [00:22&lt;00:00, 41.6MB/s]"
          }
        },
        "5cd31b759cb14c349522857cfce41443": {
          "model_module": "@jupyter-widgets/base",
          "model_name": "LayoutModel",
          "model_module_version": "1.2.0",
          "state": {
            "_model_module": "@jupyter-widgets/base",
            "_model_module_version": "1.2.0",
            "_model_name": "LayoutModel",
            "_view_count": null,
            "_view_module": "@jupyter-widgets/base",
            "_view_module_version": "1.2.0",
            "_view_name": "LayoutView",
            "align_content": null,
            "align_items": null,
            "align_self": null,
            "border": null,
            "bottom": null,
            "display": null,
            "flex": null,
            "flex_flow": null,
            "grid_area": null,
            "grid_auto_columns": null,
            "grid_auto_flow": null,
            "grid_auto_rows": null,
            "grid_column": null,
            "grid_gap": null,
            "grid_row": null,
            "grid_template_areas": null,
            "grid_template_columns": null,
            "grid_template_rows": null,
            "height": null,
            "justify_content": null,
            "justify_items": null,
            "left": null,
            "margin": null,
            "max_height": null,
            "max_width": null,
            "min_height": null,
            "min_width": null,
            "object_fit": null,
            "object_position": null,
            "order": null,
            "overflow": null,
            "overflow_x": null,
            "overflow_y": null,
            "padding": null,
            "right": null,
            "top": null,
            "visibility": null,
            "width": null
          }
        },
        "4c196524d46647f1b332ec8794de7e57": {
          "model_module": "@jupyter-widgets/base",
          "model_name": "LayoutModel",
          "model_module_version": "1.2.0",
          "state": {
            "_model_module": "@jupyter-widgets/base",
            "_model_module_version": "1.2.0",
            "_model_name": "LayoutModel",
            "_view_count": null,
            "_view_module": "@jupyter-widgets/base",
            "_view_module_version": "1.2.0",
            "_view_name": "LayoutView",
            "align_content": null,
            "align_items": null,
            "align_self": null,
            "border": null,
            "bottom": null,
            "display": null,
            "flex": null,
            "flex_flow": null,
            "grid_area": null,
            "grid_auto_columns": null,
            "grid_auto_flow": null,
            "grid_auto_rows": null,
            "grid_column": null,
            "grid_gap": null,
            "grid_row": null,
            "grid_template_areas": null,
            "grid_template_columns": null,
            "grid_template_rows": null,
            "height": null,
            "justify_content": null,
            "justify_items": null,
            "left": null,
            "margin": null,
            "max_height": null,
            "max_width": null,
            "min_height": null,
            "min_width": null,
            "object_fit": null,
            "object_position": null,
            "order": null,
            "overflow": null,
            "overflow_x": null,
            "overflow_y": null,
            "padding": null,
            "right": null,
            "top": null,
            "visibility": null,
            "width": null
          }
        },
        "4acc47b35d824dc8b3249bd33c7ea7fa": {
          "model_module": "@jupyter-widgets/controls",
          "model_name": "DescriptionStyleModel",
          "model_module_version": "1.5.0",
          "state": {
            "_model_module": "@jupyter-widgets/controls",
            "_model_module_version": "1.5.0",
            "_model_name": "DescriptionStyleModel",
            "_view_count": null,
            "_view_module": "@jupyter-widgets/base",
            "_view_module_version": "1.2.0",
            "_view_name": "StyleView",
            "description_width": ""
          }
        },
        "f13b4c7bef7241068a10a941fd211e33": {
          "model_module": "@jupyter-widgets/base",
          "model_name": "LayoutModel",
          "model_module_version": "1.2.0",
          "state": {
            "_model_module": "@jupyter-widgets/base",
            "_model_module_version": "1.2.0",
            "_model_name": "LayoutModel",
            "_view_count": null,
            "_view_module": "@jupyter-widgets/base",
            "_view_module_version": "1.2.0",
            "_view_name": "LayoutView",
            "align_content": null,
            "align_items": null,
            "align_self": null,
            "border": null,
            "bottom": null,
            "display": null,
            "flex": null,
            "flex_flow": null,
            "grid_area": null,
            "grid_auto_columns": null,
            "grid_auto_flow": null,
            "grid_auto_rows": null,
            "grid_column": null,
            "grid_gap": null,
            "grid_row": null,
            "grid_template_areas": null,
            "grid_template_columns": null,
            "grid_template_rows": null,
            "height": null,
            "justify_content": null,
            "justify_items": null,
            "left": null,
            "margin": null,
            "max_height": null,
            "max_width": null,
            "min_height": null,
            "min_width": null,
            "object_fit": null,
            "object_position": null,
            "order": null,
            "overflow": null,
            "overflow_x": null,
            "overflow_y": null,
            "padding": null,
            "right": null,
            "top": null,
            "visibility": null,
            "width": null
          }
        },
        "e5b01716f0fd4fb8b9cb7d786d862d7f": {
          "model_module": "@jupyter-widgets/controls",
          "model_name": "ProgressStyleModel",
          "model_module_version": "1.5.0",
          "state": {
            "_model_module": "@jupyter-widgets/controls",
            "_model_module_version": "1.5.0",
            "_model_name": "ProgressStyleModel",
            "_view_count": null,
            "_view_module": "@jupyter-widgets/base",
            "_view_module_version": "1.2.0",
            "_view_name": "StyleView",
            "bar_color": null,
            "description_width": ""
          }
        },
        "30ce561bafb942bd9bc17bbf01b1c0ce": {
          "model_module": "@jupyter-widgets/base",
          "model_name": "LayoutModel",
          "model_module_version": "1.2.0",
          "state": {
            "_model_module": "@jupyter-widgets/base",
            "_model_module_version": "1.2.0",
            "_model_name": "LayoutModel",
            "_view_count": null,
            "_view_module": "@jupyter-widgets/base",
            "_view_module_version": "1.2.0",
            "_view_name": "LayoutView",
            "align_content": null,
            "align_items": null,
            "align_self": null,
            "border": null,
            "bottom": null,
            "display": null,
            "flex": null,
            "flex_flow": null,
            "grid_area": null,
            "grid_auto_columns": null,
            "grid_auto_flow": null,
            "grid_auto_rows": null,
            "grid_column": null,
            "grid_gap": null,
            "grid_row": null,
            "grid_template_areas": null,
            "grid_template_columns": null,
            "grid_template_rows": null,
            "height": null,
            "justify_content": null,
            "justify_items": null,
            "left": null,
            "margin": null,
            "max_height": null,
            "max_width": null,
            "min_height": null,
            "min_width": null,
            "object_fit": null,
            "object_position": null,
            "order": null,
            "overflow": null,
            "overflow_x": null,
            "overflow_y": null,
            "padding": null,
            "right": null,
            "top": null,
            "visibility": null,
            "width": null
          }
        },
        "f621f7135c94415c84427e3f54891f69": {
          "model_module": "@jupyter-widgets/controls",
          "model_name": "DescriptionStyleModel",
          "model_module_version": "1.5.0",
          "state": {
            "_model_module": "@jupyter-widgets/controls",
            "_model_module_version": "1.5.0",
            "_model_name": "DescriptionStyleModel",
            "_view_count": null,
            "_view_module": "@jupyter-widgets/base",
            "_view_module_version": "1.2.0",
            "_view_name": "StyleView",
            "description_width": ""
          }
        },
        "126c7e109c174f12998f3763f2285634": {
          "model_module": "@jupyter-widgets/controls",
          "model_name": "HBoxModel",
          "model_module_version": "1.5.0",
          "state": {
            "_dom_classes": [],
            "_model_module": "@jupyter-widgets/controls",
            "_model_module_version": "1.5.0",
            "_model_name": "HBoxModel",
            "_view_count": null,
            "_view_module": "@jupyter-widgets/controls",
            "_view_module_version": "1.5.0",
            "_view_name": "HBoxView",
            "box_style": "",
            "children": [
              "IPY_MODEL_5d3eda70532443248cb9f937e0bc83b2",
              "IPY_MODEL_4149b3a0101746f2811f1cb647cb9ebe",
              "IPY_MODEL_292ae711caa64c349d67327e5d55d076"
            ],
            "layout": "IPY_MODEL_50b2e4abe1044741bb989bb63db937c1"
          }
        },
        "5d3eda70532443248cb9f937e0bc83b2": {
          "model_module": "@jupyter-widgets/controls",
          "model_name": "HTMLModel",
          "model_module_version": "1.5.0",
          "state": {
            "_dom_classes": [],
            "_model_module": "@jupyter-widgets/controls",
            "_model_module_version": "1.5.0",
            "_model_name": "HTMLModel",
            "_view_count": null,
            "_view_module": "@jupyter-widgets/controls",
            "_view_module_version": "1.5.0",
            "_view_name": "HTMLView",
            "description": "",
            "description_tooltip": null,
            "layout": "IPY_MODEL_b0d7b2b132f64b29982e39f06044340e",
            "placeholder": "​",
            "style": "IPY_MODEL_13f5c173cdee4c86be0816ac01c56dc3",
            "value": "100%"
          }
        },
        "4149b3a0101746f2811f1cb647cb9ebe": {
          "model_module": "@jupyter-widgets/controls",
          "model_name": "FloatProgressModel",
          "model_module_version": "1.5.0",
          "state": {
            "_dom_classes": [],
            "_model_module": "@jupyter-widgets/controls",
            "_model_module_version": "1.5.0",
            "_model_name": "FloatProgressModel",
            "_view_count": null,
            "_view_module": "@jupyter-widgets/controls",
            "_view_module_version": "1.5.0",
            "_view_name": "ProgressView",
            "bar_style": "",
            "description": "",
            "description_tooltip": null,
            "layout": "IPY_MODEL_3f4ddc110ae4425f8b3bfc98a1c96de9",
            "max": 22375,
            "min": 0,
            "orientation": "horizontal",
            "style": "IPY_MODEL_14e2e8c2f9bf47f385fc80666c898b6f",
            "value": 22375
          }
        },
        "292ae711caa64c349d67327e5d55d076": {
          "model_module": "@jupyter-widgets/controls",
          "model_name": "HTMLModel",
          "model_module_version": "1.5.0",
          "state": {
            "_dom_classes": [],
            "_model_module": "@jupyter-widgets/controls",
            "_model_module_version": "1.5.0",
            "_model_name": "HTMLModel",
            "_view_count": null,
            "_view_module": "@jupyter-widgets/controls",
            "_view_module_version": "1.5.0",
            "_view_name": "HTMLView",
            "description": "",
            "description_tooltip": null,
            "layout": "IPY_MODEL_047549182be640da8e2dbe341c467a76",
            "placeholder": "​",
            "style": "IPY_MODEL_932359b9555a4ca8b71bcd4c0d752bf0",
            "value": " 22375/22375 [1:24:31&lt;00:00,  4.62it/s]"
          }
        },
        "50b2e4abe1044741bb989bb63db937c1": {
          "model_module": "@jupyter-widgets/base",
          "model_name": "LayoutModel",
          "model_module_version": "1.2.0",
          "state": {
            "_model_module": "@jupyter-widgets/base",
            "_model_module_version": "1.2.0",
            "_model_name": "LayoutModel",
            "_view_count": null,
            "_view_module": "@jupyter-widgets/base",
            "_view_module_version": "1.2.0",
            "_view_name": "LayoutView",
            "align_content": null,
            "align_items": null,
            "align_self": null,
            "border": null,
            "bottom": null,
            "display": null,
            "flex": null,
            "flex_flow": null,
            "grid_area": null,
            "grid_auto_columns": null,
            "grid_auto_flow": null,
            "grid_auto_rows": null,
            "grid_column": null,
            "grid_gap": null,
            "grid_row": null,
            "grid_template_areas": null,
            "grid_template_columns": null,
            "grid_template_rows": null,
            "height": null,
            "justify_content": null,
            "justify_items": null,
            "left": null,
            "margin": null,
            "max_height": null,
            "max_width": null,
            "min_height": null,
            "min_width": null,
            "object_fit": null,
            "object_position": null,
            "order": null,
            "overflow": null,
            "overflow_x": null,
            "overflow_y": null,
            "padding": null,
            "right": null,
            "top": null,
            "visibility": null,
            "width": null
          }
        },
        "b0d7b2b132f64b29982e39f06044340e": {
          "model_module": "@jupyter-widgets/base",
          "model_name": "LayoutModel",
          "model_module_version": "1.2.0",
          "state": {
            "_model_module": "@jupyter-widgets/base",
            "_model_module_version": "1.2.0",
            "_model_name": "LayoutModel",
            "_view_count": null,
            "_view_module": "@jupyter-widgets/base",
            "_view_module_version": "1.2.0",
            "_view_name": "LayoutView",
            "align_content": null,
            "align_items": null,
            "align_self": null,
            "border": null,
            "bottom": null,
            "display": null,
            "flex": null,
            "flex_flow": null,
            "grid_area": null,
            "grid_auto_columns": null,
            "grid_auto_flow": null,
            "grid_auto_rows": null,
            "grid_column": null,
            "grid_gap": null,
            "grid_row": null,
            "grid_template_areas": null,
            "grid_template_columns": null,
            "grid_template_rows": null,
            "height": null,
            "justify_content": null,
            "justify_items": null,
            "left": null,
            "margin": null,
            "max_height": null,
            "max_width": null,
            "min_height": null,
            "min_width": null,
            "object_fit": null,
            "object_position": null,
            "order": null,
            "overflow": null,
            "overflow_x": null,
            "overflow_y": null,
            "padding": null,
            "right": null,
            "top": null,
            "visibility": null,
            "width": null
          }
        },
        "13f5c173cdee4c86be0816ac01c56dc3": {
          "model_module": "@jupyter-widgets/controls",
          "model_name": "DescriptionStyleModel",
          "model_module_version": "1.5.0",
          "state": {
            "_model_module": "@jupyter-widgets/controls",
            "_model_module_version": "1.5.0",
            "_model_name": "DescriptionStyleModel",
            "_view_count": null,
            "_view_module": "@jupyter-widgets/base",
            "_view_module_version": "1.2.0",
            "_view_name": "StyleView",
            "description_width": ""
          }
        },
        "3f4ddc110ae4425f8b3bfc98a1c96de9": {
          "model_module": "@jupyter-widgets/base",
          "model_name": "LayoutModel",
          "model_module_version": "1.2.0",
          "state": {
            "_model_module": "@jupyter-widgets/base",
            "_model_module_version": "1.2.0",
            "_model_name": "LayoutModel",
            "_view_count": null,
            "_view_module": "@jupyter-widgets/base",
            "_view_module_version": "1.2.0",
            "_view_name": "LayoutView",
            "align_content": null,
            "align_items": null,
            "align_self": null,
            "border": null,
            "bottom": null,
            "display": null,
            "flex": null,
            "flex_flow": null,
            "grid_area": null,
            "grid_auto_columns": null,
            "grid_auto_flow": null,
            "grid_auto_rows": null,
            "grid_column": null,
            "grid_gap": null,
            "grid_row": null,
            "grid_template_areas": null,
            "grid_template_columns": null,
            "grid_template_rows": null,
            "height": null,
            "justify_content": null,
            "justify_items": null,
            "left": null,
            "margin": null,
            "max_height": null,
            "max_width": null,
            "min_height": null,
            "min_width": null,
            "object_fit": null,
            "object_position": null,
            "order": null,
            "overflow": null,
            "overflow_x": null,
            "overflow_y": null,
            "padding": null,
            "right": null,
            "top": null,
            "visibility": null,
            "width": null
          }
        },
        "14e2e8c2f9bf47f385fc80666c898b6f": {
          "model_module": "@jupyter-widgets/controls",
          "model_name": "ProgressStyleModel",
          "model_module_version": "1.5.0",
          "state": {
            "_model_module": "@jupyter-widgets/controls",
            "_model_module_version": "1.5.0",
            "_model_name": "ProgressStyleModel",
            "_view_count": null,
            "_view_module": "@jupyter-widgets/base",
            "_view_module_version": "1.2.0",
            "_view_name": "StyleView",
            "bar_color": null,
            "description_width": ""
          }
        },
        "047549182be640da8e2dbe341c467a76": {
          "model_module": "@jupyter-widgets/base",
          "model_name": "LayoutModel",
          "model_module_version": "1.2.0",
          "state": {
            "_model_module": "@jupyter-widgets/base",
            "_model_module_version": "1.2.0",
            "_model_name": "LayoutModel",
            "_view_count": null,
            "_view_module": "@jupyter-widgets/base",
            "_view_module_version": "1.2.0",
            "_view_name": "LayoutView",
            "align_content": null,
            "align_items": null,
            "align_self": null,
            "border": null,
            "bottom": null,
            "display": null,
            "flex": null,
            "flex_flow": null,
            "grid_area": null,
            "grid_auto_columns": null,
            "grid_auto_flow": null,
            "grid_auto_rows": null,
            "grid_column": null,
            "grid_gap": null,
            "grid_row": null,
            "grid_template_areas": null,
            "grid_template_columns": null,
            "grid_template_rows": null,
            "height": null,
            "justify_content": null,
            "justify_items": null,
            "left": null,
            "margin": null,
            "max_height": null,
            "max_width": null,
            "min_height": null,
            "min_width": null,
            "object_fit": null,
            "object_position": null,
            "order": null,
            "overflow": null,
            "overflow_x": null,
            "overflow_y": null,
            "padding": null,
            "right": null,
            "top": null,
            "visibility": null,
            "width": null
          }
        },
        "932359b9555a4ca8b71bcd4c0d752bf0": {
          "model_module": "@jupyter-widgets/controls",
          "model_name": "DescriptionStyleModel",
          "model_module_version": "1.5.0",
          "state": {
            "_model_module": "@jupyter-widgets/controls",
            "_model_module_version": "1.5.0",
            "_model_name": "DescriptionStyleModel",
            "_view_count": null,
            "_view_module": "@jupyter-widgets/base",
            "_view_module_version": "1.2.0",
            "_view_name": "StyleView",
            "description_width": ""
          }
        },
        "8ea30646f3e4466fa81e66b37554c894": {
          "model_module": "@jupyter-widgets/controls",
          "model_name": "HBoxModel",
          "model_module_version": "1.5.0",
          "state": {
            "_dom_classes": [],
            "_model_module": "@jupyter-widgets/controls",
            "_model_module_version": "1.5.0",
            "_model_name": "HBoxModel",
            "_view_count": null,
            "_view_module": "@jupyter-widgets/controls",
            "_view_module_version": "1.5.0",
            "_view_name": "HBoxView",
            "box_style": "",
            "children": [
              "IPY_MODEL_5efdb716e2744abf9f473eab00b63089",
              "IPY_MODEL_1c8cd97940e94c4fb1ba564d5e119f57",
              "IPY_MODEL_4644fbaa65624ce3954e47f43d8ba964"
            ],
            "layout": "IPY_MODEL_f642ae115bcc4bedba7cd9a1c0c1aff1"
          }
        },
        "5efdb716e2744abf9f473eab00b63089": {
          "model_module": "@jupyter-widgets/controls",
          "model_name": "HTMLModel",
          "model_module_version": "1.5.0",
          "state": {
            "_dom_classes": [],
            "_model_module": "@jupyter-widgets/controls",
            "_model_module_version": "1.5.0",
            "_model_name": "HTMLModel",
            "_view_count": null,
            "_view_module": "@jupyter-widgets/controls",
            "_view_module_version": "1.5.0",
            "_view_name": "HTMLView",
            "description": "",
            "description_tooltip": null,
            "layout": "IPY_MODEL_ca54900fdfe644c3a14df4e71b92f555",
            "placeholder": "​",
            "style": "IPY_MODEL_4e7e698a792b4dca9bbc8dc305f2bdba",
            "value": "100%"
          }
        },
        "1c8cd97940e94c4fb1ba564d5e119f57": {
          "model_module": "@jupyter-widgets/controls",
          "model_name": "FloatProgressModel",
          "model_module_version": "1.5.0",
          "state": {
            "_dom_classes": [],
            "_model_module": "@jupyter-widgets/controls",
            "_model_module_version": "1.5.0",
            "_model_name": "FloatProgressModel",
            "_view_count": null,
            "_view_module": "@jupyter-widgets/controls",
            "_view_module_version": "1.5.0",
            "_view_name": "ProgressView",
            "bar_style": "",
            "description": "",
            "description_tooltip": null,
            "layout": "IPY_MODEL_dad8b9ef65e14a7eac7430b0c493e6d1",
            "max": 22375,
            "min": 0,
            "orientation": "horizontal",
            "style": "IPY_MODEL_18d9a36ece8e46ec8f5dc1555aa41aac",
            "value": 22375
          }
        },
        "4644fbaa65624ce3954e47f43d8ba964": {
          "model_module": "@jupyter-widgets/controls",
          "model_name": "HTMLModel",
          "model_module_version": "1.5.0",
          "state": {
            "_dom_classes": [],
            "_model_module": "@jupyter-widgets/controls",
            "_model_module_version": "1.5.0",
            "_model_name": "HTMLModel",
            "_view_count": null,
            "_view_module": "@jupyter-widgets/controls",
            "_view_module_version": "1.5.0",
            "_view_name": "HTMLView",
            "description": "",
            "description_tooltip": null,
            "layout": "IPY_MODEL_d0d37f36b97d403886b1f16f0ab990e9",
            "placeholder": "​",
            "style": "IPY_MODEL_bfaeebdf233e40e994f7c392476cdbdb",
            "value": " 22375/22375 [1:24:34&lt;00:00,  4.55it/s]"
          }
        },
        "f642ae115bcc4bedba7cd9a1c0c1aff1": {
          "model_module": "@jupyter-widgets/base",
          "model_name": "LayoutModel",
          "model_module_version": "1.2.0",
          "state": {
            "_model_module": "@jupyter-widgets/base",
            "_model_module_version": "1.2.0",
            "_model_name": "LayoutModel",
            "_view_count": null,
            "_view_module": "@jupyter-widgets/base",
            "_view_module_version": "1.2.0",
            "_view_name": "LayoutView",
            "align_content": null,
            "align_items": null,
            "align_self": null,
            "border": null,
            "bottom": null,
            "display": null,
            "flex": null,
            "flex_flow": null,
            "grid_area": null,
            "grid_auto_columns": null,
            "grid_auto_flow": null,
            "grid_auto_rows": null,
            "grid_column": null,
            "grid_gap": null,
            "grid_row": null,
            "grid_template_areas": null,
            "grid_template_columns": null,
            "grid_template_rows": null,
            "height": null,
            "justify_content": null,
            "justify_items": null,
            "left": null,
            "margin": null,
            "max_height": null,
            "max_width": null,
            "min_height": null,
            "min_width": null,
            "object_fit": null,
            "object_position": null,
            "order": null,
            "overflow": null,
            "overflow_x": null,
            "overflow_y": null,
            "padding": null,
            "right": null,
            "top": null,
            "visibility": null,
            "width": null
          }
        },
        "ca54900fdfe644c3a14df4e71b92f555": {
          "model_module": "@jupyter-widgets/base",
          "model_name": "LayoutModel",
          "model_module_version": "1.2.0",
          "state": {
            "_model_module": "@jupyter-widgets/base",
            "_model_module_version": "1.2.0",
            "_model_name": "LayoutModel",
            "_view_count": null,
            "_view_module": "@jupyter-widgets/base",
            "_view_module_version": "1.2.0",
            "_view_name": "LayoutView",
            "align_content": null,
            "align_items": null,
            "align_self": null,
            "border": null,
            "bottom": null,
            "display": null,
            "flex": null,
            "flex_flow": null,
            "grid_area": null,
            "grid_auto_columns": null,
            "grid_auto_flow": null,
            "grid_auto_rows": null,
            "grid_column": null,
            "grid_gap": null,
            "grid_row": null,
            "grid_template_areas": null,
            "grid_template_columns": null,
            "grid_template_rows": null,
            "height": null,
            "justify_content": null,
            "justify_items": null,
            "left": null,
            "margin": null,
            "max_height": null,
            "max_width": null,
            "min_height": null,
            "min_width": null,
            "object_fit": null,
            "object_position": null,
            "order": null,
            "overflow": null,
            "overflow_x": null,
            "overflow_y": null,
            "padding": null,
            "right": null,
            "top": null,
            "visibility": null,
            "width": null
          }
        },
        "4e7e698a792b4dca9bbc8dc305f2bdba": {
          "model_module": "@jupyter-widgets/controls",
          "model_name": "DescriptionStyleModel",
          "model_module_version": "1.5.0",
          "state": {
            "_model_module": "@jupyter-widgets/controls",
            "_model_module_version": "1.5.0",
            "_model_name": "DescriptionStyleModel",
            "_view_count": null,
            "_view_module": "@jupyter-widgets/base",
            "_view_module_version": "1.2.0",
            "_view_name": "StyleView",
            "description_width": ""
          }
        },
        "dad8b9ef65e14a7eac7430b0c493e6d1": {
          "model_module": "@jupyter-widgets/base",
          "model_name": "LayoutModel",
          "model_module_version": "1.2.0",
          "state": {
            "_model_module": "@jupyter-widgets/base",
            "_model_module_version": "1.2.0",
            "_model_name": "LayoutModel",
            "_view_count": null,
            "_view_module": "@jupyter-widgets/base",
            "_view_module_version": "1.2.0",
            "_view_name": "LayoutView",
            "align_content": null,
            "align_items": null,
            "align_self": null,
            "border": null,
            "bottom": null,
            "display": null,
            "flex": null,
            "flex_flow": null,
            "grid_area": null,
            "grid_auto_columns": null,
            "grid_auto_flow": null,
            "grid_auto_rows": null,
            "grid_column": null,
            "grid_gap": null,
            "grid_row": null,
            "grid_template_areas": null,
            "grid_template_columns": null,
            "grid_template_rows": null,
            "height": null,
            "justify_content": null,
            "justify_items": null,
            "left": null,
            "margin": null,
            "max_height": null,
            "max_width": null,
            "min_height": null,
            "min_width": null,
            "object_fit": null,
            "object_position": null,
            "order": null,
            "overflow": null,
            "overflow_x": null,
            "overflow_y": null,
            "padding": null,
            "right": null,
            "top": null,
            "visibility": null,
            "width": null
          }
        },
        "18d9a36ece8e46ec8f5dc1555aa41aac": {
          "model_module": "@jupyter-widgets/controls",
          "model_name": "ProgressStyleModel",
          "model_module_version": "1.5.0",
          "state": {
            "_model_module": "@jupyter-widgets/controls",
            "_model_module_version": "1.5.0",
            "_model_name": "ProgressStyleModel",
            "_view_count": null,
            "_view_module": "@jupyter-widgets/base",
            "_view_module_version": "1.2.0",
            "_view_name": "StyleView",
            "bar_color": null,
            "description_width": ""
          }
        },
        "d0d37f36b97d403886b1f16f0ab990e9": {
          "model_module": "@jupyter-widgets/base",
          "model_name": "LayoutModel",
          "model_module_version": "1.2.0",
          "state": {
            "_model_module": "@jupyter-widgets/base",
            "_model_module_version": "1.2.0",
            "_model_name": "LayoutModel",
            "_view_count": null,
            "_view_module": "@jupyter-widgets/base",
            "_view_module_version": "1.2.0",
            "_view_name": "LayoutView",
            "align_content": null,
            "align_items": null,
            "align_self": null,
            "border": null,
            "bottom": null,
            "display": null,
            "flex": null,
            "flex_flow": null,
            "grid_area": null,
            "grid_auto_columns": null,
            "grid_auto_flow": null,
            "grid_auto_rows": null,
            "grid_column": null,
            "grid_gap": null,
            "grid_row": null,
            "grid_template_areas": null,
            "grid_template_columns": null,
            "grid_template_rows": null,
            "height": null,
            "justify_content": null,
            "justify_items": null,
            "left": null,
            "margin": null,
            "max_height": null,
            "max_width": null,
            "min_height": null,
            "min_width": null,
            "object_fit": null,
            "object_position": null,
            "order": null,
            "overflow": null,
            "overflow_x": null,
            "overflow_y": null,
            "padding": null,
            "right": null,
            "top": null,
            "visibility": null,
            "width": null
          }
        },
        "bfaeebdf233e40e994f7c392476cdbdb": {
          "model_module": "@jupyter-widgets/controls",
          "model_name": "DescriptionStyleModel",
          "model_module_version": "1.5.0",
          "state": {
            "_model_module": "@jupyter-widgets/controls",
            "_model_module_version": "1.5.0",
            "_model_name": "DescriptionStyleModel",
            "_view_count": null,
            "_view_module": "@jupyter-widgets/base",
            "_view_module_version": "1.2.0",
            "_view_name": "StyleView",
            "description_width": ""
          }
        }
      }
    }
  },
  "nbformat": 4,
  "nbformat_minor": 0
}