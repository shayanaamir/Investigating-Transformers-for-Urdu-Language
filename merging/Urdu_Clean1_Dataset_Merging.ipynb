{
  "nbformat": 4,
  "nbformat_minor": 0,
  "metadata": {
    "colab": {
      "name": "Urdu_Clean1_Dataset_Merging.ipynb",
      "provenance": [],
      "collapsed_sections": []
    },
    "kernelspec": {
      "name": "python3",
      "display_name": "Python 3"
    },
    "language_info": {
      "name": "python"
    }
  },
  "cells": [
    {
      "cell_type": "code",
      "source": [
        "import pandas as pd\n",
        "from google.colab import files"
      ],
      "metadata": {
        "id": "L8Av-DGW1pt0"
      },
      "execution_count": null,
      "outputs": []
    },
    {
      "cell_type": "code",
      "source": [
        "def postprocess_dataset(dataset):\n",
        "  print(\"Initial shape\", dataset.shape)\n",
        "  dataset.drop_duplicates(keep=\"first\", inplace=True)\n",
        "  dataset[\"Text\"] = dataset.Text.str.strip()\n",
        "  dataset = dataset[dataset[\"Text\"] != \" \"]\n",
        "  dataset = dataset[dataset[\"Text\"] != \"\"]\n",
        "  dataset = dataset[dataset[\"Sentiment\"] != \" \"]\n",
        "  dataset = dataset[dataset[\"Sentiment\"] != \"\"]\n",
        "  dataset[\"Sentiment\"] = pd.to_numeric(dataset[\"Sentiment\"]) # making sure that the sentiment tagging is in numbers (0 for pos, 1 for neg, 2 for neut)\n",
        "  print(\"Final shape\", dataset.shape)\n",
        "  return dataset"
      ],
      "metadata": {
        "id": "KdrspDSV2TJH"
      },
      "execution_count": null,
      "outputs": []
    },
    {
      "cell_type": "code",
      "execution_count": null,
      "metadata": {
        "colab": {
          "base_uri": "https://localhost:8080/"
        },
        "id": "qYTeUW6X0pu1",
        "outputId": "162ed303-b559-4acf-dcab-be55637a732a"
      },
      "outputs": [
        {
          "output_type": "stream",
          "name": "stdout",
          "text": [
            "(4062, 3) (26869, 2)\n",
            "Initial shape (30931, 3)\n",
            "Final shape (30931, 3)\n",
            "Initial shape (30931, 3)\n",
            "Final shape (30931, 3)\n"
          ]
        }
      ],
      "source": [
        "urdu_clean1_combined = pd.DataFrame(columns=[\"Text\", \"Sentiment\"]) # making a new dataframe where we will merge all the formatted dataframes\n",
        "\n",
        "urdu_merged = pd.read_csv(\"MergedDataset.csv\")\n",
        "clean1 = pd.read_csv(\"clean_dataset1.csv\")\n",
        "print(urdu_merged.shape, clean1.shape)\n",
        "\n",
        "urdu_clean1_combined = urdu_clean1_combined.append(urdu_merged)\n",
        "urdu_clean1_combined = urdu_clean1_combined.append(clean1)\n",
        "\n",
        "urdu_clean1_combined = postprocess_dataset(urdu_clean1_combined)\n",
        "\n",
        "urdu_clean1_combined = pd.concat([urdu_merged, clean1]) # making a new dataframe where we will merge all the formatted dataframes\n",
        "urdu_clean1_combined = postprocess_dataset(urdu_clean1_combined)\n",
        "\n",
        "\n",
        "urdu_clean1_combined.to_csv(\"urdu_clean1_combined.csv\", index=None) # convert the dataframe to a csv file and not adding the indexes"
      ]
    },
    {
      "cell_type": "code",
      "source": [
        "files.download(\"/content/urdu_clean1_combined.csv\") # download the final merged dataset "
      ],
      "metadata": {
        "colab": {
          "base_uri": "https://localhost:8080/",
          "height": 17
        },
        "id": "NFxmjGPJ5F7G",
        "outputId": "2d180c15-7a7c-4bf8-85d0-c22e127d55e6"
      },
      "execution_count": null,
      "outputs": [
        {
          "output_type": "display_data",
          "data": {
            "text/plain": [
              "<IPython.core.display.Javascript object>"
            ],
            "application/javascript": [
              "\n",
              "    async function download(id, filename, size) {\n",
              "      if (!google.colab.kernel.accessAllowed) {\n",
              "        return;\n",
              "      }\n",
              "      const div = document.createElement('div');\n",
              "      const label = document.createElement('label');\n",
              "      label.textContent = `Downloading \"${filename}\": `;\n",
              "      div.appendChild(label);\n",
              "      const progress = document.createElement('progress');\n",
              "      progress.max = size;\n",
              "      div.appendChild(progress);\n",
              "      document.body.appendChild(div);\n",
              "\n",
              "      const buffers = [];\n",
              "      let downloaded = 0;\n",
              "\n",
              "      const channel = await google.colab.kernel.comms.open(id);\n",
              "      // Send a message to notify the kernel that we're ready.\n",
              "      channel.send({})\n",
              "\n",
              "      for await (const message of channel.messages) {\n",
              "        // Send a message to notify the kernel that we're ready.\n",
              "        channel.send({})\n",
              "        if (message.buffers) {\n",
              "          for (const buffer of message.buffers) {\n",
              "            buffers.push(buffer);\n",
              "            downloaded += buffer.byteLength;\n",
              "            progress.value = downloaded;\n",
              "          }\n",
              "        }\n",
              "      }\n",
              "      const blob = new Blob(buffers, {type: 'application/binary'});\n",
              "      const a = document.createElement('a');\n",
              "      a.href = window.URL.createObjectURL(blob);\n",
              "      a.download = filename;\n",
              "      div.appendChild(a);\n",
              "      a.click();\n",
              "      div.remove();\n",
              "    }\n",
              "  "
            ]
          },
          "metadata": {}
        },
        {
          "output_type": "display_data",
          "data": {
            "text/plain": [
              "<IPython.core.display.Javascript object>"
            ],
            "application/javascript": [
              "download(\"download_7028abb0-9218-4a5c-820f-6d7e9931ac9e\", \"urdu_clean1_combined.csv\", 3290267)"
            ]
          },
          "metadata": {}
        }
      ]
    }
  ]
}