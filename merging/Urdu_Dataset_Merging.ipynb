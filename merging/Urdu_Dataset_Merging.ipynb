{
  "cells": [
    {
      "cell_type": "code",
      "execution_count": null,
      "metadata": {
        "id": "IEFvbbRHp4JC"
      },
      "outputs": [],
      "source": [
        "# Necessary imports\n",
        "from google.colab import files, drive\n",
        "import pandas as pd\n",
        "import matplotlib.pyplot as plt\n",
        "data = {} # dictionary to store the datasets\n",
        "import numpy as np"
      ]
    },
    {
      "cell_type": "markdown",
      "metadata": {
        "id": "cbPmYJgzs3Va"
      },
      "source": [
        "## 1.1 - Installing Urdu-Sentiment-Corpus (GitHub)\n",
        "\n",
        "Source: https://github.com/MuhammadYaseenKhan/Urdu-Sentiment-Corpus\n",
        "\n",
        "Total Instances: 1000\n",
        "\n",
        "Summary: Used for sentiment analysis and polarity detection through tweets about pakistani politics.\n",
        "\n",
        "Validity: The dataset is used in an authentic paper published by IEEE in 2020 International Conference on Information Science and Communication Technology (ICISCT) - https://ieeexplore.ieee.org/abstract/document/9080043/."
      ]
    },
    {
      "cell_type": "code",
      "execution_count": null,
      "metadata": {
        "colab": {
          "base_uri": "https://localhost:8080/"
        },
        "id": "nAUZ6LzxuTpE",
        "outputId": "2f8756cb-00e4-4cfc-81d3-e90914ee0e2a"
      },
      "outputs": [
        {
          "output_type": "stream",
          "name": "stdout",
          "text": [
            "Cloning into 'Urdu-Sentiment-Corpus'...\n",
            "remote: Enumerating objects: 57, done.\u001b[K\n",
            "remote: Counting objects: 100% (42/42), done.\u001b[K\n",
            "remote: Compressing objects: 100% (35/35), done.\u001b[K\n",
            "remote: Total 57 (delta 12), reused 36 (delta 7), pack-reused 15\u001b[K\n",
            "Unpacking objects: 100% (57/57), done.\n"
          ]
        }
      ],
      "source": [
        "!git clone https://github.com/MuhammadYaseenKhan/Urdu-Sentiment-Corpus.git"
      ]
    },
    {
      "cell_type": "code",
      "execution_count": null,
      "metadata": {
        "colab": {
          "base_uri": "https://localhost:8080/",
          "height": 424
        },
        "id": "JSVwbUatvrMN",
        "outputId": "b6e83d24-c6b7-4a14-ee7f-5082dddfcbaf"
      },
      "outputs": [
        {
          "output_type": "execute_result",
          "data": {
            "text/plain": [
              "                                                  Text  Sentiment\n",
              "0    میں نے ایٹم بم بنایا ھے ۔۔۔۔او بھائی ایٹم بمب ...        0.0\n",
              "1    چندے سے انقلاب اور عمران خان وزیر اعظم نہیں بن...        1.0\n",
              "2                             ٹویٹر کا خیال کیسے آیا ؟        2.0\n",
              "3    سرچ انجن گوگل کے نائب صدر نے فضا میں ، 130,000...        0.0\n",
              "4      ابھی تک اسکی لہریں کبھی کبھی آ جاتی ہیں یار :أْ        0.0\n",
              "..                                                 ...        ...\n",
              "995     اُس آدمی نے اِس سالار کو کافی معقول ٹپ دی ہے ۔        0.0\n",
              "996  چچا غالب کی روح سے معذرت کے ساتھہم نے مانا کہ ...        0.0\n",
              "997  واہ جناب واہ! اچھی رہی۔ جناب خود کو فرشتہ سمجو...        0.0\n",
              "998  اسلام آباد :پی اے ٹی کا دھرنا ختم، صفائی کے کا...        0.0\n",
              "999  دنیا نے کس کا راہ وفا میں دیا ہے ساتھتم بھی چل...        0.0\n",
              "\n",
              "[1000 rows x 2 columns]"
            ],
            "text/html": [
              "\n",
              "  <div id=\"df-5cc64a66-8384-492e-aaa1-8f0cd62fed6a\">\n",
              "    <div class=\"colab-df-container\">\n",
              "      <div>\n",
              "<style scoped>\n",
              "    .dataframe tbody tr th:only-of-type {\n",
              "        vertical-align: middle;\n",
              "    }\n",
              "\n",
              "    .dataframe tbody tr th {\n",
              "        vertical-align: top;\n",
              "    }\n",
              "\n",
              "    .dataframe thead th {\n",
              "        text-align: right;\n",
              "    }\n",
              "</style>\n",
              "<table border=\"1\" class=\"dataframe\">\n",
              "  <thead>\n",
              "    <tr style=\"text-align: right;\">\n",
              "      <th></th>\n",
              "      <th>Text</th>\n",
              "      <th>Sentiment</th>\n",
              "    </tr>\n",
              "  </thead>\n",
              "  <tbody>\n",
              "    <tr>\n",
              "      <th>0</th>\n",
              "      <td>میں نے ایٹم بم بنایا ھے ۔۔۔۔او بھائی ایٹم بمب ...</td>\n",
              "      <td>0.0</td>\n",
              "    </tr>\n",
              "    <tr>\n",
              "      <th>1</th>\n",
              "      <td>چندے سے انقلاب اور عمران خان وزیر اعظم نہیں بن...</td>\n",
              "      <td>1.0</td>\n",
              "    </tr>\n",
              "    <tr>\n",
              "      <th>2</th>\n",
              "      <td>ٹویٹر کا خیال کیسے آیا ؟</td>\n",
              "      <td>2.0</td>\n",
              "    </tr>\n",
              "    <tr>\n",
              "      <th>3</th>\n",
              "      <td>سرچ انجن گوگل کے نائب صدر نے فضا میں ، 130,000...</td>\n",
              "      <td>0.0</td>\n",
              "    </tr>\n",
              "    <tr>\n",
              "      <th>4</th>\n",
              "      <td>ابھی تک اسکی لہریں کبھی کبھی آ جاتی ہیں یار :أْ</td>\n",
              "      <td>0.0</td>\n",
              "    </tr>\n",
              "    <tr>\n",
              "      <th>...</th>\n",
              "      <td>...</td>\n",
              "      <td>...</td>\n",
              "    </tr>\n",
              "    <tr>\n",
              "      <th>995</th>\n",
              "      <td>اُس آدمی نے اِس سالار کو کافی معقول ٹپ دی ہے ۔</td>\n",
              "      <td>0.0</td>\n",
              "    </tr>\n",
              "    <tr>\n",
              "      <th>996</th>\n",
              "      <td>چچا غالب کی روح سے معذرت کے ساتھہم نے مانا کہ ...</td>\n",
              "      <td>0.0</td>\n",
              "    </tr>\n",
              "    <tr>\n",
              "      <th>997</th>\n",
              "      <td>واہ جناب واہ! اچھی رہی۔ جناب خود کو فرشتہ سمجو...</td>\n",
              "      <td>0.0</td>\n",
              "    </tr>\n",
              "    <tr>\n",
              "      <th>998</th>\n",
              "      <td>اسلام آباد :پی اے ٹی کا دھرنا ختم، صفائی کے کا...</td>\n",
              "      <td>0.0</td>\n",
              "    </tr>\n",
              "    <tr>\n",
              "      <th>999</th>\n",
              "      <td>دنیا نے کس کا راہ وفا میں دیا ہے ساتھتم بھی چل...</td>\n",
              "      <td>0.0</td>\n",
              "    </tr>\n",
              "  </tbody>\n",
              "</table>\n",
              "<p>1000 rows × 2 columns</p>\n",
              "</div>\n",
              "      <button class=\"colab-df-convert\" onclick=\"convertToInteractive('df-5cc64a66-8384-492e-aaa1-8f0cd62fed6a')\"\n",
              "              title=\"Convert this dataframe to an interactive table.\"\n",
              "              style=\"display:none;\">\n",
              "        \n",
              "  <svg xmlns=\"http://www.w3.org/2000/svg\" height=\"24px\"viewBox=\"0 0 24 24\"\n",
              "       width=\"24px\">\n",
              "    <path d=\"M0 0h24v24H0V0z\" fill=\"none\"/>\n",
              "    <path d=\"M18.56 5.44l.94 2.06.94-2.06 2.06-.94-2.06-.94-.94-2.06-.94 2.06-2.06.94zm-11 1L8.5 8.5l.94-2.06 2.06-.94-2.06-.94L8.5 2.5l-.94 2.06-2.06.94zm10 10l.94 2.06.94-2.06 2.06-.94-2.06-.94-.94-2.06-.94 2.06-2.06.94z\"/><path d=\"M17.41 7.96l-1.37-1.37c-.4-.4-.92-.59-1.43-.59-.52 0-1.04.2-1.43.59L10.3 9.45l-7.72 7.72c-.78.78-.78 2.05 0 2.83L4 21.41c.39.39.9.59 1.41.59.51 0 1.02-.2 1.41-.59l7.78-7.78 2.81-2.81c.8-.78.8-2.07 0-2.86zM5.41 20L4 18.59l7.72-7.72 1.47 1.35L5.41 20z\"/>\n",
              "  </svg>\n",
              "      </button>\n",
              "      \n",
              "  <style>\n",
              "    .colab-df-container {\n",
              "      display:flex;\n",
              "      flex-wrap:wrap;\n",
              "      gap: 12px;\n",
              "    }\n",
              "\n",
              "    .colab-df-convert {\n",
              "      background-color: #E8F0FE;\n",
              "      border: none;\n",
              "      border-radius: 50%;\n",
              "      cursor: pointer;\n",
              "      display: none;\n",
              "      fill: #1967D2;\n",
              "      height: 32px;\n",
              "      padding: 0 0 0 0;\n",
              "      width: 32px;\n",
              "    }\n",
              "\n",
              "    .colab-df-convert:hover {\n",
              "      background-color: #E2EBFA;\n",
              "      box-shadow: 0px 1px 2px rgba(60, 64, 67, 0.3), 0px 1px 3px 1px rgba(60, 64, 67, 0.15);\n",
              "      fill: #174EA6;\n",
              "    }\n",
              "\n",
              "    [theme=dark] .colab-df-convert {\n",
              "      background-color: #3B4455;\n",
              "      fill: #D2E3FC;\n",
              "    }\n",
              "\n",
              "    [theme=dark] .colab-df-convert:hover {\n",
              "      background-color: #434B5C;\n",
              "      box-shadow: 0px 1px 3px 1px rgba(0, 0, 0, 0.15);\n",
              "      filter: drop-shadow(0px 1px 2px rgba(0, 0, 0, 0.3));\n",
              "      fill: #FFFFFF;\n",
              "    }\n",
              "  </style>\n",
              "\n",
              "      <script>\n",
              "        const buttonEl =\n",
              "          document.querySelector('#df-5cc64a66-8384-492e-aaa1-8f0cd62fed6a button.colab-df-convert');\n",
              "        buttonEl.style.display =\n",
              "          google.colab.kernel.accessAllowed ? 'block' : 'none';\n",
              "\n",
              "        async function convertToInteractive(key) {\n",
              "          const element = document.querySelector('#df-5cc64a66-8384-492e-aaa1-8f0cd62fed6a');\n",
              "          const dataTable =\n",
              "            await google.colab.kernel.invokeFunction('convertToInteractive',\n",
              "                                                     [key], {});\n",
              "          if (!dataTable) return;\n",
              "\n",
              "          const docLinkHtml = 'Like what you see? Visit the ' +\n",
              "            '<a target=\"_blank\" href=https://colab.research.google.com/notebooks/data_table.ipynb>data table notebook</a>'\n",
              "            + ' to learn more about interactive tables.';\n",
              "          element.innerHTML = '';\n",
              "          dataTable['output_type'] = 'display_data';\n",
              "          await google.colab.output.renderOutput(dataTable, element);\n",
              "          const docLink = document.createElement('div');\n",
              "          docLink.innerHTML = docLinkHtml;\n",
              "          element.appendChild(docLink);\n",
              "        }\n",
              "      </script>\n",
              "    </div>\n",
              "  </div>\n",
              "  "
            ]
          },
          "metadata": {},
          "execution_count": 3
        }
      ],
      "source": [
        "d1 = pd.read_csv(\"/content/Urdu-Sentiment-Corpus/urdu-sentiment-corpus-v1.tsv\", sep='\\t', skip_blank_lines=True, encoding='utf-8')\n",
        "d1[\"Class\"].replace(['P', 'N', 'O'], [0, 1, 2], inplace=True) # formatting sentiment lablelling\n",
        "d1.rename(columns={\"Tweet\": \"Text\", \"Class\": \"Sentiment\"}, inplace=True) # renaming column to ensure same format of all datasets\n",
        "\n",
        "data[\"d1\"] = d1 # saving dataframe in data dictionary\n",
        "d1"
      ]
    },
    {
      "cell_type": "markdown",
      "metadata": {
        "id": "mGDCHlAXkpA0"
      },
      "source": [
        "## 1.2 - Visualizing the data of Dataset 1"
      ]
    },
    {
      "cell_type": "code",
      "execution_count": null,
      "metadata": {
        "colab": {
          "base_uri": "https://localhost:8080/",
          "height": 314
        },
        "id": "xeZfYHmbkuxU",
        "outputId": "510b14e1-c6e5-4892-af0b-a02b2eb15faa"
      },
      "outputs": [
        {
          "output_type": "display_data",
          "data": {
            "text/plain": [
              "<Figure size 432x288 with 1 Axes>"
            ],
            "image/png": "[encoded data removed]"
          },
          "metadata": {
            "needs_background": "light"
          }
        },
        {
          "output_type": "stream",
          "name": "stdout",
          "text": [
            "Positive 499, Negative 480, Neutral 20\n"
          ]
        }
      ],
      "source": [
        "y = list(d1[\"Sentiment\"].value_counts()) # getting frequency of all the 2 sentiments\n",
        "plt.plot()\n",
        "plt.bar([\"Positive\", \"Negative\", \"Neutral\"], y) # plottign frequency against labels in a bar chart\n",
        "plt.xlabel(\"Sentiment POS/NEG/NEU\")\n",
        "plt.ylabel(\"Frequency\")\n",
        "plt.title(\"Sentiment frequency of all Urdu Datasets\")\n",
        "plt.show()\n",
        "\n",
        "print(\"Positive {}, Negative {}, Neutral {}\".format(y[0], y[1], y[2]))"
      ]
    },
    {
      "cell_type": "markdown",
      "metadata": {
        "id": "AYkTZ3C8xqGr"
      },
      "source": [
        "## 2.1 - Installing UrduTweets Dataset (GitHub)\n",
        "\n",
        "Source: https://github.com/zarmeen92/urdutweets\n",
        "\n",
        "Total Instances: 3731\n",
        "\n",
        "Summary: The dataset consists of 3103  tweets, polarity, cleaned tweet, and sentiment_score. The polarity represents the label of the tweet either as O (for neutral), P(for positive), N (for negative). The data seems to be accurately labelled by using the score technique after manually checking it. It is mostly based on but not entirely on tweets related to politics bulletin.\n",
        "\n",
        "Validity: The dataset has been used by students of IBA and used in paper - https://www.researchgate.net/publication/343667083_Sentiment_Analysis_on_Urdu_Tweets_Using_Markov_Chains."
      ]
    },
    {
      "cell_type": "code",
      "execution_count": null,
      "metadata": {
        "colab": {
          "base_uri": "https://localhost:8080/"
        },
        "id": "uybE7WnDKk91",
        "outputId": "b3cb14d6-161a-4d21-ddc2-f131e8396682"
      },
      "outputs": [
        {
          "output_type": "stream",
          "name": "stdout",
          "text": [
            "Cloning into 'urdutweets'...\n",
            "remote: Enumerating objects: 3, done.\u001b[K\n",
            "remote: Total 3 (delta 0), reused 0 (delta 0), pack-reused 3\u001b[K\n",
            "Unpacking objects: 100% (3/3), done.\n"
          ]
        }
      ],
      "source": [
        "!git clone https://github.com/zarmeen92/urdutweets.git"
      ]
    },
    {
      "cell_type": "code",
      "execution_count": null,
      "metadata": {
        "colab": {
          "base_uri": "https://localhost:8080/",
          "height": 424
        },
        "id": "0W9Hrs1KUDO2",
        "outputId": "ba0800c6-6c5e-4ac3-ea72-92cf7b19126b"
      },
      "outputs": [
        {
          "output_type": "execute_result",
          "data": {
            "text/plain": [
              "                                                   Text  Sentiment\n",
              "0     رائيونڈ ميں ہنگامي اجلاس شہباز شريف ليے بيڈ تر...          2\n",
              "1     سانحہ ماڈل ٹاؤن باقر نجفي رپورٹ خاص صفحے منظرع...          2\n",
              "2     اسلام آباد جلسہ ميں پي پي جيالوں درميان کرسياں...          1\n",
              "3                       کيا رپورٹ کچھ حصے حذف نہيں گئے؟          2\n",
              "4     نوازشريف،مريم نوازاورکيپٹن ريٹائرڈصفدر کےخلاف ...          2\n",
              "...                                                 ...        ...\n",
              "3726  انا للہ وانا الیہ راجعون۔ اللہ آپکی والدہ جنت ...          2\n",
              "3727  بادام زیادہ کھا بیٹھا ہوں\\nکوئ بتاو فالتو عقل ...          1\n",
              "3728  کبھی کبھی خاموش رہنا پڑتا منظرِعام غائب ہونا پ...          1\n",
              "3729                      بادام ساتھ مجھے کھا جائیں گے🙄          1\n",
              "3730  جن لباس سرِ رہ سیاہی لکھی گئی\\nیہی داغ سجا سرِ...          1\n",
              "\n",
              "[3731 rows x 2 columns]"
            ],
            "text/html": [
              "\n",
              "  <div id=\"df-20f2b539-724f-434a-b396-e7e249850b4a\">\n",
              "    <div class=\"colab-df-container\">\n",
              "      <div>\n",
              "<style scoped>\n",
              "    .dataframe tbody tr th:only-of-type {\n",
              "        vertical-align: middle;\n",
              "    }\n",
              "\n",
              "    .dataframe tbody tr th {\n",
              "        vertical-align: top;\n",
              "    }\n",
              "\n",
              "    .dataframe thead th {\n",
              "        text-align: right;\n",
              "    }\n",
              "</style>\n",
              "<table border=\"1\" class=\"dataframe\">\n",
              "  <thead>\n",
              "    <tr style=\"text-align: right;\">\n",
              "      <th></th>\n",
              "      <th>Text</th>\n",
              "      <th>Sentiment</th>\n",
              "    </tr>\n",
              "  </thead>\n",
              "  <tbody>\n",
              "    <tr>\n",
              "      <th>0</th>\n",
              "      <td>رائيونڈ ميں ہنگامي اجلاس شہباز شريف ليے بيڈ تر...</td>\n",
              "      <td>2</td>\n",
              "    </tr>\n",
              "    <tr>\n",
              "      <th>1</th>\n",
              "      <td>سانحہ ماڈل ٹاؤن باقر نجفي رپورٹ خاص صفحے منظرع...</td>\n",
              "      <td>2</td>\n",
              "    </tr>\n",
              "    <tr>\n",
              "      <th>2</th>\n",
              "      <td>اسلام آباد جلسہ ميں پي پي جيالوں درميان کرسياں...</td>\n",
              "      <td>1</td>\n",
              "    </tr>\n",
              "    <tr>\n",
              "      <th>3</th>\n",
              "      <td>کيا رپورٹ کچھ حصے حذف نہيں گئے؟</td>\n",
              "      <td>2</td>\n",
              "    </tr>\n",
              "    <tr>\n",
              "      <th>4</th>\n",
              "      <td>نوازشريف،مريم نوازاورکيپٹن ريٹائرڈصفدر کےخلاف ...</td>\n",
              "      <td>2</td>\n",
              "    </tr>\n",
              "    <tr>\n",
              "      <th>...</th>\n",
              "      <td>...</td>\n",
              "      <td>...</td>\n",
              "    </tr>\n",
              "    <tr>\n",
              "      <th>3726</th>\n",
              "      <td>انا للہ وانا الیہ راجعون۔ اللہ آپکی والدہ جنت ...</td>\n",
              "      <td>2</td>\n",
              "    </tr>\n",
              "    <tr>\n",
              "      <th>3727</th>\n",
              "      <td>بادام زیادہ کھا بیٹھا ہوں\\nکوئ بتاو فالتو عقل ...</td>\n",
              "      <td>1</td>\n",
              "    </tr>\n",
              "    <tr>\n",
              "      <th>3728</th>\n",
              "      <td>کبھی کبھی خاموش رہنا پڑتا منظرِعام غائب ہونا پ...</td>\n",
              "      <td>1</td>\n",
              "    </tr>\n",
              "    <tr>\n",
              "      <th>3729</th>\n",
              "      <td>بادام ساتھ مجھے کھا جائیں گے🙄</td>\n",
              "      <td>1</td>\n",
              "    </tr>\n",
              "    <tr>\n",
              "      <th>3730</th>\n",
              "      <td>جن لباس سرِ رہ سیاہی لکھی گئی\\nیہی داغ سجا سرِ...</td>\n",
              "      <td>1</td>\n",
              "    </tr>\n",
              "  </tbody>\n",
              "</table>\n",
              "<p>3731 rows × 2 columns</p>\n",
              "</div>\n",
              "      <button class=\"colab-df-convert\" onclick=\"convertToInteractive('df-20f2b539-724f-434a-b396-e7e249850b4a')\"\n",
              "              title=\"Convert this dataframe to an interactive table.\"\n",
              "              style=\"display:none;\">\n",
              "        \n",
              "  <svg xmlns=\"http://www.w3.org/2000/svg\" height=\"24px\"viewBox=\"0 0 24 24\"\n",
              "       width=\"24px\">\n",
              "    <path d=\"M0 0h24v24H0V0z\" fill=\"none\"/>\n",
              "    <path d=\"M18.56 5.44l.94 2.06.94-2.06 2.06-.94-2.06-.94-.94-2.06-.94 2.06-2.06.94zm-11 1L8.5 8.5l.94-2.06 2.06-.94-2.06-.94L8.5 2.5l-.94 2.06-2.06.94zm10 10l.94 2.06.94-2.06 2.06-.94-2.06-.94-.94-2.06-.94 2.06-2.06.94z\"/><path d=\"M17.41 7.96l-1.37-1.37c-.4-.4-.92-.59-1.43-.59-.52 0-1.04.2-1.43.59L10.3 9.45l-7.72 7.72c-.78.78-.78 2.05 0 2.83L4 21.41c.39.39.9.59 1.41.59.51 0 1.02-.2 1.41-.59l7.78-7.78 2.81-2.81c.8-.78.8-2.07 0-2.86zM5.41 20L4 18.59l7.72-7.72 1.47 1.35L5.41 20z\"/>\n",
              "  </svg>\n",
              "      </button>\n",
              "      \n",
              "  <style>\n",
              "    .colab-df-container {\n",
              "      display:flex;\n",
              "      flex-wrap:wrap;\n",
              "      gap: 12px;\n",
              "    }\n",
              "\n",
              "    .colab-df-convert {\n",
              "      background-color: #E8F0FE;\n",
              "      border: none;\n",
              "      border-radius: 50%;\n",
              "      cursor: pointer;\n",
              "      display: none;\n",
              "      fill: #1967D2;\n",
              "      height: 32px;\n",
              "      padding: 0 0 0 0;\n",
              "      width: 32px;\n",
              "    }\n",
              "\n",
              "    .colab-df-convert:hover {\n",
              "      background-color: #E2EBFA;\n",
              "      box-shadow: 0px 1px 2px rgba(60, 64, 67, 0.3), 0px 1px 3px 1px rgba(60, 64, 67, 0.15);\n",
              "      fill: #174EA6;\n",
              "    }\n",
              "\n",
              "    [theme=dark] .colab-df-convert {\n",
              "      background-color: #3B4455;\n",
              "      fill: #D2E3FC;\n",
              "    }\n",
              "\n",
              "    [theme=dark] .colab-df-convert:hover {\n",
              "      background-color: #434B5C;\n",
              "      box-shadow: 0px 1px 3px 1px rgba(0, 0, 0, 0.15);\n",
              "      filter: drop-shadow(0px 1px 2px rgba(0, 0, 0, 0.3));\n",
              "      fill: #FFFFFF;\n",
              "    }\n",
              "  </style>\n",
              "\n",
              "      <script>\n",
              "        const buttonEl =\n",
              "          document.querySelector('#df-20f2b539-724f-434a-b396-e7e249850b4a button.colab-df-convert');\n",
              "        buttonEl.style.display =\n",
              "          google.colab.kernel.accessAllowed ? 'block' : 'none';\n",
              "\n",
              "        async function convertToInteractive(key) {\n",
              "          const element = document.querySelector('#df-20f2b539-724f-434a-b396-e7e249850b4a');\n",
              "          const dataTable =\n",
              "            await google.colab.kernel.invokeFunction('convertToInteractive',\n",
              "                                                     [key], {});\n",
              "          if (!dataTable) return;\n",
              "\n",
              "          const docLinkHtml = 'Like what you see? Visit the ' +\n",
              "            '<a target=\"_blank\" href=https://colab.research.google.com/notebooks/data_table.ipynb>data table notebook</a>'\n",
              "            + ' to learn more about interactive tables.';\n",
              "          element.innerHTML = '';\n",
              "          dataTable['output_type'] = 'display_data';\n",
              "          await google.colab.output.renderOutput(dataTable, element);\n",
              "          const docLink = document.createElement('div');\n",
              "          docLink.innerHTML = docLinkHtml;\n",
              "          element.appendChild(docLink);\n",
              "        }\n",
              "      </script>\n",
              "    </div>\n",
              "  </div>\n",
              "  "
            ]
          },
          "metadata": {},
          "execution_count": 6
        }
      ],
      "source": [
        "d2 = pd.read_csv(\"/content/urdutweets/urdutweets.csv\", encoding='utf-8', delimiter='\\t', skip_blank_lines=True)\n",
        "d2 = d2.filter(['cleanTweet', 'Polarity'])\n",
        "d2[\"Polarity\"].replace(['P', 'N', 'O'], [0, 1, 2], inplace=True) # formatting sentiment lablelling\n",
        "d2.rename(columns={\"cleanTweet\": \"Text\", \"Polarity\": \"Sentiment\"}, inplace=True) # renaming column to ensure same format of all datasets\n",
        "\n",
        "data[\"d2\"] = d2\n",
        "d2"
      ]
    },
    {
      "cell_type": "markdown",
      "metadata": {
        "id": "O4HGPEV3b6Xh"
      },
      "source": [
        "## 2.2 - Visualizing the data of Dataset 2"
      ]
    },
    {
      "cell_type": "code",
      "execution_count": null,
      "metadata": {
        "colab": {
          "base_uri": "https://localhost:8080/",
          "height": 314
        },
        "id": "myFn8-MetGyw",
        "outputId": "ec839758-0b57-4097-ffa9-5f982fe7e057"
      },
      "outputs": [
        {
          "output_type": "display_data",
          "data": {
            "text/plain": [
              "<Figure size 432x288 with 1 Axes>"
            ],
            "image/png": "[encoded data removed]"
          },
          "metadata": {
            "needs_background": "light"
          }
        },
        {
          "output_type": "stream",
          "name": "stdout",
          "text": [
            "Positive 1911, Negative 1410, Neutral 410\n"
          ]
        }
      ],
      "source": [
        "y = list(d2[\"Sentiment\"].value_counts()) # getting frequency of all the 2 sentiments\n",
        "plt.plot()\n",
        "plt.bar([\"Positive\", \"Negative\", \"Neutral\"], y) # plottign frequency against labels in a bar chart\n",
        "plt.xlabel(\"Sentiment POS/NEG/NEU\")\n",
        "plt.ylabel(\"Frequency\")\n",
        "plt.title(\"Sentiment frequency of all Urdu Datasets\")\n",
        "plt.show()\n",
        "\n",
        "print(\"Positive {}, Negative {}, Neutral {}\".format(y[0], y[1], y[2]))"
      ]
    },
    {
      "cell_type": "markdown",
      "metadata": {
        "id": "4Sn55OlAf_8D"
      },
      "source": [
        "## Merging the Datasets\n",
        "\n",
        "Creating a new pandas dataframe where all the datasets will be merged"
      ]
    },
    {
      "cell_type": "code",
      "execution_count": null,
      "metadata": {
        "colab": {
          "base_uri": "https://localhost:8080/",
          "height": 461
        },
        "id": "7WWCrPQ1gDsr",
        "outputId": "200c22e2-42c0-4ac8-e593-395722168258"
      },
      "outputs": [
        {
          "output_type": "stream",
          "name": "stdout",
          "text": [
            "Shape of d1 : (1000, 2)\n",
            "Shape of d2 : (3731, 2)\n"
          ]
        },
        {
          "output_type": "execute_result",
          "data": {
            "text/plain": [
              "                                                   Text  Sentiment\n",
              "0     میں نے ایٹم بم بنایا ھے ۔۔۔۔او بھائی ایٹم بمب ...        0.0\n",
              "1     چندے سے انقلاب اور عمران خان وزیر اعظم نہیں بن...        1.0\n",
              "2                              ٹویٹر کا خیال کیسے آیا ؟        2.0\n",
              "3     سرچ انجن گوگل کے نائب صدر نے فضا میں ، 130,000...        0.0\n",
              "4       ابھی تک اسکی لہریں کبھی کبھی آ جاتی ہیں یار :أْ        0.0\n",
              "...                                                 ...        ...\n",
              "4726  انا للہ وانا الیہ راجعون۔ اللہ آپکی والدہ جنت ...        2.0\n",
              "4727  بادام زیادہ کھا بیٹھا ہوں\\nکوئ بتاو فالتو عقل ...        1.0\n",
              "4728  کبھی کبھی خاموش رہنا پڑتا منظرِعام غائب ہونا پ...        1.0\n",
              "4729                      بادام ساتھ مجھے کھا جائیں گے🙄        1.0\n",
              "4730  جن لباس سرِ رہ سیاہی لکھی گئی\\nیہی داغ سجا سرِ...        1.0\n",
              "\n",
              "[4731 rows x 2 columns]"
            ],
            "text/html": [
              "\n",
              "  <div id=\"df-55e6c5bc-4534-46ed-a0fd-7f4bac602ac0\">\n",
              "    <div class=\"colab-df-container\">\n",
              "      <div>\n",
              "<style scoped>\n",
              "    .dataframe tbody tr th:only-of-type {\n",
              "        vertical-align: middle;\n",
              "    }\n",
              "\n",
              "    .dataframe tbody tr th {\n",
              "        vertical-align: top;\n",
              "    }\n",
              "\n",
              "    .dataframe thead th {\n",
              "        text-align: right;\n",
              "    }\n",
              "</style>\n",
              "<table border=\"1\" class=\"dataframe\">\n",
              "  <thead>\n",
              "    <tr style=\"text-align: right;\">\n",
              "      <th></th>\n",
              "      <th>Text</th>\n",
              "      <th>Sentiment</th>\n",
              "    </tr>\n",
              "  </thead>\n",
              "  <tbody>\n",
              "    <tr>\n",
              "      <th>0</th>\n",
              "      <td>میں نے ایٹم بم بنایا ھے ۔۔۔۔او بھائی ایٹم بمب ...</td>\n",
              "      <td>0.0</td>\n",
              "    </tr>\n",
              "    <tr>\n",
              "      <th>1</th>\n",
              "      <td>چندے سے انقلاب اور عمران خان وزیر اعظم نہیں بن...</td>\n",
              "      <td>1.0</td>\n",
              "    </tr>\n",
              "    <tr>\n",
              "      <th>2</th>\n",
              "      <td>ٹویٹر کا خیال کیسے آیا ؟</td>\n",
              "      <td>2.0</td>\n",
              "    </tr>\n",
              "    <tr>\n",
              "      <th>3</th>\n",
              "      <td>سرچ انجن گوگل کے نائب صدر نے فضا میں ، 130,000...</td>\n",
              "      <td>0.0</td>\n",
              "    </tr>\n",
              "    <tr>\n",
              "      <th>4</th>\n",
              "      <td>ابھی تک اسکی لہریں کبھی کبھی آ جاتی ہیں یار :أْ</td>\n",
              "      <td>0.0</td>\n",
              "    </tr>\n",
              "    <tr>\n",
              "      <th>...</th>\n",
              "      <td>...</td>\n",
              "      <td>...</td>\n",
              "    </tr>\n",
              "    <tr>\n",
              "      <th>4726</th>\n",
              "      <td>انا للہ وانا الیہ راجعون۔ اللہ آپکی والدہ جنت ...</td>\n",
              "      <td>2.0</td>\n",
              "    </tr>\n",
              "    <tr>\n",
              "      <th>4727</th>\n",
              "      <td>بادام زیادہ کھا بیٹھا ہوں\\nکوئ بتاو فالتو عقل ...</td>\n",
              "      <td>1.0</td>\n",
              "    </tr>\n",
              "    <tr>\n",
              "      <th>4728</th>\n",
              "      <td>کبھی کبھی خاموش رہنا پڑتا منظرِعام غائب ہونا پ...</td>\n",
              "      <td>1.0</td>\n",
              "    </tr>\n",
              "    <tr>\n",
              "      <th>4729</th>\n",
              "      <td>بادام ساتھ مجھے کھا جائیں گے🙄</td>\n",
              "      <td>1.0</td>\n",
              "    </tr>\n",
              "    <tr>\n",
              "      <th>4730</th>\n",
              "      <td>جن لباس سرِ رہ سیاہی لکھی گئی\\nیہی داغ سجا سرِ...</td>\n",
              "      <td>1.0</td>\n",
              "    </tr>\n",
              "  </tbody>\n",
              "</table>\n",
              "<p>4731 rows × 2 columns</p>\n",
              "</div>\n",
              "      <button class=\"colab-df-convert\" onclick=\"convertToInteractive('df-55e6c5bc-4534-46ed-a0fd-7f4bac602ac0')\"\n",
              "              title=\"Convert this dataframe to an interactive table.\"\n",
              "              style=\"display:none;\">\n",
              "        \n",
              "  <svg xmlns=\"http://www.w3.org/2000/svg\" height=\"24px\"viewBox=\"0 0 24 24\"\n",
              "       width=\"24px\">\n",
              "    <path d=\"M0 0h24v24H0V0z\" fill=\"none\"/>\n",
              "    <path d=\"M18.56 5.44l.94 2.06.94-2.06 2.06-.94-2.06-.94-.94-2.06-.94 2.06-2.06.94zm-11 1L8.5 8.5l.94-2.06 2.06-.94-2.06-.94L8.5 2.5l-.94 2.06-2.06.94zm10 10l.94 2.06.94-2.06 2.06-.94-2.06-.94-.94-2.06-.94 2.06-2.06.94z\"/><path d=\"M17.41 7.96l-1.37-1.37c-.4-.4-.92-.59-1.43-.59-.52 0-1.04.2-1.43.59L10.3 9.45l-7.72 7.72c-.78.78-.78 2.05 0 2.83L4 21.41c.39.39.9.59 1.41.59.51 0 1.02-.2 1.41-.59l7.78-7.78 2.81-2.81c.8-.78.8-2.07 0-2.86zM5.41 20L4 18.59l7.72-7.72 1.47 1.35L5.41 20z\"/>\n",
              "  </svg>\n",
              "      </button>\n",
              "      \n",
              "  <style>\n",
              "    .colab-df-container {\n",
              "      display:flex;\n",
              "      flex-wrap:wrap;\n",
              "      gap: 12px;\n",
              "    }\n",
              "\n",
              "    .colab-df-convert {\n",
              "      background-color: #E8F0FE;\n",
              "      border: none;\n",
              "      border-radius: 50%;\n",
              "      cursor: pointer;\n",
              "      display: none;\n",
              "      fill: #1967D2;\n",
              "      height: 32px;\n",
              "      padding: 0 0 0 0;\n",
              "      width: 32px;\n",
              "    }\n",
              "\n",
              "    .colab-df-convert:hover {\n",
              "      background-color: #E2EBFA;\n",
              "      box-shadow: 0px 1px 2px rgba(60, 64, 67, 0.3), 0px 1px 3px 1px rgba(60, 64, 67, 0.15);\n",
              "      fill: #174EA6;\n",
              "    }\n",
              "\n",
              "    [theme=dark] .colab-df-convert {\n",
              "      background-color: #3B4455;\n",
              "      fill: #D2E3FC;\n",
              "    }\n",
              "\n",
              "    [theme=dark] .colab-df-convert:hover {\n",
              "      background-color: #434B5C;\n",
              "      box-shadow: 0px 1px 3px 1px rgba(0, 0, 0, 0.15);\n",
              "      filter: drop-shadow(0px 1px 2px rgba(0, 0, 0, 0.3));\n",
              "      fill: #FFFFFF;\n",
              "    }\n",
              "  </style>\n",
              "\n",
              "      <script>\n",
              "        const buttonEl =\n",
              "          document.querySelector('#df-55e6c5bc-4534-46ed-a0fd-7f4bac602ac0 button.colab-df-convert');\n",
              "        buttonEl.style.display =\n",
              "          google.colab.kernel.accessAllowed ? 'block' : 'none';\n",
              "\n",
              "        async function convertToInteractive(key) {\n",
              "          const element = document.querySelector('#df-55e6c5bc-4534-46ed-a0fd-7f4bac602ac0');\n",
              "          const dataTable =\n",
              "            await google.colab.kernel.invokeFunction('convertToInteractive',\n",
              "                                                     [key], {});\n",
              "          if (!dataTable) return;\n",
              "\n",
              "          const docLinkHtml = 'Like what you see? Visit the ' +\n",
              "            '<a target=\"_blank\" href=https://colab.research.google.com/notebooks/data_table.ipynb>data table notebook</a>'\n",
              "            + ' to learn more about interactive tables.';\n",
              "          element.innerHTML = '';\n",
              "          dataTable['output_type'] = 'display_data';\n",
              "          await google.colab.output.renderOutput(dataTable, element);\n",
              "          const docLink = document.createElement('div');\n",
              "          docLink.innerHTML = docLinkHtml;\n",
              "          element.appendChild(docLink);\n",
              "        }\n",
              "      </script>\n",
              "    </div>\n",
              "  </div>\n",
              "  "
            ]
          },
          "metadata": {},
          "execution_count": 8
        }
      ],
      "source": [
        "# print(data.keys())\n",
        "# maindata = pd.DataFrame(columns=[\"Text\", \"Sentiment\"]) # making a new dataframe where we will merge all the formatted dataframes\n",
        "\n",
        "rows = 0\n",
        "for i in data.keys(): # accessing the formatted dataframes that were stored in dictionaries\n",
        "    print(\"Shape of\", i, \":\", data[i].shape)\n",
        "    df = data[i] \n",
        "    rows += data[i].shape[0]\n",
        "    # maindata = maindata.append(df) # adding the single dataset dataframe to the main dataframe\n",
        "\n",
        "maindata = pd.concat([d1, d2], ignore_index=True)\n",
        "maindata"
      ]
    },
    {
      "cell_type": "markdown",
      "metadata": {
        "id": "Nyc2NNFWgMC9"
      },
      "source": [
        "Removing irregularities like invalid, empty or NaN entries from dataset"
      ]
    },
    {
      "cell_type": "code",
      "execution_count": null,
      "metadata": {
        "colab": {
          "base_uri": "https://localhost:8080/"
        },
        "id": "dhdpEoAmgMgL",
        "outputId": "1c18deb3-a12f-47ba-cf41-b0cf934b5cd8"
      },
      "outputs": [
        {
          "output_type": "stream",
          "name": "stdout",
          "text": [
            "Initial shape (4731, 2)\n",
            "Final shape (4062, 2)\n"
          ]
        }
      ],
      "source": [
        "print(\"Initial shape\", maindata.shape)\n",
        "\n",
        "maindata.drop_duplicates(keep=\"first\", inplace=True)\n",
        "maindata[\"Text\"] = maindata.Text.str.strip()\n",
        "maindata = maindata[maindata[\"Text\"] != \" \"]\n",
        "maindata = maindata[maindata[\"Text\"] != \"\"]\n",
        "maindata = maindata[maindata[\"Sentiment\"] != \" \"]\n",
        "maindata = maindata[maindata[\"Sentiment\"] != \"\"]\n",
        "maindata[\"Sentiment\"] = pd.to_numeric(maindata[\"Sentiment\"]) # making sure that the sentiment tagging is in numbers (0 for pos, 1 for neg, 2 for neut)\n",
        "maindata = maindata.dropna() # drop all entries with nan values\n",
        "maindata.reset_index(drop=True, inplace=True)\n",
        "print(\"Final shape\", maindata.shape)"
      ]
    },
    {
      "cell_type": "code",
      "execution_count": null,
      "metadata": {
        "id": "ohyRwon-glHG"
      },
      "outputs": [],
      "source": [
        "maindata.to_csv(\"MergedDataset.csv\") # convert the dataframe to a csv file and not adding the indexes"
      ]
    },
    {
      "cell_type": "code",
      "execution_count": null,
      "metadata": {
        "colab": {
          "base_uri": "https://localhost:8080/",
          "height": 314
        },
        "id": "_DIj7FtVgpKN",
        "outputId": "2ea9a8d5-6aaf-4d44-cdec-1714d1747fac"
      },
      "outputs": [
        {
          "output_type": "display_data",
          "data": {
            "text/plain": [
              "<Figure size 432x288 with 1 Axes>"
            ],
            "image/png": "[encoded data removed]"
          },
          "metadata": {
            "needs_background": "light"
          }
        },
        {
          "output_type": "stream",
          "name": "stdout",
          "text": [
            "Positive 2093, Negative 1157, Neutral 812\n"
          ]
        }
      ],
      "source": [
        "y = list(maindata[\"Sentiment\"].value_counts()) # getting frequency of all the 2 sentiments\n",
        "plt.plot()\n",
        "plt.bar([\"Positive\", \"Negative\", \"Neutral\"], y) # plottign frequency against labels in a bar chart\n",
        "plt.xlabel(\"Sentiment POS/NEG/Neutral\")\n",
        "plt.ylabel(\"Frequency\")\n",
        "plt.title(\"Sentiment frequency of all Urdu Datasets\")\n",
        "plt.show()\n",
        "\n",
        "print(\"Positive {}, Negative {}, Neutral {}\".format(y[0], y[1], y[2]))"
      ]
    },
    {
      "cell_type": "code",
      "execution_count": null,
      "metadata": {
        "colab": {
          "base_uri": "https://localhost:8080/"
        },
        "id": "miP_v04agzYK",
        "outputId": "d4092a81-7029-48df-96aa-4e4e0cf6fe7b"
      },
      "outputs": [
        {
          "output_type": "stream",
          "name": "stdout",
          "text": [
            "Total instances: (4062, 2)\n"
          ]
        }
      ],
      "source": [
        "print(\"Total instances:\", maindata.shape)"
      ]
    },
    {
      "cell_type": "markdown",
      "metadata": {
        "id": "msLXbMrWmjUO"
      },
      "source": [
        "## Downloading the merged dataset to local computer & uploading on Google Drive"
      ]
    },
    {
      "cell_type": "code",
      "execution_count": null,
      "metadata": {
        "colab": {
          "base_uri": "https://localhost:8080/",
          "height": 17
        },
        "id": "ixufrZJrg0-O",
        "outputId": "6465ed57-5bb1-4101-f28f-2d3995609dec"
      },
      "outputs": [
        {
          "output_type": "display_data",
          "data": {
            "text/plain": [
              "<IPython.core.display.Javascript object>"
            ],
            "application/javascript": [
              "\n",
              "    async function download(id, filename, size) {\n",
              "      if (!google.colab.kernel.accessAllowed) {\n",
              "        return;\n",
              "      }\n",
              "      const div = document.createElement('div');\n",
              "      const label = document.createElement('label');\n",
              "      label.textContent = `Downloading \"${filename}\": `;\n",
              "      div.appendChild(label);\n",
              "      const progress = document.createElement('progress');\n",
              "      progress.max = size;\n",
              "      div.appendChild(progress);\n",
              "      document.body.appendChild(div);\n",
              "\n",
              "      const buffers = [];\n",
              "      let downloaded = 0;\n",
              "\n",
              "      const channel = await google.colab.kernel.comms.open(id);\n",
              "      // Send a message to notify the kernel that we're ready.\n",
              "      channel.send({})\n",
              "\n",
              "      for await (const message of channel.messages) {\n",
              "        // Send a message to notify the kernel that we're ready.\n",
              "        channel.send({})\n",
              "        if (message.buffers) {\n",
              "          for (const buffer of message.buffers) {\n",
              "            buffers.push(buffer);\n",
              "            downloaded += buffer.byteLength;\n",
              "            progress.value = downloaded;\n",
              "          }\n",
              "        }\n",
              "      }\n",
              "      const blob = new Blob(buffers, {type: 'application/binary'});\n",
              "      const a = document.createElement('a');\n",
              "      a.href = window.URL.createObjectURL(blob);\n",
              "      a.download = filename;\n",
              "      div.appendChild(a);\n",
              "      a.click();\n",
              "      div.remove();\n",
              "    }\n",
              "  "
            ]
          },
          "metadata": {}
        },
        {
          "output_type": "display_data",
          "data": {
            "text/plain": [
              "<IPython.core.display.Javascript object>"
            ],
            "application/javascript": [
              "download(\"download_6a57849a-c55d-40ca-b092-fd2ef96b9661\", \"MergedDataset.csv\", 545380)"
            ]
          },
          "metadata": {}
        }
      ],
      "source": [
        "files.download(\"/content/MergedDataset.csv\") # dowload the final merged dataset "
      ]
    },
    {
      "cell_type": "code",
      "execution_count": null,
      "metadata": {
        "colab": {
          "base_uri": "https://localhost:8080/"
        },
        "id": "pkc5dclZmqUW",
        "outputId": "d867a620-68ba-4bbc-d076-bb64549f38d1"
      },
      "outputs": [
        {
          "output_type": "stream",
          "name": "stdout",
          "text": [
            "Mounted at /content/gdrive\n"
          ]
        }
      ],
      "source": [
        "# mount google drive\n",
        "drive.mount('/content/gdrive')"
      ]
    },
    {
      "cell_type": "code",
      "execution_count": null,
      "metadata": {
        "colab": {
          "base_uri": "https://localhost:8080/"
        },
        "id": "raRjT9c5mraJ",
        "outputId": "4992bd5a-5982-4488-d321-9d7732c53429"
      },
      "outputs": [
        {
          "output_type": "stream",
          "name": "stdout",
          "text": [
            "cp: cannot create regular file 'gdrive/MyDrive/MergedDataset/': Not a directory\n"
          ]
        }
      ],
      "source": [
        "!cp MergedDataset.csv gdrive/MyDrive/MergedDataset/"
      ]
    },
    {
      "cell_type": "markdown",
      "metadata": {
        "id": "uahpo58mdLhf"
      },
      "source": [
        "Downloading tranformers"
      ]
    },
    {
      "cell_type": "code",
      "execution_count": null,
      "metadata": {
        "id": "yWBFzl3jdK2P"
      },
      "outputs": [],
      "source": [
        ""
      ]
    },
    {
      "cell_type": "code",
      "execution_count": null,
      "metadata": {
        "colab": {
          "base_uri": "https://localhost:8080/"
        },
        "id": "3Y8rnUFv1JDp",
        "outputId": "a5363e09-231e-4909-826e-16aad29b13ec"
      },
      "outputs": [
        {
          "output_type": "stream",
          "name": "stdout",
          "text": [
            "Looking in indexes: https://pypi.org/simple, https://us-python.pkg.dev/colab-wheels/public/simple/\n",
            "Collecting transformers\n",
            "  Downloading transformers-4.21.0-py3-none-any.whl (4.7 MB)\n",
            "\u001b[K     |████████████████████████████████| 4.7 MB 5.1 MB/s \n",
            "\u001b[?25hCollecting tokenizers!=0.11.3,<0.13,>=0.11.1\n",
            "  Downloading tokenizers-0.12.1-cp37-cp37m-manylinux_2_12_x86_64.manylinux2010_x86_64.whl (6.6 MB)\n",
            "\u001b[K     |████████████████████████████████| 6.6 MB 53.5 MB/s \n",
            "\u001b[?25hRequirement already satisfied: regex!=2019.12.17 in /usr/local/lib/python3.7/dist-packages (from transformers) (2022.6.2)\n",
            "Requirement already satisfied: numpy>=1.17 in /usr/local/lib/python3.7/dist-packages (from transformers) (1.21.6)\n",
            "Collecting pyyaml>=5.1\n",
            "  Downloading PyYAML-6.0-cp37-cp37m-manylinux_2_5_x86_64.manylinux1_x86_64.manylinux_2_12_x86_64.manylinux2010_x86_64.whl (596 kB)\n",
            "\u001b[K     |████████████████████████████████| 596 kB 59.7 MB/s \n",
            "\u001b[?25hRequirement already satisfied: importlib-metadata in /usr/local/lib/python3.7/dist-packages (from transformers) (4.12.0)\n",
            "Requirement already satisfied: packaging>=20.0 in /usr/local/lib/python3.7/dist-packages (from transformers) (21.3)\n",
            "Requirement already satisfied: filelock in /usr/local/lib/python3.7/dist-packages (from transformers) (3.7.1)\n",
            "Requirement already satisfied: requests in /usr/local/lib/python3.7/dist-packages (from transformers) (2.23.0)\n",
            "Requirement already satisfied: tqdm>=4.27 in /usr/local/lib/python3.7/dist-packages (from transformers) (4.64.0)\n",
            "Collecting huggingface-hub<1.0,>=0.1.0\n",
            "  Downloading huggingface_hub-0.8.1-py3-none-any.whl (101 kB)\n",
            "\u001b[K     |████████████████████████████████| 101 kB 13.4 MB/s \n",
            "\u001b[?25hRequirement already satisfied: typing-extensions>=3.7.4.3 in /usr/local/lib/python3.7/dist-packages (from huggingface-hub<1.0,>=0.1.0->transformers) (4.1.1)\n",
            "Requirement already satisfied: pyparsing!=3.0.5,>=2.0.2 in /usr/local/lib/python3.7/dist-packages (from packaging>=20.0->transformers) (3.0.9)\n",
            "Requirement already satisfied: zipp>=0.5 in /usr/local/lib/python3.7/dist-packages (from importlib-metadata->transformers) (3.8.1)\n",
            "Requirement already satisfied: urllib3!=1.25.0,!=1.25.1,<1.26,>=1.21.1 in /usr/local/lib/python3.7/dist-packages (from requests->transformers) (1.24.3)\n",
            "Requirement already satisfied: certifi>=2017.4.17 in /usr/local/lib/python3.7/dist-packages (from requests->transformers) (2022.6.15)\n",
            "Requirement already satisfied: chardet<4,>=3.0.2 in /usr/local/lib/python3.7/dist-packages (from requests->transformers) (3.0.4)\n",
            "Requirement already satisfied: idna<3,>=2.5 in /usr/local/lib/python3.7/dist-packages (from requests->transformers) (2.10)\n",
            "Installing collected packages: pyyaml, tokenizers, huggingface-hub, transformers\n",
            "  Attempting uninstall: pyyaml\n",
            "    Found existing installation: PyYAML 3.13\n",
            "    Uninstalling PyYAML-3.13:\n",
            "      Successfully uninstalled PyYAML-3.13\n",
            "Successfully installed huggingface-hub-0.8.1 pyyaml-6.0 tokenizers-0.12.1 transformers-4.21.0\n",
            "Looking in indexes: https://pypi.org/simple, https://us-python.pkg.dev/colab-wheels/public/simple/\n",
            "Collecting sentencepiece\n",
            "  Downloading sentencepiece-0.1.96-cp37-cp37m-manylinux_2_17_x86_64.manylinux2014_x86_64.whl (1.2 MB)\n",
            "\u001b[K     |████████████████████████████████| 1.2 MB 5.1 MB/s \n",
            "\u001b[?25hInstalling collected packages: sentencepiece\n",
            "Successfully installed sentencepiece-0.1.96\n"
          ]
        }
      ],
      "source": [
        "#install transformes \n",
        "!pip install transformers\n",
        "!pip install sentencepiece"
      ]
    },
    {
      "cell_type": "markdown",
      "metadata": {
        "id": "cgSikTxhlErd"
      },
      "source": [
        "# Importing tokenizer"
      ]
    },
    {
      "cell_type": "code",
      "execution_count": null,
      "metadata": {
        "id": "Qegbn878IZg6",
        "colab": {
          "base_uri": "https://localhost:8080/",
          "height": 113,
          "referenced_widgets": [
            "afd1894e94a340e0a0c013178a65bee9",
            "af31d6c1bf124412b1a8ba6e06640cb9",
            "0696923a1f484bbb9a8ae9af4c532bf9",
            "5f69668140ef4efe9e80b8fad971f2ca",
            "ca9862a9890644628a2134d7c5c24ec6",
            "412bfea49f0c402cb38f3633f04fd364",
            "d48b23ecbd4f4ea69543a2389a7c867d",
            "325d7146b9e146f194294558c8bb54fb",
            "532f51b7142e4493b4e84a6ef2fd8212",
            "10e0573c52a04fd3b19b14f30786903b",
            "c4bf416a8e6d4f08b75565e6642946e8",
            "767929adcdd34bfb92b0e4f08ce11f1a",
            "2b98a7cf73b04c089ef8227fbf2354ce",
            "e3a0bd216d814ec8afd8a89eb6343b51",
            "9171c1aca3fa4061a6eae3dcf603f87e",
            "bf7d2dc6904947e581a384e1a99fb330",
            "3d1d84ef14244946bc6d6a8b6c3d7b3a",
            "ace52c151fbb4d13a9c90a917adbdf8e",
            "fa86ce834d9b472ca6a84d8939cc8c71",
            "2950b0eb97504395ae19bb57017d46ac",
            "d1fc6378d58f45bfb5c2d6b1f22269b8",
            "3c867d7a1cfd4324a894ef5f7f39920a",
            "f2672e198d624130b6908556a76fde70",
            "6533d08f858c477d98406de8da06fa32",
            "d628d9c2d7f142c6ae45839fa84303ee",
            "f89c67a2640c48f08074228491be8a5b",
            "2f65d32955fd422e819b3b0c6c5f4645",
            "d2accb613b6f4d39a6da311176bdb040",
            "bc89a8823680400ca399aeb0638b6ea1",
            "9cd6d822297742a3b03e5f966673bd48",
            "d568884880b949a7908cf954902ad163",
            "f7d454aaed814687b4f8e1628eba7d0f",
            "524bce02c3ec4ad99f1f7994d9d67d7f"
          ]
        },
        "outputId": "98713225-da2b-4816-8d41-fa4ff4894053"
      },
      "outputs": [
        {
          "output_type": "display_data",
          "data": {
            "text/plain": [
              "Downloading config.json:   0%|          | 0.00/615 [00:00<?, ?B/s]"
            ],
            "application/vnd.jupyter.widget-view+json": {
              "version_major": 2,
              "version_minor": 0,
              "model_id": "afd1894e94a340e0a0c013178a65bee9"
            }
          },
          "metadata": {}
        },
        {
          "output_type": "display_data",
          "data": {
            "text/plain": [
              "Downloading sentencepiece.bpe.model:   0%|          | 0.00/4.83M [00:00<?, ?B/s]"
            ],
            "application/vnd.jupyter.widget-view+json": {
              "version_major": 2,
              "version_minor": 0,
              "model_id": "767929adcdd34bfb92b0e4f08ce11f1a"
            }
          },
          "metadata": {}
        },
        {
          "output_type": "display_data",
          "data": {
            "text/plain": [
              "Downloading tokenizer.json:   0%|          | 0.00/8.68M [00:00<?, ?B/s]"
            ],
            "application/vnd.jupyter.widget-view+json": {
              "version_major": 2,
              "version_minor": 0,
              "model_id": "f2672e198d624130b6908556a76fde70"
            }
          },
          "metadata": {}
        }
      ],
      "source": [
        "import torch\n",
        "from transformers import AutoTokenizer\n",
        "# Download the tokenizer for the XLM-Robert `base` model.\n",
        "xlmr_tokenizer = AutoTokenizer.from_pretrained(\"xlm-roberta-base\")"
      ]
    },
    {
      "cell_type": "markdown",
      "metadata": {
        "id": "LzHVX2N3lL2A"
      },
      "source": [
        "**This cell will print one sample sentence from our data frame and how xmlr roberta convert it into tokens**"
      ]
    },
    {
      "cell_type": "code",
      "execution_count": null,
      "metadata": {
        "colab": {
          "base_uri": "https://localhost:8080/"
        },
        "id": "eSTxma2cdUxz",
        "outputId": "fb9ebcb1-0228-4935-9f0e-6f417d7eb52c"
      },
      "outputs": [
        {
          "output_type": "stream",
          "name": "stdout",
          "text": [
            "sample text =  چندے سے انقلاب اور عمران خان وزیر اعظم نہیں بن سکتے\n",
            "XLMR Roberta covert sample text into following tokens \n",
            "  ['▁چند', 'ے', '▁سے', '▁انقلاب', '▁اور', '▁عمران', '▁خان', '▁وزیر', '▁اعظم', '▁نہیں', '▁بن', '▁سکتے']\n"
          ]
        }
      ],
      "source": [
        "#xlmr_tokenizer creates tokens based on subword\n",
        "print(\"sample text = \"  ,maindata.Text[1])\n",
        "tokens = xlmr_tokenizer.tokenize(maindata.Text[1])\n",
        "print(\"XLMR Roberta covert sample text into following tokens \\n \",tokens)"
      ]
    },
    {
      "cell_type": "code",
      "execution_count": null,
      "metadata": {
        "colab": {
          "base_uri": "https://localhost:8080/"
        },
        "id": "3pXVG56Kf_eU",
        "outputId": "d94bb731-b7c5-4a0a-ba7d-a386fb6151c7"
      },
      "outputs": [
        {
          "output_type": "stream",
          "name": "stdout",
          "text": [
            "چندے سے انقلاب اور عمران خان وزیر اعظم نہیں بن سکتے\n",
            "ٹویٹر کا خیال کیسے آیا ؟\n",
            "سرچ انجن گوگل کے نائب صدر نے فضا میں ، 130,000 فٹ کی بلندی پر چھلانگ لگا کر عالمی ریکارڈ قائم کرلیا۔ چھلانگ کی۔۔۔\n"
          ]
        }
      ],
      "source": [
        "#some samples from data frame\n",
        "print(maindata.Text[1])\n",
        "print(maindata.Text[2])\n",
        "print(maindata.Text[3])"
      ]
    },
    {
      "cell_type": "code",
      "execution_count": null,
      "metadata": {
        "colab": {
          "base_uri": "https://localhost:8080/"
        },
        "id": "Rrc7ERkaimKA",
        "outputId": "e84dfad0-39b0-40dc-cc9a-aa0be78bd2cd"
      },
      "outputs": [
        {
          "output_type": "execute_result",
          "data": {
            "text/plain": [
              "0       0.0\n",
              "1       1.0\n",
              "2       2.0\n",
              "3       0.0\n",
              "4       0.0\n",
              "       ... \n",
              "4057    2.0\n",
              "4058    1.0\n",
              "4059    1.0\n",
              "4060    1.0\n",
              "4061    1.0\n",
              "Name: Sentiment, Length: 4062, dtype: float64"
            ]
          },
          "metadata": {},
          "execution_count": 20
        }
      ],
      "source": [
        "#checking the sentiment values \n",
        "#lateron we will convert them into categorie i.e, integers\n",
        "maindata['Sentiment']"
      ]
    },
    {
      "cell_type": "code",
      "execution_count": null,
      "metadata": {
        "colab": {
          "base_uri": "https://localhost:8080/"
        },
        "id": "VmWra5Z4iU7U",
        "outputId": "c845787c-cbd2-4367-c52d-d25b1edce957"
      },
      "outputs": [
        {
          "output_type": "stream",
          "name": "stdout",
          "text": [
            "0.0\n",
            "1.0\n",
            "2.0\n"
          ]
        }
      ],
      "source": [
        "#accessing the sentiments for first few samples \n",
        "print(maindata.at[0,'Sentiment'])\n",
        "print(maindata.at[1,'Sentiment'])\n",
        "print(maindata.at[2,'Sentiment'])\n",
        "\n"
      ]
    },
    {
      "cell_type": "markdown",
      "metadata": {
        "id": "I06NoDbQrgnY"
      },
      "source": [
        "#encoding our samples from dataframe into the format that XMLR_Robaerta Expects"
      ]
    },
    {
      "cell_type": "code",
      "execution_count": null,
      "metadata": {
        "colab": {
          "base_uri": "https://localhost:8080/"
        },
        "id": "qxY8JAaPKoO6",
        "outputId": "2757ba11-fb35-4811-8feb-322ba6172716"
      },
      "outputs": [
        {
          "output_type": "stream",
          "name": "stdout",
          "text": [
            "Input Ids  =  [0, 317, 778, 225024, 7795, 68251, 6, 59668, 6, 161442, 26317, 68210, 225024, 169580, 554, 6356, 71476, 2001, 368, 15472, 20477, 210548, 317, 1923, 117188, 85243, 258, 38884, 376, 7795, 924, 46310, 907, 288, 225024, 140, 31216, 2, 1, 1, 1, 1, 1, 1, 1, 1, 1, 1, 1, 1]\n",
            "\n",
            " Text =  ['<s>', '▁میں', '▁نے', '▁ایٹم', '▁بم', '▁بنایا', '▁', 'ھے', '▁', '۔۔۔۔', 'او', '▁بھائی', '▁ایٹم', '▁بمب', '▁کو', 'ٹ', '▁لکھ', 'پ', 'ت', '▁والی', '▁اتفاق', '▁فیکٹری', '▁میں', '▁نہیں', '▁بنت', 'ا۔', 'ا', 'یٹ', 'م', '▁بم', '▁کہ', 'وٹ', 'ہ', '▁کی', '▁ایٹم', 'ی', '۔۔۔', '</s>', '<pad>', '<pad>', '<pad>', '<pad>', '<pad>', '<pad>', '<pad>', '<pad>', '<pad>', '<pad>', '<pad>', '<pad>']\n"
          ]
        }
      ],
      "source": [
        "# these lines of codes for the demonstration purpose only\n",
        "#These lines shows how we can convert a text from our dataset into the format that XMLR- expect\n",
        "for ind in maindata.index:\n",
        "    text = maindata.Text[0]\n",
        "    encoded_dict = xlmr_tokenizer.encode_plus(text,max_length = 50,\n",
        "                                       padding='max_length',\n",
        "                                       truncation=True\n",
        "                                      )\n",
        "    break\n",
        "print(\"Input Ids  = \",encoded_dict['input_ids'])    \n",
        "print(\"\\n Text = \",xlmr_tokenizer.convert_ids_to_tokens(encoded_dict['input_ids']))"
      ]
    },
    {
      "cell_type": "markdown",
      "metadata": {
        "id": "-rcQ2yJVu4Fk"
      },
      "source": [
        "# ***The hyperparameters are max_length= try different values for it***\n",
        "the below cell will convert all of the text data in the dataframe into the format xmlr-roberta expect"
      ]
    },
    {
      "cell_type": "code",
      "execution_count": null,
      "metadata": {
        "id": "DS60zMcuiP6U",
        "colab": {
          "base_uri": "https://localhost:8080/"
        },
        "outputId": "fda1958d-6ac2-4bd7-d089-89e239dec38f"
      },
      "outputs": [
        {
          "output_type": "stream",
          "name": "stdout",
          "text": [
            "Encoding all Examples in the dataset \n",
            "\n"
          ]
        }
      ],
      "source": [
        "import torch\n",
        "labels_ur = []\n",
        "input_ids_ur = []\n",
        "attn_masks_ur= []\n",
        "\n",
        "print(\"Encoding all Examples in the dataset \\n\" )\n",
        "\n",
        "for ind in maindata.index:\n",
        "  text = maindata.Text[ind]\n",
        "  #convert sentence pairs to input ids, with attention masks\n",
        "  \n",
        "  encoded_dict = xlmr_tokenizer.encode_plus(text,max_length = 60,  \n",
        "                                       padding='max_length',\n",
        "                                       truncation=True,\n",
        "                                       return_tensors = 'pt')\n",
        "                                      \n",
        "  \n",
        "\n",
        "  \n",
        "  input_ids_ur.append(encoded_dict['input_ids'])\n",
        "  attn_masks_ur.append(encoded_dict['attention_mask'])\n",
        "  #print(ex['label'].numpy)\n",
        "  #we are converting the data into labels\n",
        "  labels_ur.append(maindata.at[ind,'Sentiment'].astype(np.int64))\n",
        "  \n",
        "  #convert each python list of tensor to 2D tensor Matrix\n",
        "input_ids_ur = torch.cat(input_ids_ur,dim=0)\n",
        "attn_masks_ur = torch.cat(attn_masks_ur,dim=0)\n",
        "\n",
        "#cast the labels into tensors\n",
        "labels_ur = torch.tensor(labels_ur)\n",
        "#print(len(labels_ur))"
      ]
    },
    {
      "cell_type": "code",
      "execution_count": null,
      "metadata": {
        "id": "2zczzW1w4E8J",
        "colab": {
          "base_uri": "https://localhost:8080/"
        },
        "outputId": "02799eec-4557-448a-cea9-d3fed08eb487"
      },
      "outputs": [
        {
          "output_type": "execute_result",
          "data": {
            "text/plain": [
              "torch.Size([4062])"
            ]
          },
          "metadata": {},
          "execution_count": 24
        }
      ],
      "source": [
        "# after conversion the no of data points in the input matrix\n",
        "labels_ur.shape"
      ]
    },
    {
      "cell_type": "markdown",
      "metadata": {
        "id": "Esg_IOmgwqE9"
      },
      "source": [
        "#Train -Validation Split#\n",
        "Split 10% of our training exmples for validation"
      ]
    },
    {
      "cell_type": "code",
      "execution_count": null,
      "metadata": {
        "id": "6vv9CQCZ9qs3"
      },
      "outputs": [],
      "source": [
        "from torch.utils.data import TensorDataset, random_split\n",
        "\n",
        "#combine the trainign inputs to tensorDatasets\n",
        "dataset = TensorDataset(input_ids_ur,attn_masks_ur, labels_ur)\n",
        "\n",
        " #create a 90-10 train validation split\n",
        "train_size = int(0.9*(len(dataset)))\n",
        "val_size = len(dataset) - train_size\n",
        "\n",
        "train_dataset, val_dataset = random_split(dataset,[train_size, val_size])"
      ]
    },
    {
      "cell_type": "markdown",
      "metadata": {
        "id": "Gimf0ZCkwwxj"
      },
      "source": [
        "# set batch size of DataLoadr\n",
        "The pytorch dataloader will takes care of the randomly grouping our trainng data into batches:\n",
        "</br>***also try different batches sizes ***"
      ]
    },
    {
      "cell_type": "code",
      "execution_count": null,
      "metadata": {
        "id": "Fa1kKjKx_wUF"
      },
      "outputs": [],
      "source": [
        "from torch.utils.data import DataLoader, RandomSampler,SequentialSampler\n",
        "\n",
        "batch_size=16\n",
        "\n",
        "train_dataloader = DataLoader(train_dataset,\n",
        "                          sampler=RandomSampler(train_dataset),\n",
        "                          batch_size = batch_size)\n",
        "\n",
        "\n",
        "validation_dataloader = DataLoader(val_dataset,\n",
        "                          sampler=RandomSampler(val_dataset),\n",
        "                          batch_size = batch_size)"
      ]
    },
    {
      "cell_type": "code",
      "execution_count": null,
      "metadata": {
        "id": "waCMJOZmAFRi",
        "colab": {
          "base_uri": "https://localhost:8080/"
        },
        "outputId": "e4c3e711-8d04-4965-9a81-6a8b31dce3fa"
      },
      "outputs": [
        {
          "output_type": "stream",
          "name": "stdout",
          "text": [
            "torch.Size([16, 60])\n",
            "torch.Size([16, 60])\n",
            "tensor([1, 1, 2, 2, 1, 2, 2, 2, 2, 0, 2, 2, 1, 0, 1, 1])\n"
          ]
        }
      ],
      "source": [
        "#checking The dataloader for few examples\n",
        "for step, batch in enumerate(train_dataloader):\n",
        "  print(batch[0].shape)\n",
        "  print( batch[1].shape)\n",
        "  print(batch[2])\n",
        "  break"
      ]
    },
    {
      "cell_type": "markdown",
      "metadata": {
        "id": "z99zf-IGxQ13"
      },
      "source": [
        "# Load Pre-Trained Model"
      ]
    },
    {
      "cell_type": "code",
      "execution_count": null,
      "metadata": {
        "id": "Y_nm52UtAKu1",
        "colab": {
          "base_uri": "https://localhost:8080/",
          "height": 401,
          "referenced_widgets": [
            "b8a9f8101c5b4655adbd6393ad433d1d",
            "b131263099d749c5b9a257a9ea07d22d",
            "49b411d1bcea4a0c86eb4b7642acddc8",
            "8c190b9e0e6649e386124f5c3c7a055d",
            "fb982fe1516a427987b15f1f842c4e1a",
            "c69023dc9e2b4a0d99bc9cca50b2a3ce",
            "7a0b7405023a4b0a9f11c3c739f933e4",
            "3cfa600aaa6346a7a6218b44cb5cbf51",
            "71df6bd6c59b459ebff2a8db001bb8f0",
            "a99b1a9840534af6a7b92e9c051eccc6",
            "4d8c14d648a84830900f8f207b76a0a6"
          ]
        },
        "outputId": "06984aec-6710-4c4b-e5f5-ae0d0d7de065"
      },
      "outputs": [
        {
          "output_type": "display_data",
          "data": {
            "text/plain": [
              "Downloading pytorch_model.bin:   0%|          | 0.00/1.04G [00:00<?, ?B/s]"
            ],
            "application/vnd.jupyter.widget-view+json": {
              "version_major": 2,
              "version_minor": 0,
              "model_id": "b8a9f8101c5b4655adbd6393ad433d1d"
            }
          },
          "metadata": {}
        },
        {
          "output_type": "error",
          "ename": "KeyboardInterrupt",
          "evalue": "ignored",
          "traceback": [
            "\u001b[0;31m---------------------------------------------------------------------------\u001b[0m",
            "\u001b[0;31mKeyboardInterrupt\u001b[0m                         Traceback (most recent call last)",
            "\u001b[0;32m<ipython-input-28-74a799be2183>\u001b[0m in \u001b[0;36m<module>\u001b[0;34m()\u001b[0m\n\u001b[1;32m      1\u001b[0m \u001b[0;32mfrom\u001b[0m \u001b[0mtransformers\u001b[0m \u001b[0;32mimport\u001b[0m \u001b[0mXLMRobertaForSequenceClassification\u001b[0m\u001b[0;34m\u001b[0m\u001b[0;34m\u001b[0m\u001b[0m\n\u001b[1;32m      2\u001b[0m \u001b[0;32mimport\u001b[0m \u001b[0mtorch\u001b[0m\u001b[0;34m\u001b[0m\u001b[0;34m\u001b[0m\u001b[0m\n\u001b[0;32m----> 3\u001b[0;31m \u001b[0mxlmr_model\u001b[0m \u001b[0;34m=\u001b[0m \u001b[0mXLMRobertaForSequenceClassification\u001b[0m\u001b[0;34m.\u001b[0m\u001b[0mfrom_pretrained\u001b[0m\u001b[0;34m(\u001b[0m\u001b[0;34m\"xlm-roberta-base\"\u001b[0m\u001b[0;34m,\u001b[0m\u001b[0mnum_labels\u001b[0m\u001b[0;34m=\u001b[0m\u001b[0;36m3\u001b[0m\u001b[0;34m)\u001b[0m\u001b[0;34m\u001b[0m\u001b[0;34m\u001b[0m\u001b[0m\n\u001b[0m",
            "\u001b[0;32m/usr/local/lib/python3.7/dist-packages/transformers/modeling_utils.py\u001b[0m in \u001b[0;36mfrom_pretrained\u001b[0;34m(cls, pretrained_model_name_or_path, *model_args, **kwargs)\u001b[0m\n\u001b[1;32m   1939\u001b[0m                     \u001b[0mlocal_files_only\u001b[0m\u001b[0;34m=\u001b[0m\u001b[0mlocal_files_only\u001b[0m\u001b[0;34m,\u001b[0m\u001b[0;34m\u001b[0m\u001b[0;34m\u001b[0m\u001b[0m\n\u001b[1;32m   1940\u001b[0m                     \u001b[0muse_auth_token\u001b[0m\u001b[0;34m=\u001b[0m\u001b[0muse_auth_token\u001b[0m\u001b[0;34m,\u001b[0m\u001b[0;34m\u001b[0m\u001b[0;34m\u001b[0m\u001b[0m\n\u001b[0;32m-> 1941\u001b[0;31m                     \u001b[0muser_agent\u001b[0m\u001b[0;34m=\u001b[0m\u001b[0muser_agent\u001b[0m\u001b[0;34m,\u001b[0m\u001b[0;34m\u001b[0m\u001b[0;34m\u001b[0m\u001b[0m\n\u001b[0m\u001b[1;32m   1942\u001b[0m                 )\n\u001b[1;32m   1943\u001b[0m \u001b[0;34m\u001b[0m\u001b[0m\n",
            "\u001b[0;32m/usr/local/lib/python3.7/dist-packages/transformers/utils/hub.py\u001b[0m in \u001b[0;36mcached_path\u001b[0;34m(url_or_filename, cache_dir, force_download, proxies, resume_download, user_agent, extract_compressed_file, force_extract, use_auth_token, local_files_only)\u001b[0m\n\u001b[1;32m    290\u001b[0m             \u001b[0muser_agent\u001b[0m\u001b[0;34m=\u001b[0m\u001b[0muser_agent\u001b[0m\u001b[0;34m,\u001b[0m\u001b[0;34m\u001b[0m\u001b[0;34m\u001b[0m\u001b[0m\n\u001b[1;32m    291\u001b[0m             \u001b[0muse_auth_token\u001b[0m\u001b[0;34m=\u001b[0m\u001b[0muse_auth_token\u001b[0m\u001b[0;34m,\u001b[0m\u001b[0;34m\u001b[0m\u001b[0;34m\u001b[0m\u001b[0m\n\u001b[0;32m--> 292\u001b[0;31m             \u001b[0mlocal_files_only\u001b[0m\u001b[0;34m=\u001b[0m\u001b[0mlocal_files_only\u001b[0m\u001b[0;34m,\u001b[0m\u001b[0;34m\u001b[0m\u001b[0;34m\u001b[0m\u001b[0m\n\u001b[0m\u001b[1;32m    293\u001b[0m         )\n\u001b[1;32m    294\u001b[0m     \u001b[0;32melif\u001b[0m \u001b[0mos\u001b[0m\u001b[0;34m.\u001b[0m\u001b[0mpath\u001b[0m\u001b[0;34m.\u001b[0m\u001b[0mexists\u001b[0m\u001b[0;34m(\u001b[0m\u001b[0murl_or_filename\u001b[0m\u001b[0;34m)\u001b[0m\u001b[0;34m:\u001b[0m\u001b[0;34m\u001b[0m\u001b[0;34m\u001b[0m\u001b[0m\n",
            "\u001b[0;32m/usr/local/lib/python3.7/dist-packages/transformers/utils/hub.py\u001b[0m in \u001b[0;36mget_from_cache\u001b[0;34m(url, cache_dir, force_download, proxies, etag_timeout, resume_download, user_agent, use_auth_token, local_files_only)\u001b[0m\n\u001b[1;32m    608\u001b[0m                 \u001b[0mresume_size\u001b[0m\u001b[0;34m=\u001b[0m\u001b[0mresume_size\u001b[0m\u001b[0;34m,\u001b[0m\u001b[0;34m\u001b[0m\u001b[0;34m\u001b[0m\u001b[0m\n\u001b[1;32m    609\u001b[0m                 \u001b[0mheaders\u001b[0m\u001b[0;34m=\u001b[0m\u001b[0mheaders\u001b[0m\u001b[0;34m,\u001b[0m\u001b[0;34m\u001b[0m\u001b[0;34m\u001b[0m\u001b[0m\n\u001b[0;32m--> 610\u001b[0;31m                 \u001b[0mfile_name\u001b[0m\u001b[0;34m=\u001b[0m\u001b[0mfile_name\u001b[0m\u001b[0;34m,\u001b[0m\u001b[0;34m\u001b[0m\u001b[0;34m\u001b[0m\u001b[0m\n\u001b[0m\u001b[1;32m    611\u001b[0m             )\n\u001b[1;32m    612\u001b[0m \u001b[0;34m\u001b[0m\u001b[0m\n",
            "\u001b[0;32m/usr/local/lib/python3.7/dist-packages/transformers/utils/hub.py\u001b[0m in \u001b[0;36mhttp_get\u001b[0;34m(url, temp_file, proxies, resume_size, headers, file_name)\u001b[0m\n\u001b[1;32m    451\u001b[0m         \u001b[0mdesc\u001b[0m\u001b[0;34m=\u001b[0m\u001b[0;34mf\"Downloading {file_name}\"\u001b[0m \u001b[0;32mif\u001b[0m \u001b[0mfile_name\u001b[0m \u001b[0;32mis\u001b[0m \u001b[0;32mnot\u001b[0m \u001b[0;32mNone\u001b[0m \u001b[0;32melse\u001b[0m \u001b[0;34m\"Downloading\"\u001b[0m\u001b[0;34m,\u001b[0m\u001b[0;34m\u001b[0m\u001b[0;34m\u001b[0m\u001b[0m\n\u001b[1;32m    452\u001b[0m     )\n\u001b[0;32m--> 453\u001b[0;31m     \u001b[0;32mfor\u001b[0m \u001b[0mchunk\u001b[0m \u001b[0;32min\u001b[0m \u001b[0mr\u001b[0m\u001b[0;34m.\u001b[0m\u001b[0miter_content\u001b[0m\u001b[0;34m(\u001b[0m\u001b[0mchunk_size\u001b[0m\u001b[0;34m=\u001b[0m\u001b[0;36m1024\u001b[0m\u001b[0;34m)\u001b[0m\u001b[0;34m:\u001b[0m\u001b[0;34m\u001b[0m\u001b[0;34m\u001b[0m\u001b[0m\n\u001b[0m\u001b[1;32m    454\u001b[0m         \u001b[0;32mif\u001b[0m \u001b[0mchunk\u001b[0m\u001b[0;34m:\u001b[0m  \u001b[0;31m# filter out keep-alive new chunks\u001b[0m\u001b[0;34m\u001b[0m\u001b[0;34m\u001b[0m\u001b[0m\n\u001b[1;32m    455\u001b[0m             \u001b[0mprogress\u001b[0m\u001b[0;34m.\u001b[0m\u001b[0mupdate\u001b[0m\u001b[0;34m(\u001b[0m\u001b[0mlen\u001b[0m\u001b[0;34m(\u001b[0m\u001b[0mchunk\u001b[0m\u001b[0;34m)\u001b[0m\u001b[0;34m)\u001b[0m\u001b[0;34m\u001b[0m\u001b[0;34m\u001b[0m\u001b[0m\n",
            "\u001b[0;32m/usr/local/lib/python3.7/dist-packages/requests/models.py\u001b[0m in \u001b[0;36mgenerate\u001b[0;34m()\u001b[0m\n\u001b[1;32m    749\u001b[0m             \u001b[0;32mif\u001b[0m \u001b[0mhasattr\u001b[0m\u001b[0;34m(\u001b[0m\u001b[0mself\u001b[0m\u001b[0;34m.\u001b[0m\u001b[0mraw\u001b[0m\u001b[0;34m,\u001b[0m \u001b[0;34m'stream'\u001b[0m\u001b[0;34m)\u001b[0m\u001b[0;34m:\u001b[0m\u001b[0;34m\u001b[0m\u001b[0;34m\u001b[0m\u001b[0m\n\u001b[1;32m    750\u001b[0m                 \u001b[0;32mtry\u001b[0m\u001b[0;34m:\u001b[0m\u001b[0;34m\u001b[0m\u001b[0;34m\u001b[0m\u001b[0m\n\u001b[0;32m--> 751\u001b[0;31m                     \u001b[0;32mfor\u001b[0m \u001b[0mchunk\u001b[0m \u001b[0;32min\u001b[0m \u001b[0mself\u001b[0m\u001b[0;34m.\u001b[0m\u001b[0mraw\u001b[0m\u001b[0;34m.\u001b[0m\u001b[0mstream\u001b[0m\u001b[0;34m(\u001b[0m\u001b[0mchunk_size\u001b[0m\u001b[0;34m,\u001b[0m \u001b[0mdecode_content\u001b[0m\u001b[0;34m=\u001b[0m\u001b[0;32mTrue\u001b[0m\u001b[0;34m)\u001b[0m\u001b[0;34m:\u001b[0m\u001b[0;34m\u001b[0m\u001b[0;34m\u001b[0m\u001b[0m\n\u001b[0m\u001b[1;32m    752\u001b[0m                         \u001b[0;32myield\u001b[0m \u001b[0mchunk\u001b[0m\u001b[0;34m\u001b[0m\u001b[0;34m\u001b[0m\u001b[0m\n\u001b[1;32m    753\u001b[0m                 \u001b[0;32mexcept\u001b[0m \u001b[0mProtocolError\u001b[0m \u001b[0;32mas\u001b[0m \u001b[0me\u001b[0m\u001b[0;34m:\u001b[0m\u001b[0;34m\u001b[0m\u001b[0;34m\u001b[0m\u001b[0m\n",
            "\u001b[0;32m/usr/local/lib/python3.7/dist-packages/urllib3/response.py\u001b[0m in \u001b[0;36mstream\u001b[0;34m(self, amt, decode_content)\u001b[0m\n\u001b[1;32m    494\u001b[0m         \u001b[0;32melse\u001b[0m\u001b[0;34m:\u001b[0m\u001b[0;34m\u001b[0m\u001b[0;34m\u001b[0m\u001b[0m\n\u001b[1;32m    495\u001b[0m             \u001b[0;32mwhile\u001b[0m \u001b[0;32mnot\u001b[0m \u001b[0mis_fp_closed\u001b[0m\u001b[0;34m(\u001b[0m\u001b[0mself\u001b[0m\u001b[0;34m.\u001b[0m\u001b[0m_fp\u001b[0m\u001b[0;34m)\u001b[0m\u001b[0;34m:\u001b[0m\u001b[0;34m\u001b[0m\u001b[0;34m\u001b[0m\u001b[0m\n\u001b[0;32m--> 496\u001b[0;31m                 \u001b[0mdata\u001b[0m \u001b[0;34m=\u001b[0m \u001b[0mself\u001b[0m\u001b[0;34m.\u001b[0m\u001b[0mread\u001b[0m\u001b[0;34m(\u001b[0m\u001b[0mamt\u001b[0m\u001b[0;34m=\u001b[0m\u001b[0mamt\u001b[0m\u001b[0;34m,\u001b[0m \u001b[0mdecode_content\u001b[0m\u001b[0;34m=\u001b[0m\u001b[0mdecode_content\u001b[0m\u001b[0;34m)\u001b[0m\u001b[0;34m\u001b[0m\u001b[0;34m\u001b[0m\u001b[0m\n\u001b[0m\u001b[1;32m    497\u001b[0m \u001b[0;34m\u001b[0m\u001b[0m\n\u001b[1;32m    498\u001b[0m                 \u001b[0;32mif\u001b[0m \u001b[0mdata\u001b[0m\u001b[0;34m:\u001b[0m\u001b[0;34m\u001b[0m\u001b[0;34m\u001b[0m\u001b[0m\n",
            "\u001b[0;32m/usr/local/lib/python3.7/dist-packages/urllib3/response.py\u001b[0m in \u001b[0;36mread\u001b[0;34m(self, amt, decode_content, cache_content)\u001b[0m\n\u001b[1;32m    442\u001b[0m             \u001b[0;32melse\u001b[0m\u001b[0;34m:\u001b[0m\u001b[0;34m\u001b[0m\u001b[0;34m\u001b[0m\u001b[0m\n\u001b[1;32m    443\u001b[0m                 \u001b[0mcache_content\u001b[0m \u001b[0;34m=\u001b[0m \u001b[0;32mFalse\u001b[0m\u001b[0;34m\u001b[0m\u001b[0;34m\u001b[0m\u001b[0m\n\u001b[0;32m--> 444\u001b[0;31m                 \u001b[0mdata\u001b[0m \u001b[0;34m=\u001b[0m \u001b[0mself\u001b[0m\u001b[0;34m.\u001b[0m\u001b[0m_fp\u001b[0m\u001b[0;34m.\u001b[0m\u001b[0mread\u001b[0m\u001b[0;34m(\u001b[0m\u001b[0mamt\u001b[0m\u001b[0;34m)\u001b[0m\u001b[0;34m\u001b[0m\u001b[0;34m\u001b[0m\u001b[0m\n\u001b[0m\u001b[1;32m    445\u001b[0m                 \u001b[0;32mif\u001b[0m \u001b[0mamt\u001b[0m \u001b[0;34m!=\u001b[0m \u001b[0;36m0\u001b[0m \u001b[0;32mand\u001b[0m \u001b[0;32mnot\u001b[0m \u001b[0mdata\u001b[0m\u001b[0;34m:\u001b[0m  \u001b[0;31m# Platform-specific: Buggy versions of Python.\u001b[0m\u001b[0;34m\u001b[0m\u001b[0;34m\u001b[0m\u001b[0m\n\u001b[1;32m    446\u001b[0m                     \u001b[0;31m# Close the connection when no data is returned\u001b[0m\u001b[0;34m\u001b[0m\u001b[0;34m\u001b[0m\u001b[0;34m\u001b[0m\u001b[0m\n",
            "\u001b[0;32m/usr/lib/python3.7/http/client.py\u001b[0m in \u001b[0;36mread\u001b[0;34m(self, amt)\u001b[0m\n\u001b[1;32m    463\u001b[0m             \u001b[0;31m# Amount is given, implement using readinto\u001b[0m\u001b[0;34m\u001b[0m\u001b[0;34m\u001b[0m\u001b[0;34m\u001b[0m\u001b[0m\n\u001b[1;32m    464\u001b[0m             \u001b[0mb\u001b[0m \u001b[0;34m=\u001b[0m \u001b[0mbytearray\u001b[0m\u001b[0;34m(\u001b[0m\u001b[0mamt\u001b[0m\u001b[0;34m)\u001b[0m\u001b[0;34m\u001b[0m\u001b[0;34m\u001b[0m\u001b[0m\n\u001b[0;32m--> 465\u001b[0;31m             \u001b[0mn\u001b[0m \u001b[0;34m=\u001b[0m \u001b[0mself\u001b[0m\u001b[0;34m.\u001b[0m\u001b[0mreadinto\u001b[0m\u001b[0;34m(\u001b[0m\u001b[0mb\u001b[0m\u001b[0;34m)\u001b[0m\u001b[0;34m\u001b[0m\u001b[0;34m\u001b[0m\u001b[0m\n\u001b[0m\u001b[1;32m    466\u001b[0m             \u001b[0;32mreturn\u001b[0m \u001b[0mmemoryview\u001b[0m\u001b[0;34m(\u001b[0m\u001b[0mb\u001b[0m\u001b[0;34m)\u001b[0m\u001b[0;34m[\u001b[0m\u001b[0;34m:\u001b[0m\u001b[0mn\u001b[0m\u001b[0;34m]\u001b[0m\u001b[0;34m.\u001b[0m\u001b[0mtobytes\u001b[0m\u001b[0;34m(\u001b[0m\u001b[0;34m)\u001b[0m\u001b[0;34m\u001b[0m\u001b[0;34m\u001b[0m\u001b[0m\n\u001b[1;32m    467\u001b[0m         \u001b[0;32melse\u001b[0m\u001b[0;34m:\u001b[0m\u001b[0;34m\u001b[0m\u001b[0;34m\u001b[0m\u001b[0m\n",
            "\u001b[0;32m/usr/lib/python3.7/http/client.py\u001b[0m in \u001b[0;36mreadinto\u001b[0;34m(self, b)\u001b[0m\n\u001b[1;32m    507\u001b[0m         \u001b[0;31m# connection, and the user is reading more bytes than will be provided\u001b[0m\u001b[0;34m\u001b[0m\u001b[0;34m\u001b[0m\u001b[0;34m\u001b[0m\u001b[0m\n\u001b[1;32m    508\u001b[0m         \u001b[0;31m# (for example, reading in 1k chunks)\u001b[0m\u001b[0;34m\u001b[0m\u001b[0;34m\u001b[0m\u001b[0;34m\u001b[0m\u001b[0m\n\u001b[0;32m--> 509\u001b[0;31m         \u001b[0mn\u001b[0m \u001b[0;34m=\u001b[0m \u001b[0mself\u001b[0m\u001b[0;34m.\u001b[0m\u001b[0mfp\u001b[0m\u001b[0;34m.\u001b[0m\u001b[0mreadinto\u001b[0m\u001b[0;34m(\u001b[0m\u001b[0mb\u001b[0m\u001b[0;34m)\u001b[0m\u001b[0;34m\u001b[0m\u001b[0;34m\u001b[0m\u001b[0m\n\u001b[0m\u001b[1;32m    510\u001b[0m         \u001b[0;32mif\u001b[0m \u001b[0;32mnot\u001b[0m \u001b[0mn\u001b[0m \u001b[0;32mand\u001b[0m \u001b[0mb\u001b[0m\u001b[0;34m:\u001b[0m\u001b[0;34m\u001b[0m\u001b[0;34m\u001b[0m\u001b[0m\n\u001b[1;32m    511\u001b[0m             \u001b[0;31m# Ideally, we would raise IncompleteRead if the content-length\u001b[0m\u001b[0;34m\u001b[0m\u001b[0;34m\u001b[0m\u001b[0;34m\u001b[0m\u001b[0m\n",
            "\u001b[0;32m/usr/lib/python3.7/socket.py\u001b[0m in \u001b[0;36mreadinto\u001b[0;34m(self, b)\u001b[0m\n\u001b[1;32m    587\u001b[0m         \u001b[0;32mwhile\u001b[0m \u001b[0;32mTrue\u001b[0m\u001b[0;34m:\u001b[0m\u001b[0;34m\u001b[0m\u001b[0;34m\u001b[0m\u001b[0m\n\u001b[1;32m    588\u001b[0m             \u001b[0;32mtry\u001b[0m\u001b[0;34m:\u001b[0m\u001b[0;34m\u001b[0m\u001b[0;34m\u001b[0m\u001b[0m\n\u001b[0;32m--> 589\u001b[0;31m                 \u001b[0;32mreturn\u001b[0m \u001b[0mself\u001b[0m\u001b[0;34m.\u001b[0m\u001b[0m_sock\u001b[0m\u001b[0;34m.\u001b[0m\u001b[0mrecv_into\u001b[0m\u001b[0;34m(\u001b[0m\u001b[0mb\u001b[0m\u001b[0;34m)\u001b[0m\u001b[0;34m\u001b[0m\u001b[0;34m\u001b[0m\u001b[0m\n\u001b[0m\u001b[1;32m    590\u001b[0m             \u001b[0;32mexcept\u001b[0m \u001b[0mtimeout\u001b[0m\u001b[0;34m:\u001b[0m\u001b[0;34m\u001b[0m\u001b[0;34m\u001b[0m\u001b[0m\n\u001b[1;32m    591\u001b[0m                 \u001b[0mself\u001b[0m\u001b[0;34m.\u001b[0m\u001b[0m_timeout_occurred\u001b[0m \u001b[0;34m=\u001b[0m \u001b[0;32mTrue\u001b[0m\u001b[0;34m\u001b[0m\u001b[0;34m\u001b[0m\u001b[0m\n",
            "\u001b[0;32m/usr/lib/python3.7/ssl.py\u001b[0m in \u001b[0;36mrecv_into\u001b[0;34m(self, buffer, nbytes, flags)\u001b[0m\n\u001b[1;32m   1059\u001b[0m \u001b[0;34m\u001b[0m\u001b[0m\n\u001b[1;32m   1060\u001b[0m     \u001b[0;32mdef\u001b[0m \u001b[0mrecv_into\u001b[0m\u001b[0;34m(\u001b[0m\u001b[0mself\u001b[0m\u001b[0;34m,\u001b[0m \u001b[0mbuffer\u001b[0m\u001b[0;34m,\u001b[0m \u001b[0mnbytes\u001b[0m\u001b[0;34m=\u001b[0m\u001b[0;32mNone\u001b[0m\u001b[0;34m,\u001b[0m \u001b[0mflags\u001b[0m\u001b[0;34m=\u001b[0m\u001b[0;36m0\u001b[0m\u001b[0;34m)\u001b[0m\u001b[0;34m:\u001b[0m\u001b[0;34m\u001b[0m\u001b[0;34m\u001b[0m\u001b[0m\n\u001b[0;32m-> 1061\u001b[0;31m         \u001b[0mself\u001b[0m\u001b[0;34m.\u001b[0m\u001b[0m_checkClosed\u001b[0m\u001b[0;34m(\u001b[0m\u001b[0;34m)\u001b[0m\u001b[0;34m\u001b[0m\u001b[0;34m\u001b[0m\u001b[0m\n\u001b[0m\u001b[1;32m   1062\u001b[0m         \u001b[0;32mif\u001b[0m \u001b[0mbuffer\u001b[0m \u001b[0;32mand\u001b[0m \u001b[0;34m(\u001b[0m\u001b[0mnbytes\u001b[0m \u001b[0;32mis\u001b[0m \u001b[0;32mNone\u001b[0m\u001b[0;34m)\u001b[0m\u001b[0;34m:\u001b[0m\u001b[0;34m\u001b[0m\u001b[0;34m\u001b[0m\u001b[0m\n\u001b[1;32m   1063\u001b[0m             \u001b[0mnbytes\u001b[0m \u001b[0;34m=\u001b[0m \u001b[0mlen\u001b[0m\u001b[0;34m(\u001b[0m\u001b[0mbuffer\u001b[0m\u001b[0;34m)\u001b[0m\u001b[0;34m\u001b[0m\u001b[0;34m\u001b[0m\u001b[0m\n",
            "\u001b[0;31mKeyboardInterrupt\u001b[0m: "
          ]
        }
      ],
      "source": [
        "from transformers import XLMRobertaForSequenceClassification\n",
        "import torch\n",
        "xlmr_model = XLMRobertaForSequenceClassification.from_pretrained(\"xlm-roberta-base\",num_labels=3)"
      ]
    },
    {
      "cell_type": "code",
      "execution_count": null,
      "metadata": {
        "id": "EojK2ceLAPWm"
      },
      "outputs": [],
      "source": [
        "import tensorflow as tf\n",
        "tf.test.gpu_device_name()"
      ]
    },
    {
      "cell_type": "code",
      "execution_count": null,
      "metadata": {
        "id": "fw9uugvoATPF"
      },
      "outputs": [],
      "source": [
        "print(\"Loading model to GPU\")\n",
        "import torch\n",
        "#connect to GPU\n",
        "device = torch.device('cuda')\n",
        "\n",
        "#report the GPu which is granted \n",
        "print('GPU:',torch.cuda.get_device_name(0))\n",
        "\n",
        "#copy the initial model with weights to GPU\n",
        "desc = xlmr_model.to(device)\n",
        "print(\"Done\")"
      ]
    },
    {
      "cell_type": "code",
      "execution_count": null,
      "metadata": {
        "id": "cvh9Y0n_Pom2"
      },
      "outputs": [],
      "source": [
        "from transformers import AdamW\n",
        "\n",
        "optimizer  = AdamW(xlmr_model.parameters(),\n",
        "                   lr = 2e-5,# learning rate\n",
        "                   eps=1e-8 # args.adma_epsilon\n",
        "                   )"
      ]
    },
    {
      "cell_type": "code",
      "execution_count": null,
      "metadata": {
        "id": "9o6CPmUqTZ8h"
      },
      "outputs": [],
      "source": [
        "from transformers import get_linear_schedule_with_warmup\n",
        "\n",
        "#number of training epochs\n",
        "epochs = 10\n",
        "#total no of training steps is [number of batches]*[number of epoches]\n",
        "total_steps = len(train_dataloader)*epochs\n",
        "\n",
        "#create the learning rate scheduler \n",
        "scheduler  =  get_linear_schedule_with_warmup( optimizer, \n",
        "                                              num_warmup_steps = 0,\n",
        "                                              num_training_steps = total_steps)\n"
      ]
    },
    {
      "cell_type": "code",
      "execution_count": null,
      "metadata": {
        "id": "QCdUMASzCj06"
      },
      "outputs": [],
      "source": [
        "for step, batch in enumerate(train_dataloader):\n",
        "    #progress update \n",
        "    \n",
        "    b_input_ids = batch[0].to(device)\n",
        "    b_input_mask = batch[1].to(device)\n",
        "    b_lables = batch[2].to(device)\n",
        "    print(b_lables.shape)\n",
        "    break"
      ]
    },
    {
      "cell_type": "markdown",
      "metadata": {
        "id": "mAvfzaLHSefQ"
      },
      "source": [
        "#max_length =50 , epochs 10"
      ]
    },
    {
      "cell_type": "code",
      "execution_count": null,
      "metadata": {
        "id": "q2LbwuYdrD72"
      },
      "outputs": [],
      "source": [
        "import torch\n",
        "labels_ur = []\n",
        "input_ids_ur = []\n",
        "attn_masks_ur= []\n",
        "\n",
        "print(\"Encoding all Examples in the dataset \\n\" )\n",
        "\n",
        "for ind in maindata.index:\n",
        "  text = maindata.Text[ind]\n",
        "  #convert sentence pairs to input ids, with attention masks\n",
        "  \n",
        "  encoded_dict = xlmr_tokenizer.encode_plus(text,max_length = 50,  \n",
        "                                       padding='max_length',\n",
        "                                       truncation=True,\n",
        "                                       return_tensors = 'pt')\n",
        "                                      \n",
        "  \n",
        "\n",
        "  \n",
        "  input_ids_ur.append(encoded_dict['input_ids'])\n",
        "  attn_masks_ur.append(encoded_dict['attention_mask'])\n",
        "  #print(ex['label'].numpy)\n",
        "  #we are converting the data into labels\n",
        "  labels_ur.append(maindata.at[ind,'Sentiment'].astype(np.int64))\n",
        "  \n",
        "  #convert each python list of tensor to 2D tensor Matrix\n",
        "input_ids_ur = torch.cat(input_ids_ur,dim=0)\n",
        "attn_masks_ur = torch.cat(attn_masks_ur,dim=0)\n",
        "\n",
        "#cast the labels into tensors\n",
        "labels_ur = torch.tensor(labels_ur)\n",
        "#print(len(labels_ur))\n",
        "\n",
        "from torch.utils.data import TensorDataset, random_split\n",
        "\n",
        "#combine the trainign inputs to tensorDatasets\n",
        "dataset = TensorDataset(input_ids_ur,attn_masks_ur, labels_ur)\n",
        "\n",
        " #create a 90-10 train validation split\n",
        "train_size = int(0.9*(len(dataset)))\n",
        "val_size = len(dataset) - train_size\n",
        "\n",
        "train_dataset, val_dataset = random_split(dataset,[train_size, val_size])\n",
        "\n",
        "\n",
        "\n",
        "from torch.utils.data import DataLoader, RandomSampler,SequentialSampler\n",
        "\n",
        "batch_size=32\n",
        "\n",
        "train_dataloader = DataLoader(train_dataset,\n",
        "                          sampler=RandomSampler(train_dataset),\n",
        "                          batch_size = batch_size)\n",
        "\n",
        "\n",
        "validation_dataloader = DataLoader(val_dataset,\n",
        "                          sampler=RandomSampler(val_dataset),\n",
        "                          batch_size = batch_size)\n",
        "\n",
        "\n",
        "\n",
        "from transformers import XLMRobertaForSequenceClassification\n",
        "import torch\n",
        "xlmr_model = XLMRobertaForSequenceClassification.from_pretrained(\"xlm-roberta-base\",num_labels=3)\n",
        "\n",
        "\n",
        "\n",
        "print(\"Loading model to GPU\")\n",
        "import torch\n",
        "#connect to GPU\n",
        "device = torch.device('cuda')\n",
        "\n",
        "#report the GPu which is granted \n",
        "print('GPU:',torch.cuda.get_device_name(0))\n",
        "\n",
        "#copy the initial model with weights to GPU\n",
        "desc = xlmr_model.to(device)\n",
        "print(\"Done\")\n",
        "\n",
        "\n",
        "from transformers import AdamW\n",
        "\n",
        "optimizer  = AdamW(xlmr_model.parameters(),\n",
        "                   lr = 2e-5,# learning rate\n",
        "                   eps=1e-8 # args.adma_epsilon\n",
        "                   )\n",
        "from transformers import get_linear_schedule_with_warmup\n",
        "\n",
        "#number of training epochs\n",
        "epochs = 5\n",
        "#total no of training steps is [number of batches]*[number of epoches]\n",
        "total_steps = len(train_dataloader)*epochs\n",
        "\n",
        "#create the learning rate scheduler \n",
        "scheduler  =  get_linear_schedule_with_warmup( optimizer, \n",
        "                                              num_warmup_steps = 0,\n",
        "                                              num_training_steps = total_steps)\n",
        "\n",
        "import random\n",
        "import numpy as np\n",
        "from transformers import get_scheduler\n",
        "\n",
        "from tqdm.auto import tqdm\n",
        "\n",
        "progress_bar = tqdm(range(total_steps))\n",
        "\n",
        "lr_scheduler = get_scheduler(\n",
        "    \"linear\",\n",
        "    optimizer=optimizer,\n",
        "    num_warmup_steps=0,\n",
        "    num_training_steps=total_steps,\n",
        ")\n",
        "\n",
        "seed_val = 42\n",
        "random.seed(seed_val)\n",
        "np.random.seed(seed_val)\n",
        "torch.manual_seed(seed_val)\n",
        "torch.cuda.manual_seed_all(seed_val)\n",
        "\n",
        "\n",
        "\n",
        "training_stats = []\n",
        "epochs = 5\n",
        "\n",
        "for epoch_i in range(0,epochs):\n",
        "\n",
        "  # Reset the total loss for this epoch.\n",
        "  total_train_loss = 0\n",
        "  \n",
        "  \n",
        "  \n",
        "    #training\n",
        "  print(\"Epoch:\",epoch_i+1)\n",
        "  total_train_loss = 0\n",
        "  xlmr_model.train()\n",
        "    #For each batch of train_data\n",
        "  for step, batch in enumerate(train_dataloader):\n",
        "    #progress update \n",
        "    b_input_ids = batch[0].to(device)\n",
        "    b_input_mask = batch[1].to(device)\n",
        "    b_lables = batch[2].to(device)\n",
        "    xlmr_model.zero_grad()\n",
        "    outputs =xlmr_model(b_input_ids,attention_mask = b_input_mask,labels=b_lables)\n",
        "    total_train_loss += outputs.loss.item()\n",
        "    loss = outputs.loss\n",
        "    loss.backward()\n",
        "    optimizer.step()\n",
        "    lr_scheduler.step()\n",
        "    optimizer.zero_grad()\n",
        "    progress_bar.update(1)\n",
        "  \n",
        "  avg_train_loss = total_train_loss / len(train_dataloader)  \n",
        "  print(\"  Average training loss: {0:.2f}\".format(avg_train_loss))\n",
        "\n",
        "  #put the model in evaluation mode\n",
        "  # Tracking variables \n",
        "  total_eval_loss = 0\n",
        "  xlmr_model.eval()\n",
        "  model_predictions=[]\n",
        "  true_labels=[]\n",
        "  for batch in validation_dataloader:\n",
        "      b_input_ids = batch[0].to(device)\n",
        "      b_input_mask = batch[1].to(device)\n",
        "      b_lables = batch[2].to(device)\n",
        "      with torch.no_grad():\n",
        "        outputs = xlmr_model(b_input_ids,attention_mask = b_input_mask, labels = b_lables)\n",
        "      logits = outputs.logits\n",
        "      total_eval_loss += outputs.loss.item()\n",
        "      logits=logits.detach().cpu().numpy()\n",
        "      label_ids = b_lables.to('cpu').numpy()\n",
        "      predictions = np.argmax(logits, axis = -1)\n",
        "      model_predictions.append(logits)\n",
        "      true_labels.append(label_ids)\n",
        "  flat_predictions = np.concatenate(model_predictions, axis=0)\n",
        "  flat_true_labels = np.concatenate(true_labels, axis=0)\n",
        "  predicted_labels = np.argmax(flat_predictions, axis=1).flatten()\n",
        "  accuracy = (predicted_labels==flat_true_labels).mean()\n",
        "   # Calculate the average loss over all of the batches.\n",
        "  avg_val_loss = total_eval_loss / len(validation_dataloader)\n",
        "  print(\"  Validation Loss: {0:.2f}\".format(avg_val_loss))\n",
        "  print(\"Epoch: \",epochs)\n",
        "  print('XLMR- validation accuracy ',accuracy)\n",
        "  print(\"------------------------------------ \")\n",
        "\n",
        "  # Record all statistics from this epoch.\n",
        "  training_stats.append(\n",
        "      {\n",
        "          'epoch': epoch_i + 1,\n",
        "          'Training Loss': avg_train_loss,\n",
        "          'Valid. Loss': avg_val_loss,\n",
        "          'Valid. Accur.': accuracy\n",
        "       }\n",
        "      )\n"
      ]
    },
    {
      "cell_type": "markdown",
      "source": [
        "Let's view the summary of the training process.\n",
        "\n",
        "First we'll put the statistics into a pandas DataFrame."
      ],
      "metadata": {
        "id": "utqtRHCD5J22"
      }
    },
    {
      "cell_type": "code",
      "source": [
        "import pandas as pd\n",
        "\n",
        "# Display floats with two decimal places.\n",
        "pd.set_option('precision', 2)\n",
        "\n",
        "# Create a DataFrame from our training statistics.\n",
        "df_stats = pd.DataFrame(data=training_stats)\n",
        "\n",
        "# Use the 'epoch' as the row index.\n",
        "df_stats = df_stats.set_index('epoch')\n",
        "\n",
        "# Display the table.\n",
        "df_stats"
      ],
      "metadata": {
        "id": "Mrv36x_5U0-p"
      },
      "execution_count": null,
      "outputs": []
    },
    {
      "cell_type": "code",
      "metadata": {
        "id": "Opxa8aq6jmE4"
      },
      "source": [
        "import matplotlib.pyplot as plt\n",
        "% matplotlib inline\n",
        "\n",
        "import seaborn as sns\n",
        "\n",
        "# Use plot styling from seaborn.\n",
        "sns.set(style='darkgrid')\n",
        "\n",
        "# Increase the plot size and font size.\n",
        "sns.set(font_scale=1.5)\n",
        "plt.rcParams[\"figure.figsize\"] = (12,6)\n",
        "\n",
        "# Plot the learning curve.\n",
        "plt.plot(df_stats['Training Loss'], 'b-o', label=\"Training\")\n",
        "plt.plot(df_stats['Valid. Loss'], 'g-o', label=\"Validation\")\n",
        "\n",
        "# Label the plot.\n",
        "plt.title(\"Training & Validation Loss\")\n",
        "plt.xlabel(\"Epoch\")\n",
        "plt.ylabel(\"Loss\")\n",
        "plt.legend()\n",
        "plt.xticks([1, 2, 3, 4])\n",
        "\n",
        "plt.show()"
      ],
      "execution_count": null,
      "outputs": []
    },
    {
      "cell_type": "markdown",
      "source": [
        "# checking Vocaublary "
      ],
      "metadata": {
        "id": "cXIqeTr9RUa_"
      }
    },
    {
      "cell_type": "code",
      "metadata": {
        "id": "C5knK645Tpep"
      },
      "source": [
        "'کووڈ' in xlmr_tokenizer.vocab"
      ],
      "execution_count": null,
      "outputs": []
    },
    {
      "cell_type": "markdown",
      "source": [
        "While any word can be constructed out of constituent subwords, for example..."
      ],
      "metadata": {
        "id": "g_tfuRsqnYuS"
      }
    },
    {
      "cell_type": "code",
      "source": [
        "xlmr_tokenizer.tokenize('کووڈ')"
      ],
      "metadata": {
        "id": "_6Dv9tBLnXSC"
      },
      "execution_count": null,
      "outputs": []
    },
    {
      "cell_type": "markdown",
      "source": [
        "covid is not in xlmr_tokenizer. Fortunately huggingface provides an interface to add to the tokenizer's vocabulary. We will just add a single token, \"covid\", to demonstrate the addition of new terms to the model, but you are able to add as many terms as you like."
      ],
      "metadata": {
        "id": "Omc0jleQp4qq"
      }
    },
    {
      "cell_type": "code",
      "source": [
        "print (len(xlmr_tokenizer)) "
      ],
      "metadata": {
        "id": "mOtdnclDps8e"
      },
      "execution_count": null,
      "outputs": []
    },
    {
      "cell_type": "code",
      "source": [
        "xlmr_tokenizer.add_tokens(['کووڈ'])"
      ],
      "metadata": {
        "id": "RGRuoXweqEcw"
      },
      "execution_count": null,
      "outputs": []
    },
    {
      "cell_type": "code",
      "source": [
        "print (len(xlmr_tokenizer)) "
      ],
      "metadata": {
        "id": "kIHh81GtqPq6"
      },
      "execution_count": null,
      "outputs": []
    },
    {
      "cell_type": "markdown",
      "source": [
        "Now that the tokenizer is updated, we need to update the input embeddings of our model. We added one term to the tokenizer vocabulary so we need to add one new vector to the input embeddings:"
      ],
      "metadata": {
        "id": "AXfGhW2XrX45"
      }
    },
    {
      "cell_type": "code",
      "source": [
        "# Add a new randomly initialized vector to the end of the embeddings matrix\n",
        "xlmr_model.resize_token_embeddings(len(xlmr_tokenizer)) "
      ],
      "metadata": {
        "id": "vo8s7OISrZjp"
      },
      "execution_count": null,
      "outputs": []
    },
    {
      "cell_type": "code",
      "source": [
        "# New radom embedding vector\n",
        "xlmr_model.get_input_embeddings().weight[-1].shape"
      ],
      "metadata": {
        "id": "8X0btdGlsNjJ"
      },
      "execution_count": null,
      "outputs": []
    },
    {
      "cell_type": "code",
      "source": [
        "random_vector = xlmr_model.get_input_embeddings().weight[-1].detach().cpu().numpy()\n",
        "\n",
        "plt.title(\"Randomly Initialized Vector\")\n",
        "plt.hist(random_vector, bins=50)\n",
        "plt.show()"
      ],
      "metadata": {
        "id": "HMhos8pftJVp"
      },
      "execution_count": null,
      "outputs": []
    },
    {
      "cell_type": "markdown",
      "source": [
        "# crearting custom embedding \n",
        "\n",
        "Great! We have a new embedding vector.\n",
        "\n",
        "There's a slight problem: this new \"covid\" vector is completely random while the rest of our input embeddings have been thoroughly trained. Our goal is to continue pretraining the model to update all weights in general, but also to achieve a good embedding for our new vocabulary term.\n",
        "\n",
        "One possible workaround is to change the random embedding to something else. Instead of initializing as a random vector, we can perhaps speed up the process by initializing \"covid\" with an embedding slightly closer to its meaning. In this example, the embedding for \"virus\" is probably a good place to start, but it's possible to combine the embeddings of multiple words into an embedding we think might best approximate the meaning of our new term. We'll combine the embedding for \"virus\" with the embedding for \"respiratory\" by taking the mean, but of course you can combine any number of terms in any way you think might best approximate your new vocabulary term's meaning.\n",
        "\n",
        "Note that this idea is experimental and application-dependent, but it's probably more efficient than training on a random initialization.\n",
        "\n"
      ],
      "metadata": {
        "id": "piMjvB8vyynZ"
      }
    },
    {
      "cell_type": "code",
      "source": [
        "# creating a custom embedding \n",
        "xlmr_tokenizer.tokenize('بيمار')"
      ],
      "metadata": {
        "id": "FPZqUTZVytaP"
      },
      "execution_count": null,
      "outputs": []
    },
    {
      "cell_type": "code",
      "source": [
        "# Get the index of these terms in our vocabulary\n",
        "beemar_id = xlmr_tokenizer.convert_tokens_to_ids(\"بيمار\")\n",
        "print(beemar_id)\n",
        "# Get the embeddings for these terms\n",
        "beemar_embedding = xlmr_model.get_input_embeddings().weight[beemar_id]\n",
        "# Replace our randomly initialized embedding vector with our mean embedding vector\n",
        "# Make sure to replace the .data of the weights and not the weights themselves to preserve the compute graph \n",
        "xlmr_model.get_input_embeddings().weight[-1].data[:] = beemar_embedding "
      ],
      "metadata": {
        "id": "hfDZy6e2-iVv"
      },
      "execution_count": null,
      "outputs": []
    },
    {
      "cell_type": "code",
      "source": [
        "custom_vector = xlmr_model.get_input_embeddings().weight[-1].detach().cpu().numpy()\n",
        "\n",
        "plt.title(\"Randomly Initialized Vector\")\n",
        "plt.hist(custom_vector, bins=50)\n",
        "plt.show()"
      ],
      "metadata": {
        "id": "l1-XwuqXBhJe"
      },
      "execution_count": null,
      "outputs": []
    },
    {
      "cell_type": "markdown",
      "source": [
        "# You do not need the newlo code"
      ],
      "metadata": {
        "id": "nMjuBdWn5fv0"
      }
    },
    {
      "cell_type": "code",
      "execution_count": null,
      "metadata": {
        "id": "2Nf6pPolBzjF"
      },
      "outputs": [],
      "source": [
        "from google.colab import drive\n",
        "drive.mount('/content/gdrive')"
      ]
    },
    {
      "cell_type": "code",
      "execution_count": null,
      "metadata": {
        "id": "7NWq3tW5SmjN"
      },
      "outputs": [],
      "source": [
        "xlmr_model.save_pretrained(\"/content/gdrive/MyDrive/UrduModel\")"
      ]
    },
    {
      "cell_type": "code",
      "execution_count": null,
      "metadata": {
        "id": "jADtc-n0SqUN"
      },
      "outputs": [],
      "source": [
        "#loading a model\n",
        "xlmr_model = XLMRobertaForSequenceClassification.from_pretrained(\"/content/gdrive/MyDrive/UrduModel\", local_files_only=True)"
      ]
    },
    {
      "cell_type": "code",
      "execution_count": null,
      "metadata": {
        "id": "e-3MOCWtSvyd"
      },
      "outputs": [],
      "source": [
        "print(\"Loading model to GPU\")\n",
        "import torch\n",
        "#connect to GPU\n",
        "device = torch.device('cuda')\n",
        "\n",
        "#report the GPu which is granted \n",
        "print('GPU:',torch.cuda.get_device_name(0))\n",
        "\n",
        "#copy the initial model with weights to GPU\n",
        "desc = xlmr_model.to(device)\n",
        "print(\"Done\")"
      ]
    },
    {
      "cell_type": "code",
      "execution_count": null,
      "metadata": {
        "id": "lqxtuN8sSyQ9"
      },
      "outputs": [],
      "source": [
        "xlmr_model.eval()\n",
        "model_predictions=[]\n",
        "true_labels=[]\n",
        "for batch in validation_dataloader:\n",
        "\n",
        "    b_input_ids = batch[0].to(device)\n",
        "    b_input_mask = batch[1].to(device)\n",
        "    b_lables = batch[2].to(device)\n",
        "\n",
        "    with torch.no_grad():\n",
        "      outputs = xlmr_model(b_input_ids,attention_mask = b_input_mask)\n",
        "    logits = outputs.logits\n",
        "    logits=logits.detach().cpu().numpy()\n",
        "    label_ids = b_lables.to('cpu').numpy()\n",
        "    predictions = np.argmax(logits, axis = -1)\n",
        "    #print(b_lables)\n",
        "    #print(predictions)\n",
        "    #print(\"\\n -------------------------- \\n\")\n",
        "    model_predictions.append(logits)\n",
        "    true_labels.append(label_ids)"
      ]
    },
    {
      "cell_type": "code",
      "execution_count": null,
      "metadata": {
        "id": "SEY8fv0QS1W-"
      },
      "outputs": [],
      "source": [
        "#combine the results across all batches\n",
        "#predictions\n",
        "flat_predictions = np.concatenate(model_predictions, axis=0)\n",
        "flat_true_labels = np.concatenate(true_labels, axis=0)\n",
        "\n",
        "##for sample pick the label\n",
        "predicted_labels = np.argmax(flat_predictions, axis=1).flatten()"
      ]
    },
    {
      "cell_type": "code",
      "execution_count": null,
      "metadata": {
        "id": "aWqrN0kZS5S1"
      },
      "outputs": [],
      "source": [
        "# the number of correct predictions to get our accuracy\n",
        "accuracy = (predicted_labels==flat_true_labels).mean()\n",
        "print('XLMR- prediction accuracy',accuracy)"
      ]
    },
    {
      "cell_type": "code",
      "execution_count": null,
      "metadata": {
        "id": "FCCCNBD6S8Js"
      },
      "outputs": [],
      "source": [
        ""
      ]
    }
  ],
  "metadata": {
    "accelerator": "GPU",
    "colab": {
      "background_execution": "on",
      "collapsed_sections": [],
      "name": "Urdu_Dataset_Merging_17/7/22.ipynb",
      "provenance": []
    },
    "gpuClass": "standard",
    "kernelspec": {
      "display_name": "Python 3",
      "name": "python3"
    },
    "language_info": {
      "name": "python"
    },
    "widgets": {
      "application/vnd.jupyter.widget-state+json": {
        "afd1894e94a340e0a0c013178a65bee9": {
          "model_module": "@jupyter-widgets/controls",
          "model_name": "HBoxModel",
          "model_module_version": "1.5.0",
          "state": {
            "_dom_classes": [],
            "_model_module": "@jupyter-widgets/controls",
            "_model_module_version": "1.5.0",
            "_model_name": "HBoxModel",
            "_view_count": null,
            "_view_module": "@jupyter-widgets/controls",
            "_view_module_version": "1.5.0",
            "_view_name": "HBoxView",
            "box_style": "",
            "children": [
              "IPY_MODEL_af31d6c1bf124412b1a8ba6e06640cb9",
              "IPY_MODEL_0696923a1f484bbb9a8ae9af4c532bf9",
              "IPY_MODEL_5f69668140ef4efe9e80b8fad971f2ca"
            ],
            "layout": "IPY_MODEL_ca9862a9890644628a2134d7c5c24ec6"
          }
        },
        "af31d6c1bf124412b1a8ba6e06640cb9": {
          "model_module": "@jupyter-widgets/controls",
          "model_name": "HTMLModel",
          "model_module_version": "1.5.0",
          "state": {
            "_dom_classes": [],
            "_model_module": "@jupyter-widgets/controls",
            "_model_module_version": "1.5.0",
            "_model_name": "HTMLModel",
            "_view_count": null,
            "_view_module": "@jupyter-widgets/controls",
            "_view_module_version": "1.5.0",
            "_view_name": "HTMLView",
            "description": "",
            "description_tooltip": null,
            "layout": "IPY_MODEL_412bfea49f0c402cb38f3633f04fd364",
            "placeholder": "​",
            "style": "IPY_MODEL_d48b23ecbd4f4ea69543a2389a7c867d",
            "value": "Downloading config.json: 100%"
          }
        },
        "0696923a1f484bbb9a8ae9af4c532bf9": {
          "model_module": "@jupyter-widgets/controls",
          "model_name": "FloatProgressModel",
          "model_module_version": "1.5.0",
          "state": {
            "_dom_classes": [],
            "_model_module": "@jupyter-widgets/controls",
            "_model_module_version": "1.5.0",
            "_model_name": "FloatProgressModel",
            "_view_count": null,
            "_view_module": "@jupyter-widgets/controls",
            "_view_module_version": "1.5.0",
            "_view_name": "ProgressView",
            "bar_style": "success",
            "description": "",
            "description_tooltip": null,
            "layout": "IPY_MODEL_325d7146b9e146f194294558c8bb54fb",
            "max": 615,
            "min": 0,
            "orientation": "horizontal",
            "style": "IPY_MODEL_532f51b7142e4493b4e84a6ef2fd8212",
            "value": 615
          }
        },
        "5f69668140ef4efe9e80b8fad971f2ca": {
          "model_module": "@jupyter-widgets/controls",
          "model_name": "HTMLModel",
          "model_module_version": "1.5.0",
          "state": {
            "_dom_classes": [],
            "_model_module": "@jupyter-widgets/controls",
            "_model_module_version": "1.5.0",
            "_model_name": "HTMLModel",
            "_view_count": null,
            "_view_module": "@jupyter-widgets/controls",
            "_view_module_version": "1.5.0",
            "_view_name": "HTMLView",
            "description": "",
            "description_tooltip": null,
            "layout": "IPY_MODEL_10e0573c52a04fd3b19b14f30786903b",
            "placeholder": "​",
            "style": "IPY_MODEL_c4bf416a8e6d4f08b75565e6642946e8",
            "value": " 615/615 [00:00&lt;00:00, 17.9kB/s]"
          }
        },
        "ca9862a9890644628a2134d7c5c24ec6": {
          "model_module": "@jupyter-widgets/base",
          "model_name": "LayoutModel",
          "model_module_version": "1.2.0",
          "state": {
            "_model_module": "@jupyter-widgets/base",
            "_model_module_version": "1.2.0",
            "_model_name": "LayoutModel",
            "_view_count": null,
            "_view_module": "@jupyter-widgets/base",
            "_view_module_version": "1.2.0",
            "_view_name": "LayoutView",
            "align_content": null,
            "align_items": null,
            "align_self": null,
            "border": null,
            "bottom": null,
            "display": null,
            "flex": null,
            "flex_flow": null,
            "grid_area": null,
            "grid_auto_columns": null,
            "grid_auto_flow": null,
            "grid_auto_rows": null,
            "grid_column": null,
            "grid_gap": null,
            "grid_row": null,
            "grid_template_areas": null,
            "grid_template_columns": null,
            "grid_template_rows": null,
            "height": null,
            "justify_content": null,
            "justify_items": null,
            "left": null,
            "margin": null,
            "max_height": null,
            "max_width": null,
            "min_height": null,
            "min_width": null,
            "object_fit": null,
            "object_position": null,
            "order": null,
            "overflow": null,
            "overflow_x": null,
            "overflow_y": null,
            "padding": null,
            "right": null,
            "top": null,
            "visibility": null,
            "width": null
          }
        },
        "412bfea49f0c402cb38f3633f04fd364": {
          "model_module": "@jupyter-widgets/base",
          "model_name": "LayoutModel",
          "model_module_version": "1.2.0",
          "state": {
            "_model_module": "@jupyter-widgets/base",
            "_model_module_version": "1.2.0",
            "_model_name": "LayoutModel",
            "_view_count": null,
            "_view_module": "@jupyter-widgets/base",
            "_view_module_version": "1.2.0",
            "_view_name": "LayoutView",
            "align_content": null,
            "align_items": null,
            "align_self": null,
            "border": null,
            "bottom": null,
            "display": null,
            "flex": null,
            "flex_flow": null,
            "grid_area": null,
            "grid_auto_columns": null,
            "grid_auto_flow": null,
            "grid_auto_rows": null,
            "grid_column": null,
            "grid_gap": null,
            "grid_row": null,
            "grid_template_areas": null,
            "grid_template_columns": null,
            "grid_template_rows": null,
            "height": null,
            "justify_content": null,
            "justify_items": null,
            "left": null,
            "margin": null,
            "max_height": null,
            "max_width": null,
            "min_height": null,
            "min_width": null,
            "object_fit": null,
            "object_position": null,
            "order": null,
            "overflow": null,
            "overflow_x": null,
            "overflow_y": null,
            "padding": null,
            "right": null,
            "top": null,
            "visibility": null,
            "width": null
          }
        },
        "d48b23ecbd4f4ea69543a2389a7c867d": {
          "model_module": "@jupyter-widgets/controls",
          "model_name": "DescriptionStyleModel",
          "model_module_version": "1.5.0",
          "state": {
            "_model_module": "@jupyter-widgets/controls",
            "_model_module_version": "1.5.0",
            "_model_name": "DescriptionStyleModel",
            "_view_count": null,
            "_view_module": "@jupyter-widgets/base",
            "_view_module_version": "1.2.0",
            "_view_name": "StyleView",
            "description_width": ""
          }
        },
        "325d7146b9e146f194294558c8bb54fb": {
          "model_module": "@jupyter-widgets/base",
          "model_name": "LayoutModel",
          "model_module_version": "1.2.0",
          "state": {
            "_model_module": "@jupyter-widgets/base",
            "_model_module_version": "1.2.0",
            "_model_name": "LayoutModel",
            "_view_count": null,
            "_view_module": "@jupyter-widgets/base",
            "_view_module_version": "1.2.0",
            "_view_name": "LayoutView",
            "align_content": null,
            "align_items": null,
            "align_self": null,
            "border": null,
            "bottom": null,
            "display": null,
            "flex": null,
            "flex_flow": null,
            "grid_area": null,
            "grid_auto_columns": null,
            "grid_auto_flow": null,
            "grid_auto_rows": null,
            "grid_column": null,
            "grid_gap": null,
            "grid_row": null,
            "grid_template_areas": null,
            "grid_template_columns": null,
            "grid_template_rows": null,
            "height": null,
            "justify_content": null,
            "justify_items": null,
            "left": null,
            "margin": null,
            "max_height": null,
            "max_width": null,
            "min_height": null,
            "min_width": null,
            "object_fit": null,
            "object_position": null,
            "order": null,
            "overflow": null,
            "overflow_x": null,
            "overflow_y": null,
            "padding": null,
            "right": null,
            "top": null,
            "visibility": null,
            "width": null
          }
        },
        "532f51b7142e4493b4e84a6ef2fd8212": {
          "model_module": "@jupyter-widgets/controls",
          "model_name": "ProgressStyleModel",
          "model_module_version": "1.5.0",
          "state": {
            "_model_module": "@jupyter-widgets/controls",
            "_model_module_version": "1.5.0",
            "_model_name": "ProgressStyleModel",
            "_view_count": null,
            "_view_module": "@jupyter-widgets/base",
            "_view_module_version": "1.2.0",
            "_view_name": "StyleView",
            "bar_color": null,
            "description_width": ""
          }
        },
        "10e0573c52a04fd3b19b14f30786903b": {
          "model_module": "@jupyter-widgets/base",
          "model_name": "LayoutModel",
          "model_module_version": "1.2.0",
          "state": {
            "_model_module": "@jupyter-widgets/base",
            "_model_module_version": "1.2.0",
            "_model_name": "LayoutModel",
            "_view_count": null,
            "_view_module": "@jupyter-widgets/base",
            "_view_module_version": "1.2.0",
            "_view_name": "LayoutView",
            "align_content": null,
            "align_items": null,
            "align_self": null,
            "border": null,
            "bottom": null,
            "display": null,
            "flex": null,
            "flex_flow": null,
            "grid_area": null,
            "grid_auto_columns": null,
            "grid_auto_flow": null,
            "grid_auto_rows": null,
            "grid_column": null,
            "grid_gap": null,
            "grid_row": null,
            "grid_template_areas": null,
            "grid_template_columns": null,
            "grid_template_rows": null,
            "height": null,
            "justify_content": null,
            "justify_items": null,
            "left": null,
            "margin": null,
            "max_height": null,
            "max_width": null,
            "min_height": null,
            "min_width": null,
            "object_fit": null,
            "object_position": null,
            "order": null,
            "overflow": null,
            "overflow_x": null,
            "overflow_y": null,
            "padding": null,
            "right": null,
            "top": null,
            "visibility": null,
            "width": null
          }
        },
        "c4bf416a8e6d4f08b75565e6642946e8": {
          "model_module": "@jupyter-widgets/controls",
          "model_name": "DescriptionStyleModel",
          "model_module_version": "1.5.0",
          "state": {
            "_model_module": "@jupyter-widgets/controls",
            "_model_module_version": "1.5.0",
            "_model_name": "DescriptionStyleModel",
            "_view_count": null,
            "_view_module": "@jupyter-widgets/base",
            "_view_module_version": "1.2.0",
            "_view_name": "StyleView",
            "description_width": ""
          }
        },
        "767929adcdd34bfb92b0e4f08ce11f1a": {
          "model_module": "@jupyter-widgets/controls",
          "model_name": "HBoxModel",
          "model_module_version": "1.5.0",
          "state": {
            "_dom_classes": [],
            "_model_module": "@jupyter-widgets/controls",
            "_model_module_version": "1.5.0",
            "_model_name": "HBoxModel",
            "_view_count": null,
            "_view_module": "@jupyter-widgets/controls",
            "_view_module_version": "1.5.0",
            "_view_name": "HBoxView",
            "box_style": "",
            "children": [
              "IPY_MODEL_2b98a7cf73b04c089ef8227fbf2354ce",
              "IPY_MODEL_e3a0bd216d814ec8afd8a89eb6343b51",
              "IPY_MODEL_9171c1aca3fa4061a6eae3dcf603f87e"
            ],
            "layout": "IPY_MODEL_bf7d2dc6904947e581a384e1a99fb330"
          }
        },
        "2b98a7cf73b04c089ef8227fbf2354ce": {
          "model_module": "@jupyter-widgets/controls",
          "model_name": "HTMLModel",
          "model_module_version": "1.5.0",
          "state": {
            "_dom_classes": [],
            "_model_module": "@jupyter-widgets/controls",
            "_model_module_version": "1.5.0",
            "_model_name": "HTMLModel",
            "_view_count": null,
            "_view_module": "@jupyter-widgets/controls",
            "_view_module_version": "1.5.0",
            "_view_name": "HTMLView",
            "description": "",
            "description_tooltip": null,
            "layout": "IPY_MODEL_3d1d84ef14244946bc6d6a8b6c3d7b3a",
            "placeholder": "​",
            "style": "IPY_MODEL_ace52c151fbb4d13a9c90a917adbdf8e",
            "value": "Downloading sentencepiece.bpe.model: 100%"
          }
        },
        "e3a0bd216d814ec8afd8a89eb6343b51": {
          "model_module": "@jupyter-widgets/controls",
          "model_name": "FloatProgressModel",
          "model_module_version": "1.5.0",
          "state": {
            "_dom_classes": [],
            "_model_module": "@jupyter-widgets/controls",
            "_model_module_version": "1.5.0",
            "_model_name": "FloatProgressModel",
            "_view_count": null,
            "_view_module": "@jupyter-widgets/controls",
            "_view_module_version": "1.5.0",
            "_view_name": "ProgressView",
            "bar_style": "success",
            "description": "",
            "description_tooltip": null,
            "layout": "IPY_MODEL_fa86ce834d9b472ca6a84d8939cc8c71",
            "max": 5069051,
            "min": 0,
            "orientation": "horizontal",
            "style": "IPY_MODEL_2950b0eb97504395ae19bb57017d46ac",
            "value": 5069051
          }
        },
        "9171c1aca3fa4061a6eae3dcf603f87e": {
          "model_module": "@jupyter-widgets/controls",
          "model_name": "HTMLModel",
          "model_module_version": "1.5.0",
          "state": {
            "_dom_classes": [],
            "_model_module": "@jupyter-widgets/controls",
            "_model_module_version": "1.5.0",
            "_model_name": "HTMLModel",
            "_view_count": null,
            "_view_module": "@jupyter-widgets/controls",
            "_view_module_version": "1.5.0",
            "_view_name": "HTMLView",
            "description": "",
            "description_tooltip": null,
            "layout": "IPY_MODEL_d1fc6378d58f45bfb5c2d6b1f22269b8",
            "placeholder": "​",
            "style": "IPY_MODEL_3c867d7a1cfd4324a894ef5f7f39920a",
            "value": " 4.83M/4.83M [00:00&lt;00:00, 5.62MB/s]"
          }
        },
        "bf7d2dc6904947e581a384e1a99fb330": {
          "model_module": "@jupyter-widgets/base",
          "model_name": "LayoutModel",
          "model_module_version": "1.2.0",
          "state": {
            "_model_module": "@jupyter-widgets/base",
            "_model_module_version": "1.2.0",
            "_model_name": "LayoutModel",
            "_view_count": null,
            "_view_module": "@jupyter-widgets/base",
            "_view_module_version": "1.2.0",
            "_view_name": "LayoutView",
            "align_content": null,
            "align_items": null,
            "align_self": null,
            "border": null,
            "bottom": null,
            "display": null,
            "flex": null,
            "flex_flow": null,
            "grid_area": null,
            "grid_auto_columns": null,
            "grid_auto_flow": null,
            "grid_auto_rows": null,
            "grid_column": null,
            "grid_gap": null,
            "grid_row": null,
            "grid_template_areas": null,
            "grid_template_columns": null,
            "grid_template_rows": null,
            "height": null,
            "justify_content": null,
            "justify_items": null,
            "left": null,
            "margin": null,
            "max_height": null,
            "max_width": null,
            "min_height": null,
            "min_width": null,
            "object_fit": null,
            "object_position": null,
            "order": null,
            "overflow": null,
            "overflow_x": null,
            "overflow_y": null,
            "padding": null,
            "right": null,
            "top": null,
            "visibility": null,
            "width": null
          }
        },
        "3d1d84ef14244946bc6d6a8b6c3d7b3a": {
          "model_module": "@jupyter-widgets/base",
          "model_name": "LayoutModel",
          "model_module_version": "1.2.0",
          "state": {
            "_model_module": "@jupyter-widgets/base",
            "_model_module_version": "1.2.0",
            "_model_name": "LayoutModel",
            "_view_count": null,
            "_view_module": "@jupyter-widgets/base",
            "_view_module_version": "1.2.0",
            "_view_name": "LayoutView",
            "align_content": null,
            "align_items": null,
            "align_self": null,
            "border": null,
            "bottom": null,
            "display": null,
            "flex": null,
            "flex_flow": null,
            "grid_area": null,
            "grid_auto_columns": null,
            "grid_auto_flow": null,
            "grid_auto_rows": null,
            "grid_column": null,
            "grid_gap": null,
            "grid_row": null,
            "grid_template_areas": null,
            "grid_template_columns": null,
            "grid_template_rows": null,
            "height": null,
            "justify_content": null,
            "justify_items": null,
            "left": null,
            "margin": null,
            "max_height": null,
            "max_width": null,
            "min_height": null,
            "min_width": null,
            "object_fit": null,
            "object_position": null,
            "order": null,
            "overflow": null,
            "overflow_x": null,
            "overflow_y": null,
            "padding": null,
            "right": null,
            "top": null,
            "visibility": null,
            "width": null
          }
        },
        "ace52c151fbb4d13a9c90a917adbdf8e": {
          "model_module": "@jupyter-widgets/controls",
          "model_name": "DescriptionStyleModel",
          "model_module_version": "1.5.0",
          "state": {
            "_model_module": "@jupyter-widgets/controls",
            "_model_module_version": "1.5.0",
            "_model_name": "DescriptionStyleModel",
            "_view_count": null,
            "_view_module": "@jupyter-widgets/base",
            "_view_module_version": "1.2.0",
            "_view_name": "StyleView",
            "description_width": ""
          }
        },
        "fa86ce834d9b472ca6a84d8939cc8c71": {
          "model_module": "@jupyter-widgets/base",
          "model_name": "LayoutModel",
          "model_module_version": "1.2.0",
          "state": {
            "_model_module": "@jupyter-widgets/base",
            "_model_module_version": "1.2.0",
            "_model_name": "LayoutModel",
            "_view_count": null,
            "_view_module": "@jupyter-widgets/base",
            "_view_module_version": "1.2.0",
            "_view_name": "LayoutView",
            "align_content": null,
            "align_items": null,
            "align_self": null,
            "border": null,
            "bottom": null,
            "display": null,
            "flex": null,
            "flex_flow": null,
            "grid_area": null,
            "grid_auto_columns": null,
            "grid_auto_flow": null,
            "grid_auto_rows": null,
            "grid_column": null,
            "grid_gap": null,
            "grid_row": null,
            "grid_template_areas": null,
            "grid_template_columns": null,
            "grid_template_rows": null,
            "height": null,
            "justify_content": null,
            "justify_items": null,
            "left": null,
            "margin": null,
            "max_height": null,
            "max_width": null,
            "min_height": null,
            "min_width": null,
            "object_fit": null,
            "object_position": null,
            "order": null,
            "overflow": null,
            "overflow_x": null,
            "overflow_y": null,
            "padding": null,
            "right": null,
            "top": null,
            "visibility": null,
            "width": null
          }
        },
        "2950b0eb97504395ae19bb57017d46ac": {
          "model_module": "@jupyter-widgets/controls",
          "model_name": "ProgressStyleModel",
          "model_module_version": "1.5.0",
          "state": {
            "_model_module": "@jupyter-widgets/controls",
            "_model_module_version": "1.5.0",
            "_model_name": "ProgressStyleModel",
            "_view_count": null,
            "_view_module": "@jupyter-widgets/base",
            "_view_module_version": "1.2.0",
            "_view_name": "StyleView",
            "bar_color": null,
            "description_width": ""
          }
        },
        "d1fc6378d58f45bfb5c2d6b1f22269b8": {
          "model_module": "@jupyter-widgets/base",
          "model_name": "LayoutModel",
          "model_module_version": "1.2.0",
          "state": {
            "_model_module": "@jupyter-widgets/base",
            "_model_module_version": "1.2.0",
            "_model_name": "LayoutModel",
            "_view_count": null,
            "_view_module": "@jupyter-widgets/base",
            "_view_module_version": "1.2.0",
            "_view_name": "LayoutView",
            "align_content": null,
            "align_items": null,
            "align_self": null,
            "border": null,
            "bottom": null,
            "display": null,
            "flex": null,
            "flex_flow": null,
            "grid_area": null,
            "grid_auto_columns": null,
            "grid_auto_flow": null,
            "grid_auto_rows": null,
            "grid_column": null,
            "grid_gap": null,
            "grid_row": null,
            "grid_template_areas": null,
            "grid_template_columns": null,
            "grid_template_rows": null,
            "height": null,
            "justify_content": null,
            "justify_items": null,
            "left": null,
            "margin": null,
            "max_height": null,
            "max_width": null,
            "min_height": null,
            "min_width": null,
            "object_fit": null,
            "object_position": null,
            "order": null,
            "overflow": null,
            "overflow_x": null,
            "overflow_y": null,
            "padding": null,
            "right": null,
            "top": null,
            "visibility": null,
            "width": null
          }
        },
        "3c867d7a1cfd4324a894ef5f7f39920a": {
          "model_module": "@jupyter-widgets/controls",
          "model_name": "DescriptionStyleModel",
          "model_module_version": "1.5.0",
          "state": {
            "_model_module": "@jupyter-widgets/controls",
            "_model_module_version": "1.5.0",
            "_model_name": "DescriptionStyleModel",
            "_view_count": null,
            "_view_module": "@jupyter-widgets/base",
            "_view_module_version": "1.2.0",
            "_view_name": "StyleView",
            "description_width": ""
          }
        },
        "f2672e198d624130b6908556a76fde70": {
          "model_module": "@jupyter-widgets/controls",
          "model_name": "HBoxModel",
          "model_module_version": "1.5.0",
          "state": {
            "_dom_classes": [],
            "_model_module": "@jupyter-widgets/controls",
            "_model_module_version": "1.5.0",
            "_model_name": "HBoxModel",
            "_view_count": null,
            "_view_module": "@jupyter-widgets/controls",
            "_view_module_version": "1.5.0",
            "_view_name": "HBoxView",
            "box_style": "",
            "children": [
              "IPY_MODEL_6533d08f858c477d98406de8da06fa32",
              "IPY_MODEL_d628d9c2d7f142c6ae45839fa84303ee",
              "IPY_MODEL_f89c67a2640c48f08074228491be8a5b"
            ],
            "layout": "IPY_MODEL_2f65d32955fd422e819b3b0c6c5f4645"
          }
        },
        "6533d08f858c477d98406de8da06fa32": {
          "model_module": "@jupyter-widgets/controls",
          "model_name": "HTMLModel",
          "model_module_version": "1.5.0",
          "state": {
            "_dom_classes": [],
            "_model_module": "@jupyter-widgets/controls",
            "_model_module_version": "1.5.0",
            "_model_name": "HTMLModel",
            "_view_count": null,
            "_view_module": "@jupyter-widgets/controls",
            "_view_module_version": "1.5.0",
            "_view_name": "HTMLView",
            "description": "",
            "description_tooltip": null,
            "layout": "IPY_MODEL_d2accb613b6f4d39a6da311176bdb040",
            "placeholder": "​",
            "style": "IPY_MODEL_bc89a8823680400ca399aeb0638b6ea1",
            "value": "Downloading tokenizer.json: 100%"
          }
        },
        "d628d9c2d7f142c6ae45839fa84303ee": {
          "model_module": "@jupyter-widgets/controls",
          "model_name": "FloatProgressModel",
          "model_module_version": "1.5.0",
          "state": {
            "_dom_classes": [],
            "_model_module": "@jupyter-widgets/controls",
            "_model_module_version": "1.5.0",
            "_model_name": "FloatProgressModel",
            "_view_count": null,
            "_view_module": "@jupyter-widgets/controls",
            "_view_module_version": "1.5.0",
            "_view_name": "ProgressView",
            "bar_style": "success",
            "description": "",
            "description_tooltip": null,
            "layout": "IPY_MODEL_9cd6d822297742a3b03e5f966673bd48",
            "max": 9096718,
            "min": 0,
            "orientation": "horizontal",
            "style": "IPY_MODEL_d568884880b949a7908cf954902ad163",
            "value": 9096718
          }
        },
        "f89c67a2640c48f08074228491be8a5b": {
          "model_module": "@jupyter-widgets/controls",
          "model_name": "HTMLModel",
          "model_module_version": "1.5.0",
          "state": {
            "_dom_classes": [],
            "_model_module": "@jupyter-widgets/controls",
            "_model_module_version": "1.5.0",
            "_model_name": "HTMLModel",
            "_view_count": null,
            "_view_module": "@jupyter-widgets/controls",
            "_view_module_version": "1.5.0",
            "_view_name": "HTMLView",
            "description": "",
            "description_tooltip": null,
            "layout": "IPY_MODEL_f7d454aaed814687b4f8e1628eba7d0f",
            "placeholder": "​",
            "style": "IPY_MODEL_524bce02c3ec4ad99f1f7994d9d67d7f",
            "value": " 8.68M/8.68M [00:00&lt;00:00, 28.6MB/s]"
          }
        },
        "2f65d32955fd422e819b3b0c6c5f4645": {
          "model_module": "@jupyter-widgets/base",
          "model_name": "LayoutModel",
          "model_module_version": "1.2.0",
          "state": {
            "_model_module": "@jupyter-widgets/base",
            "_model_module_version": "1.2.0",
            "_model_name": "LayoutModel",
            "_view_count": null,
            "_view_module": "@jupyter-widgets/base",
            "_view_module_version": "1.2.0",
            "_view_name": "LayoutView",
            "align_content": null,
            "align_items": null,
            "align_self": null,
            "border": null,
            "bottom": null,
            "display": null,
            "flex": null,
            "flex_flow": null,
            "grid_area": null,
            "grid_auto_columns": null,
            "grid_auto_flow": null,
            "grid_auto_rows": null,
            "grid_column": null,
            "grid_gap": null,
            "grid_row": null,
            "grid_template_areas": null,
            "grid_template_columns": null,
            "grid_template_rows": null,
            "height": null,
            "justify_content": null,
            "justify_items": null,
            "left": null,
            "margin": null,
            "max_height": null,
            "max_width": null,
            "min_height": null,
            "min_width": null,
            "object_fit": null,
            "object_position": null,
            "order": null,
            "overflow": null,
            "overflow_x": null,
            "overflow_y": null,
            "padding": null,
            "right": null,
            "top": null,
            "visibility": null,
            "width": null
          }
        },
        "d2accb613b6f4d39a6da311176bdb040": {
          "model_module": "@jupyter-widgets/base",
          "model_name": "LayoutModel",
          "model_module_version": "1.2.0",
          "state": {
            "_model_module": "@jupyter-widgets/base",
            "_model_module_version": "1.2.0",
            "_model_name": "LayoutModel",
            "_view_count": null,
            "_view_module": "@jupyter-widgets/base",
            "_view_module_version": "1.2.0",
            "_view_name": "LayoutView",
            "align_content": null,
            "align_items": null,
            "align_self": null,
            "border": null,
            "bottom": null,
            "display": null,
            "flex": null,
            "flex_flow": null,
            "grid_area": null,
            "grid_auto_columns": null,
            "grid_auto_flow": null,
            "grid_auto_rows": null,
            "grid_column": null,
            "grid_gap": null,
            "grid_row": null,
            "grid_template_areas": null,
            "grid_template_columns": null,
            "grid_template_rows": null,
            "height": null,
            "justify_content": null,
            "justify_items": null,
            "left": null,
            "margin": null,
            "max_height": null,
            "max_width": null,
            "min_height": null,
            "min_width": null,
            "object_fit": null,
            "object_position": null,
            "order": null,
            "overflow": null,
            "overflow_x": null,
            "overflow_y": null,
            "padding": null,
            "right": null,
            "top": null,
            "visibility": null,
            "width": null
          }
        },
        "bc89a8823680400ca399aeb0638b6ea1": {
          "model_module": "@jupyter-widgets/controls",
          "model_name": "DescriptionStyleModel",
          "model_module_version": "1.5.0",
          "state": {
            "_model_module": "@jupyter-widgets/controls",
            "_model_module_version": "1.5.0",
            "_model_name": "DescriptionStyleModel",
            "_view_count": null,
            "_view_module": "@jupyter-widgets/base",
            "_view_module_version": "1.2.0",
            "_view_name": "StyleView",
            "description_width": ""
          }
        },
        "9cd6d822297742a3b03e5f966673bd48": {
          "model_module": "@jupyter-widgets/base",
          "model_name": "LayoutModel",
          "model_module_version": "1.2.0",
          "state": {
            "_model_module": "@jupyter-widgets/base",
            "_model_module_version": "1.2.0",
            "_model_name": "LayoutModel",
            "_view_count": null,
            "_view_module": "@jupyter-widgets/base",
            "_view_module_version": "1.2.0",
            "_view_name": "LayoutView",
            "align_content": null,
            "align_items": null,
            "align_self": null,
            "border": null,
            "bottom": null,
            "display": null,
            "flex": null,
            "flex_flow": null,
            "grid_area": null,
            "grid_auto_columns": null,
            "grid_auto_flow": null,
            "grid_auto_rows": null,
            "grid_column": null,
            "grid_gap": null,
            "grid_row": null,
            "grid_template_areas": null,
            "grid_template_columns": null,
            "grid_template_rows": null,
            "height": null,
            "justify_content": null,
            "justify_items": null,
            "left": null,
            "margin": null,
            "max_height": null,
            "max_width": null,
            "min_height": null,
            "min_width": null,
            "object_fit": null,
            "object_position": null,
            "order": null,
            "overflow": null,
            "overflow_x": null,
            "overflow_y": null,
            "padding": null,
            "right": null,
            "top": null,
            "visibility": null,
            "width": null
          }
        },
        "d568884880b949a7908cf954902ad163": {
          "model_module": "@jupyter-widgets/controls",
          "model_name": "ProgressStyleModel",
          "model_module_version": "1.5.0",
          "state": {
            "_model_module": "@jupyter-widgets/controls",
            "_model_module_version": "1.5.0",
            "_model_name": "ProgressStyleModel",
            "_view_count": null,
            "_view_module": "@jupyter-widgets/base",
            "_view_module_version": "1.2.0",
            "_view_name": "StyleView",
            "bar_color": null,
            "description_width": ""
          }
        },
        "f7d454aaed814687b4f8e1628eba7d0f": {
          "model_module": "@jupyter-widgets/base",
          "model_name": "LayoutModel",
          "model_module_version": "1.2.0",
          "state": {
            "_model_module": "@jupyter-widgets/base",
            "_model_module_version": "1.2.0",
            "_model_name": "LayoutModel",
            "_view_count": null,
            "_view_module": "@jupyter-widgets/base",
            "_view_module_version": "1.2.0",
            "_view_name": "LayoutView",
            "align_content": null,
            "align_items": null,
            "align_self": null,
            "border": null,
            "bottom": null,
            "display": null,
            "flex": null,
            "flex_flow": null,
            "grid_area": null,
            "grid_auto_columns": null,
            "grid_auto_flow": null,
            "grid_auto_rows": null,
            "grid_column": null,
            "grid_gap": null,
            "grid_row": null,
            "grid_template_areas": null,
            "grid_template_columns": null,
            "grid_template_rows": null,
            "height": null,
            "justify_content": null,
            "justify_items": null,
            "left": null,
            "margin": null,
            "max_height": null,
            "max_width": null,
            "min_height": null,
            "min_width": null,
            "object_fit": null,
            "object_position": null,
            "order": null,
            "overflow": null,
            "overflow_x": null,
            "overflow_y": null,
            "padding": null,
            "right": null,
            "top": null,
            "visibility": null,
            "width": null
          }
        },
        "524bce02c3ec4ad99f1f7994d9d67d7f": {
          "model_module": "@jupyter-widgets/controls",
          "model_name": "DescriptionStyleModel",
          "model_module_version": "1.5.0",
          "state": {
            "_model_module": "@jupyter-widgets/controls",
            "_model_module_version": "1.5.0",
            "_model_name": "DescriptionStyleModel",
            "_view_count": null,
            "_view_module": "@jupyter-widgets/base",
            "_view_module_version": "1.2.0",
            "_view_name": "StyleView",
            "description_width": ""
          }
        },
        "b8a9f8101c5b4655adbd6393ad433d1d": {
          "model_module": "@jupyter-widgets/controls",
          "model_name": "HBoxModel",
          "model_module_version": "1.5.0",
          "state": {
            "_dom_classes": [],
            "_model_module": "@jupyter-widgets/controls",
            "_model_module_version": "1.5.0",
            "_model_name": "HBoxModel",
            "_view_count": null,
            "_view_module": "@jupyter-widgets/controls",
            "_view_module_version": "1.5.0",
            "_view_name": "HBoxView",
            "box_style": "",
            "children": [
              "IPY_MODEL_b131263099d749c5b9a257a9ea07d22d",
              "IPY_MODEL_49b411d1bcea4a0c86eb4b7642acddc8",
              "IPY_MODEL_8c190b9e0e6649e386124f5c3c7a055d"
            ],
            "layout": "IPY_MODEL_fb982fe1516a427987b15f1f842c4e1a"
          }
        },
        "b131263099d749c5b9a257a9ea07d22d": {
          "model_module": "@jupyter-widgets/controls",
          "model_name": "HTMLModel",
          "model_module_version": "1.5.0",
          "state": {
            "_dom_classes": [],
            "_model_module": "@jupyter-widgets/controls",
            "_model_module_version": "1.5.0",
            "_model_name": "HTMLModel",
            "_view_count": null,
            "_view_module": "@jupyter-widgets/controls",
            "_view_module_version": "1.5.0",
            "_view_name": "HTMLView",
            "description": "",
            "description_tooltip": null,
            "layout": "IPY_MODEL_c69023dc9e2b4a0d99bc9cca50b2a3ce",
            "placeholder": "​",
            "style": "IPY_MODEL_7a0b7405023a4b0a9f11c3c739f933e4",
            "value": "Downloading pytorch_model.bin:  44%"
          }
        },
        "49b411d1bcea4a0c86eb4b7642acddc8": {
          "model_module": "@jupyter-widgets/controls",
          "model_name": "FloatProgressModel",
          "model_module_version": "1.5.0",
          "state": {
            "_dom_classes": [],
            "_model_module": "@jupyter-widgets/controls",
            "_model_module_version": "1.5.0",
            "_model_name": "FloatProgressModel",
            "_view_count": null,
            "_view_module": "@jupyter-widgets/controls",
            "_view_module_version": "1.5.0",
            "_view_name": "ProgressView",
            "bar_style": "",
            "description": "",
            "description_tooltip": null,
            "layout": "IPY_MODEL_3cfa600aaa6346a7a6218b44cb5cbf51",
            "max": 1115590446,
            "min": 0,
            "orientation": "horizontal",
            "style": "IPY_MODEL_71df6bd6c59b459ebff2a8db001bb8f0",
            "value": 486840320
          }
        },
        "8c190b9e0e6649e386124f5c3c7a055d": {
          "model_module": "@jupyter-widgets/controls",
          "model_name": "HTMLModel",
          "model_module_version": "1.5.0",
          "state": {
            "_dom_classes": [],
            "_model_module": "@jupyter-widgets/controls",
            "_model_module_version": "1.5.0",
            "_model_name": "HTMLModel",
            "_view_count": null,
            "_view_module": "@jupyter-widgets/controls",
            "_view_module_version": "1.5.0",
            "_view_name": "HTMLView",
            "description": "",
            "description_tooltip": null,
            "layout": "IPY_MODEL_a99b1a9840534af6a7b92e9c051eccc6",
            "placeholder": "​",
            "style": "IPY_MODEL_4d8c14d648a84830900f8f207b76a0a6",
            "value": " 464M/1.04G [00:35&lt;00:21, 29.1MB/s]"
          }
        },
        "fb982fe1516a427987b15f1f842c4e1a": {
          "model_module": "@jupyter-widgets/base",
          "model_name": "LayoutModel",
          "model_module_version": "1.2.0",
          "state": {
            "_model_module": "@jupyter-widgets/base",
            "_model_module_version": "1.2.0",
            "_model_name": "LayoutModel",
            "_view_count": null,
            "_view_module": "@jupyter-widgets/base",
            "_view_module_version": "1.2.0",
            "_view_name": "LayoutView",
            "align_content": null,
            "align_items": null,
            "align_self": null,
            "border": null,
            "bottom": null,
            "display": null,
            "flex": null,
            "flex_flow": null,
            "grid_area": null,
            "grid_auto_columns": null,
            "grid_auto_flow": null,
            "grid_auto_rows": null,
            "grid_column": null,
            "grid_gap": null,
            "grid_row": null,
            "grid_template_areas": null,
            "grid_template_columns": null,
            "grid_template_rows": null,
            "height": null,
            "justify_content": null,
            "justify_items": null,
            "left": null,
            "margin": null,
            "max_height": null,
            "max_width": null,
            "min_height": null,
            "min_width": null,
            "object_fit": null,
            "object_position": null,
            "order": null,
            "overflow": null,
            "overflow_x": null,
            "overflow_y": null,
            "padding": null,
            "right": null,
            "top": null,
            "visibility": null,
            "width": null
          }
        },
        "c69023dc9e2b4a0d99bc9cca50b2a3ce": {
          "model_module": "@jupyter-widgets/base",
          "model_name": "LayoutModel",
          "model_module_version": "1.2.0",
          "state": {
            "_model_module": "@jupyter-widgets/base",
            "_model_module_version": "1.2.0",
            "_model_name": "LayoutModel",
            "_view_count": null,
            "_view_module": "@jupyter-widgets/base",
            "_view_module_version": "1.2.0",
            "_view_name": "LayoutView",
            "align_content": null,
            "align_items": null,
            "align_self": null,
            "border": null,
            "bottom": null,
            "display": null,
            "flex": null,
            "flex_flow": null,
            "grid_area": null,
            "grid_auto_columns": null,
            "grid_auto_flow": null,
            "grid_auto_rows": null,
            "grid_column": null,
            "grid_gap": null,
            "grid_row": null,
            "grid_template_areas": null,
            "grid_template_columns": null,
            "grid_template_rows": null,
            "height": null,
            "justify_content": null,
            "justify_items": null,
            "left": null,
            "margin": null,
            "max_height": null,
            "max_width": null,
            "min_height": null,
            "min_width": null,
            "object_fit": null,
            "object_position": null,
            "order": null,
            "overflow": null,
            "overflow_x": null,
            "overflow_y": null,
            "padding": null,
            "right": null,
            "top": null,
            "visibility": null,
            "width": null
          }
        },
        "7a0b7405023a4b0a9f11c3c739f933e4": {
          "model_module": "@jupyter-widgets/controls",
          "model_name": "DescriptionStyleModel",
          "model_module_version": "1.5.0",
          "state": {
            "_model_module": "@jupyter-widgets/controls",
            "_model_module_version": "1.5.0",
            "_model_name": "DescriptionStyleModel",
            "_view_count": null,
            "_view_module": "@jupyter-widgets/base",
            "_view_module_version": "1.2.0",
            "_view_name": "StyleView",
            "description_width": ""
          }
        },
        "3cfa600aaa6346a7a6218b44cb5cbf51": {
          "model_module": "@jupyter-widgets/base",
          "model_name": "LayoutModel",
          "model_module_version": "1.2.0",
          "state": {
            "_model_module": "@jupyter-widgets/base",
            "_model_module_version": "1.2.0",
            "_model_name": "LayoutModel",
            "_view_count": null,
            "_view_module": "@jupyter-widgets/base",
            "_view_module_version": "1.2.0",
            "_view_name": "LayoutView",
            "align_content": null,
            "align_items": null,
            "align_self": null,
            "border": null,
            "bottom": null,
            "display": null,
            "flex": null,
            "flex_flow": null,
            "grid_area": null,
            "grid_auto_columns": null,
            "grid_auto_flow": null,
            "grid_auto_rows": null,
            "grid_column": null,
            "grid_gap": null,
            "grid_row": null,
            "grid_template_areas": null,
            "grid_template_columns": null,
            "grid_template_rows": null,
            "height": null,
            "justify_content": null,
            "justify_items": null,
            "left": null,
            "margin": null,
            "max_height": null,
            "max_width": null,
            "min_height": null,
            "min_width": null,
            "object_fit": null,
            "object_position": null,
            "order": null,
            "overflow": null,
            "overflow_x": null,
            "overflow_y": null,
            "padding": null,
            "right": null,
            "top": null,
            "visibility": null,
            "width": null
          }
        },
        "71df6bd6c59b459ebff2a8db001bb8f0": {
          "model_module": "@jupyter-widgets/controls",
          "model_name": "ProgressStyleModel",
          "model_module_version": "1.5.0",
          "state": {
            "_model_module": "@jupyter-widgets/controls",
            "_model_module_version": "1.5.0",
            "_model_name": "ProgressStyleModel",
            "_view_count": null,
            "_view_module": "@jupyter-widgets/base",
            "_view_module_version": "1.2.0",
            "_view_name": "StyleView",
            "bar_color": null,
            "description_width": ""
          }
        },
        "a99b1a9840534af6a7b92e9c051eccc6": {
          "model_module": "@jupyter-widgets/base",
          "model_name": "LayoutModel",
          "model_module_version": "1.2.0",
          "state": {
            "_model_module": "@jupyter-widgets/base",
            "_model_module_version": "1.2.0",
            "_model_name": "LayoutModel",
            "_view_count": null,
            "_view_module": "@jupyter-widgets/base",
            "_view_module_version": "1.2.0",
            "_view_name": "LayoutView",
            "align_content": null,
            "align_items": null,
            "align_self": null,
            "border": null,
            "bottom": null,
            "display": null,
            "flex": null,
            "flex_flow": null,
            "grid_area": null,
            "grid_auto_columns": null,
            "grid_auto_flow": null,
            "grid_auto_rows": null,
            "grid_column": null,
            "grid_gap": null,
            "grid_row": null,
            "grid_template_areas": null,
            "grid_template_columns": null,
            "grid_template_rows": null,
            "height": null,
            "justify_content": null,
            "justify_items": null,
            "left": null,
            "margin": null,
            "max_height": null,
            "max_width": null,
            "min_height": null,
            "min_width": null,
            "object_fit": null,
            "object_position": null,
            "order": null,
            "overflow": null,
            "overflow_x": null,
            "overflow_y": null,
            "padding": null,
            "right": null,
            "top": null,
            "visibility": null,
            "width": null
          }
        },
        "4d8c14d648a84830900f8f207b76a0a6": {
          "model_module": "@jupyter-widgets/controls",
          "model_name": "DescriptionStyleModel",
          "model_module_version": "1.5.0",
          "state": {
            "_model_module": "@jupyter-widgets/controls",
            "_model_module_version": "1.5.0",
            "_model_name": "DescriptionStyleModel",
            "_view_count": null,
            "_view_module": "@jupyter-widgets/base",
            "_view_module_version": "1.2.0",
            "_view_name": "StyleView",
            "description_width": ""
          }
        }
      }
    }
  },
  "nbformat": 4,
  "nbformat_minor": 0
}